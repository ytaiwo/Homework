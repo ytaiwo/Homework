{
 "cells": [
  {
   "cell_type": "code",
   "execution_count": 1,
   "metadata": {},
   "outputs": [],
   "source": [
    "og_list=[2, 4, 6, 8, 10, 12, 14]"
   ]
  },
  {
   "cell_type": "code",
   "execution_count": 8,
   "metadata": {},
   "outputs": [
    {
     "data": {
      "text/plain": [
       "[1.3333333333333333,\n",
       " 2.6666666666666665,\n",
       " 4.0,\n",
       " 5.333333333333333,\n",
       " 6.666666666666667,\n",
       " 8.0,\n",
       " 9.333333333333334]"
      ]
     },
     "execution_count": 8,
     "metadata": {},
     "output_type": "execute_result"
    }
   ],
   "source": [
    "new_list = [og_list[i] * 2/3 for i in range(len(og_list))]\n",
    "new_list"
   ]
  },
  {
   "cell_type": "code",
   "execution_count": 2,
   "metadata": {},
   "outputs": [],
   "source": [
    "dict = {'Apples': 1500, \n",
    "        'Cranberries': 2000, \n",
    "        'Pears': 2500, \n",
    "        'Cherries': 1600, \n",
    "        'Plums':2400, \n",
    "        'Peaches':13600, \n",
    "        'Oranges': 7}\n"
   ]
  },
  {
   "cell_type": "code",
   "execution_count": 4,
   "metadata": {},
   "outputs": [
    {
     "data": {
      "text/plain": [
       "{'apples': 1500,\n",
       " 'cranberries': 2000,\n",
       " 'pears': 2500,\n",
       " 'cherries': 1600,\n",
       " 'plums': 2400,\n",
       " 'peaches': 13600,\n",
       " 'oranges': 7}"
      ]
     },
     "execution_count": 4,
     "metadata": {},
     "output_type": "execute_result"
    }
   ],
   "source": [
    "lowercase = {a.lower(): b for a, b in dict.items()}\n",
    "lowercase"
   ]
  },
  {
   "cell_type": "code",
   "execution_count": null,
   "metadata": {},
   "outputs": [],
   "source": []
  }
 ],
 "metadata": {
  "kernelspec": {
   "display_name": "Python 3",
   "language": "python",
   "name": "python3"
  },
  "language_info": {
   "codemirror_mode": {
    "name": "ipython",
    "version": 3
   },
   "file_extension": ".py",
   "mimetype": "text/x-python",
   "name": "python",
   "nbconvert_exporter": "python",
   "pygments_lexer": "ipython3",
   "version": "3.8.5"
  }
 },
 "nbformat": 4,
 "nbformat_minor": 4
}
