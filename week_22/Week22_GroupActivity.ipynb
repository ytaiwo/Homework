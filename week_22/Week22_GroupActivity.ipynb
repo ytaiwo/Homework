{
 "cells": [
  {
   "cell_type": "markdown",
   "metadata": {},
   "source": [
    "1. Use Splinter and/or Beautiful Soup to scrape https://www.dndbeyond.com/classes, and pull out all class names. Store these in a dataframe."
   ]
  },
  {
   "cell_type": "code",
   "execution_count": 5,
   "metadata": {},
   "outputs": [
    {
     "data": {
      "text/plain": [
       "<Response [403]>"
      ]
     },
     "execution_count": 5,
     "metadata": {},
     "output_type": "execute_result"
    }
   ],
   "source": [
    "from bs4 import BeautifulSoup as bs\n",
    "import requests\n",
    "import pandas as pd\n",
    "\n",
    "url = \"https://www.dndbeyond.com/classes\"\n",
    "\n",
    "response = requests.get(url)\n",
    "response"
   ]
  },
  {
   "cell_type": "code",
   "execution_count": 6,
   "metadata": {
    "scrolled": true
   },
   "outputs": [
    {
     "name": "stdout",
     "output_type": "stream",
     "text": [
      "<!DOCTYPE html>\n",
      "<html lang=\"en\">\n",
      " <head>\n",
      "  <meta charset=\"utf-8\"/>\n",
      "  <meta content=\"width=device-width, initial-scale=1\" name=\"viewport\"/>\n",
      "  <title>\n",
      "   Access to this page has been denied.\n",
      "  </title>\n",
      "  <link href=\"https://fonts.googleapis.com/css?family=Open+Sans:300\" rel=\"stylesheet\"/>\n",
      "  <style>\n",
      "   html, body { margin: 0; padding: 0; font-family: 'Open Sans', sans-serif; color: #000; } a { color: #c5c5c5; text-decoration: none; } .container { align-items: center; display: flex; flex: 1; justify-content: space-between; flex-direction: column; height: 100%; } .container > div { width: 100%; display: flex; justify-content: center; } .container > div > div { display: flex; width: 80%; } .customer-logo-wrapper { padding-top: 2rem; flex-grow: 0; background-color: #fff; visibility: visible; } .customer-logo { border-bottom: 1px solid #000; } .customer-logo > img { padding-bottom: 1rem; max-height: 50px; max-width: 100%; } .page-title-wrapper { flex-grow: 2; } .page-title { flex-direction: column-reverse; } .content-wrapper { flex-grow: 5; } .content { flex-direction: column; } .page-footer-wrapper { align-items: center; flex-grow: 0.2; background-color: #000; color: #c5c5c5; font-size: 70%; } @media (min-width: 768px) { html, body { height: 100%; } }\n",
      "  </style>\n",
      "  <!-- Custom CSS -->\n",
      "  <link href=\"https://media-waterdeep.cursecdn.com/attachments/px.css\" rel=\"stylesheet\"/>\n",
      " </head>\n",
      " <body>\n",
      "  <section class=\"container\">\n",
      "   <div class=\"customer-logo-wrapper\">\n",
      "    <div class=\"customer-logo\">\n",
      "     <img alt=\"Logo\" src=\"https://www.dndbeyond.com/content/skins/Waterdeep/images/dnd-beyond-logo-black.svg\"/>\n",
      "    </div>\n",
      "   </div>\n",
      "   <div class=\"page-title-wrapper\">\n",
      "    <div class=\"page-title\">\n",
      "     <h1>\n",
      "      Please verify you are a human\n",
      "     </h1>\n",
      "    </div>\n",
      "   </div>\n",
      "   <div class=\"content-wrapper\">\n",
      "    <div class=\"content\">\n",
      "     <div id=\"px-captcha\">\n",
      "     </div>\n",
      "     <p>\n",
      "      Access to this page has been denied because we believe you are using automation tools to browse the website.\n",
      "     </p>\n",
      "     <p>\n",
      "      This may happen as a result of the following:\n",
      "     </p>\n",
      "     <ul>\n",
      "      <li>\n",
      "       Javascript is disabled or blocked by an extension (ad blockers for example)\n",
      "      </li>\n",
      "      <li>\n",
      "       Your browser does not support cookies\n",
      "      </li>\n",
      "     </ul>\n",
      "     <p>\n",
      "      Please make sure that Javascript and cookies are enabled on your browser and that you are not blocking them from loading.\n",
      "     </p>\n",
      "     <p>\n",
      "      Reference ID: #a854b3a0-f008-11eb-a7fe-c32a5a6d32c8__a854b3a0-f008-11eb-a7fe-c32a5a6d32c8\n",
      "     </p>\n",
      "    </div>\n",
      "   </div>\n",
      "   <div class=\"page-footer-wrapper\">\n",
      "    <div class=\"page-footer\">\n",
      "     <p>\n",
      "      Powered by\n",
      "      <a href=\"https://www.perimeterx.com/whywasiblocked\">\n",
      "       PerimeterX\n",
      "      </a>\n",
      "      , Inc.\n",
      "     </p>\n",
      "    </div>\n",
      "   </div>\n",
      "  </section>\n",
      "  <!-- Px -->\n",
      "  <script>\n",
      "   window._pxAppId = 'PXcNj12cyX'; window._pxJsClientSrc = '/cNj12cyX/init.js'; window._pxFirstPartyEnabled = true; window._pxVid = ''; window._pxUuid = 'a854b3a0-f008-11eb-a7fe-c32a5a6d32c8__a854b3a0-f008-11eb-a7fe-c32a5a6d32c8'; window._pxHostUrl = '/cNj12cyX/xhr';\n",
      "  </script>\n",
      "  <script>\n",
      "   var s = document.createElement('script'); s.src = '/cNj12cyX/captcha/captcha.js?a=c&u=a854b3a0-f008-11eb-a7fe-c32a5a6d32c8__a854b3a0-f008-11eb-a7fe-c32a5a6d32c8&v=&m=0'; var p = document.getElementsByTagName('head')[0]; p.insertBefore(s, null); if (true ){s.onerror = function () {s = document.createElement('script'); var suffixIndex = '/cNj12cyX/captcha/captcha.js?a=c&u=a854b3a0-f008-11eb-a7fe-c32a5a6d32c8__a854b3a0-f008-11eb-a7fe-c32a5a6d32c8&v=&m=0'.indexOf('/captcha.js'); var temperedBlockScript = '/cNj12cyX/captcha/captcha.js?a=c&u=a854b3a0-f008-11eb-a7fe-c32a5a6d32c8__a854b3a0-f008-11eb-a7fe-c32a5a6d32c8&v=&m=0'.substring(suffixIndex); s.src = '//captcha.px-cdn.net/PXcNj12cyX' + temperedBlockScript; p.parentNode.insertBefore(s, p);};}\n",
      "  </script>\n",
      "  <!-- Custom Script -->\n",
      " </body>\n",
      "</html>\n"
     ]
    }
   ],
   "source": [
    "soup = bs(response.text,'html.parser')\n",
    "print(soup.prettify())"
   ]
  },
  {
   "cell_type": "code",
   "execution_count": 9,
   "metadata": {},
   "outputs": [
    {
     "name": "stderr",
     "output_type": "stream",
     "text": [
      "\n",
      "\n",
      "====== WebDriver manager ======\n",
      "Current google-chrome version is 92.0.4515\n",
      "Get LATEST driver version for 92.0.4515\n",
      "Driver [/Users/yewandetaiwo/.wdm/drivers/chromedriver/mac64/92.0.4515.43/chromedriver] found in cache\n"
     ]
    }
   ],
   "source": [
    "from splinter import Browser\n",
    "from webdriver_manager.chrome import ChromeDriverManager\n",
    "executable_path = {'executable_path': ChromeDriverManager().install()}\n",
    "browser = Browser('chrome', **executable_path, headless=False)\n",
    "url = 'http://dndbeyond.com/classes'\n",
    "browser.visit(url)"
   ]
  },
  {
   "cell_type": "code",
   "execution_count": 17,
   "metadata": {
    "scrolled": true
   },
   "outputs": [
    {
     "data": {
      "text/plain": [
       "[<h3 class=\"listing-card__title\">\n",
       "                         Barbarian\n",
       "                     </h3>,\n",
       " <h3 class=\"listing-card__title\">\n",
       "                         Bard\n",
       "                     </h3>,\n",
       " <h3 class=\"listing-card__title\">\n",
       "                         Cleric\n",
       "                     </h3>,\n",
       " <h3 class=\"listing-card__title\">\n",
       "                         Druid\n",
       "                     </h3>,\n",
       " <h3 class=\"listing-card__title\">\n",
       "                         Fighter\n",
       "                     </h3>,\n",
       " <h3 class=\"listing-card__title\">\n",
       "                         Monk\n",
       "                     </h3>,\n",
       " <h3 class=\"listing-card__title\">\n",
       "                         Paladin\n",
       "                     </h3>,\n",
       " <h3 class=\"listing-card__title\">\n",
       "                         Ranger\n",
       "                     </h3>,\n",
       " <h3 class=\"listing-card__title\">\n",
       "                         Rogue\n",
       "                     </h3>,\n",
       " <h3 class=\"listing-card__title\">\n",
       "                         Sorcerer\n",
       "                     </h3>,\n",
       " <h3 class=\"listing-card__title\">\n",
       "                         Warlock\n",
       "                     </h3>,\n",
       " <h3 class=\"listing-card__title\">\n",
       "                         Wizard\n",
       "                     </h3>,\n",
       " <h3 class=\"listing-card__title\">\n",
       "                         Artificer\n",
       "                     </h3>,\n",
       " <h3 class=\"listing-card__title\">\n",
       "                         Blood Hunter\n",
       "                     </h3>]"
      ]
     },
     "execution_count": 17,
     "metadata": {},
     "output_type": "execute_result"
    }
   ],
   "source": [
    "soup = bs(browser.html,'html.parser')\n",
    "all_classes = soup.find_all('h3', class_=\"listing-card__title\")\n",
    "all_classes"
   ]
  },
  {
   "cell_type": "code",
   "execution_count": 18,
   "metadata": {},
   "outputs": [
    {
     "data": {
      "text/html": [
       "<div>\n",
       "<style scoped>\n",
       "    .dataframe tbody tr th:only-of-type {\n",
       "        vertical-align: middle;\n",
       "    }\n",
       "\n",
       "    .dataframe tbody tr th {\n",
       "        vertical-align: top;\n",
       "    }\n",
       "\n",
       "    .dataframe thead th {\n",
       "        text-align: right;\n",
       "    }\n",
       "</style>\n",
       "<table border=\"1\" class=\"dataframe\">\n",
       "  <thead>\n",
       "    <tr style=\"text-align: right;\">\n",
       "      <th></th>\n",
       "      <th>Class</th>\n",
       "    </tr>\n",
       "  </thead>\n",
       "  <tbody>\n",
       "    <tr>\n",
       "      <th>0</th>\n",
       "      <td>Barbarian</td>\n",
       "    </tr>\n",
       "    <tr>\n",
       "      <th>1</th>\n",
       "      <td>Bard</td>\n",
       "    </tr>\n",
       "    <tr>\n",
       "      <th>2</th>\n",
       "      <td>Cleric</td>\n",
       "    </tr>\n",
       "    <tr>\n",
       "      <th>3</th>\n",
       "      <td>Druid</td>\n",
       "    </tr>\n",
       "    <tr>\n",
       "      <th>4</th>\n",
       "      <td>Fighter</td>\n",
       "    </tr>\n",
       "    <tr>\n",
       "      <th>5</th>\n",
       "      <td>Monk</td>\n",
       "    </tr>\n",
       "    <tr>\n",
       "      <th>6</th>\n",
       "      <td>Paladin</td>\n",
       "    </tr>\n",
       "    <tr>\n",
       "      <th>7</th>\n",
       "      <td>Ranger</td>\n",
       "    </tr>\n",
       "    <tr>\n",
       "      <th>8</th>\n",
       "      <td>Rogue</td>\n",
       "    </tr>\n",
       "    <tr>\n",
       "      <th>9</th>\n",
       "      <td>Sorcerer</td>\n",
       "    </tr>\n",
       "    <tr>\n",
       "      <th>10</th>\n",
       "      <td>Warlock</td>\n",
       "    </tr>\n",
       "    <tr>\n",
       "      <th>11</th>\n",
       "      <td>Wizard</td>\n",
       "    </tr>\n",
       "    <tr>\n",
       "      <th>12</th>\n",
       "      <td>Artificer</td>\n",
       "    </tr>\n",
       "    <tr>\n",
       "      <th>13</th>\n",
       "      <td>Blood Hunter</td>\n",
       "    </tr>\n",
       "  </tbody>\n",
       "</table>\n",
       "</div>"
      ],
      "text/plain": [
       "           Class\n",
       "0      Barbarian\n",
       "1           Bard\n",
       "2         Cleric\n",
       "3          Druid\n",
       "4        Fighter\n",
       "5           Monk\n",
       "6        Paladin\n",
       "7         Ranger\n",
       "8          Rogue\n",
       "9       Sorcerer\n",
       "10       Warlock\n",
       "11        Wizard\n",
       "12     Artificer\n",
       "13  Blood Hunter"
      ]
     },
     "execution_count": 18,
     "metadata": {},
     "output_type": "execute_result"
    }
   ],
   "source": [
    "dnd_dict = {'Class': []}\n",
    "\n",
    "for cls in all_classes:\n",
    "    dnd_class = cls.text.strip()\n",
    "    dnd_dict[\"Class\"].append(dnd_class)\n",
    "    \n",
    "classes_df = pd.DataFrame(dnd_dict)\n",
    "classes_df"
   ]
  },
  {
   "cell_type": "markdown",
   "metadata": {},
   "source": [
    "2. Now, alter 1 to click on each class name to go to the more detailed page, and pull out the first paragraph about each class. Store these in a dataframe. Your dataframe should have two columns."
   ]
  },
  {
   "cell_type": "code",
   "execution_count": null,
   "metadata": {},
   "outputs": [],
   "source": []
  }
 ],
 "metadata": {
  "kernelspec": {
   "display_name": "Python 3",
   "language": "python",
   "name": "python3"
  },
  "language_info": {
   "codemirror_mode": {
    "name": "ipython",
    "version": 3
   },
   "file_extension": ".py",
   "mimetype": "text/x-python",
   "name": "python",
   "nbconvert_exporter": "python",
   "pygments_lexer": "ipython3",
   "version": "3.8.5"
  }
 },
 "nbformat": 4,
 "nbformat_minor": 4
}
