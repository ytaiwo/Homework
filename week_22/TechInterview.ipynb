{
 "cells": [
  {
   "cell_type": "markdown",
   "metadata": {},
   "source": [
    "Problem 1: Index of Highest Value\n",
    "Given an array (or list) of integers, you need to find and return the index of the highest value in the array.\n",
    "\n",
    "Example:\n",
    "\n",
    "indexOfHighest([-1, 0, 5, 1, 5, 3, 4, 3]) => 2\n",
    "\n",
    "Extra information about the array:\n",
    "The array will always have at least one value, and will only ever contain integers."
   ]
  },
  {
   "cell_type": "code",
   "execution_count": 9,
   "metadata": {},
   "outputs": [],
   "source": [
    "#loop through the list\n",
    "#use a .max() function to find the highest value\n",
    "#use .index() function to find index of that value\n",
    "#print out value\n",
    "\n",
    "def indexOfHighest(some_list):\n",
    "    max_value = max(some_list)\n",
    "    highest_index = some_list.index(max_value)\n",
    "    return highest_index"
   ]
  },
  {
   "cell_type": "code",
   "execution_count": 10,
   "metadata": {},
   "outputs": [
    {
     "data": {
      "text/plain": [
       "2"
      ]
     },
     "execution_count": 10,
     "metadata": {},
     "output_type": "execute_result"
    }
   ],
   "source": [
    "indexOfHighest([-1, 0, 5, 1, 5, 3, 4, 3])"
   ]
  },
  {
   "cell_type": "code",
   "execution_count": null,
   "metadata": {},
   "outputs": [],
   "source": []
  }
 ],
 "metadata": {
  "kernelspec": {
   "display_name": "Python 3",
   "language": "python",
   "name": "python3"
  },
  "language_info": {
   "codemirror_mode": {
    "name": "ipython",
    "version": 3
   },
   "file_extension": ".py",
   "mimetype": "text/x-python",
   "name": "python",
   "nbconvert_exporter": "python",
   "pygments_lexer": "ipython3",
   "version": "3.8.5"
  }
 },
 "nbformat": 4,
 "nbformat_minor": 4
}
