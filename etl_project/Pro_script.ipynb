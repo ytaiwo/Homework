{
 "cells": [
  {
   "cell_type": "code",
   "execution_count": 5,
   "metadata": {},
   "outputs": [],
   "source": [
    "import psycopg2"
   ]
  },
  {
   "cell_type": "code",
   "execution_count": 6,
   "metadata": {},
   "outputs": [
    {
     "name": "stdout",
     "output_type": "stream",
     "text": [
      "Database opened successfully\n",
      "cusor\n",
      "Tables Created\n",
      "Connection Closed\n",
      "Tables Saved/Commited\n"
     ]
    }
   ],
   "source": [
    "# Connecing to Postgress Database:\n",
    "\n",
    "\n",
    "def create_tables():\n",
    "    \"\"\" create tables in the PostgreSQL database\"\"\"\n",
    "    \n",
    "    commands = (\n",
    "    \"\"\" \n",
    "    CREATE TABLE indicator(\n",
    "    indicator_id SERIAL PRIMARY KEY,\n",
    "    indicator_name VARCHAR(255) NOT NULL,\n",
    "    category_id VARCHAR(255) NOT NULL\n",
    "                        )\n",
    "    \"\"\",\n",
    "    \"\"\"\n",
    "    CREATE TABLE category(\n",
    "    category_id SERIAL PRIMARY KEY,\n",
    "    category_name VARCHAR(255) NOT NULL\n",
    "                        )\n",
    "    \"\"\",\n",
    "    \"\"\"\n",
    "    CREATE TABLE state(\n",
    "    state_id SERIAL PRIMARY KEY,\n",
    "    state_name VARCHAR(255) NOT NULL\n",
    "                      )\n",
    "    \"\"\",\n",
    "    \"\"\"\n",
    "    CREATE TABLE county(\n",
    "    county_id SERIAL PRIMARY KEY,\n",
    "    county_name VARCHAR(255) NOT NULL,\n",
    "    state_id SERIAL REFERENCES state(state_id)\n",
    "                        )\n",
    "    \"\"\",\n",
    "    \"\"\"\n",
    "    CREATE TABLE regtype(\n",
    "    regtype_id SERIAL PRIMARY KEY,\n",
    "    regtype_name VARCHAR(255) NOT NULL\n",
    "                        )\n",
    "    \"\"\",\n",
    "    \"\"\"\n",
    "    CREATE TABLE city(\n",
    "    city_id SERIAL PRIMARY KEY,\n",
    "    city_name CHAR(255) NOT NULL,\n",
    "    county_id SERIAL REFERENCES county(county_id),\n",
    "    state_id SERIAL REFERENCES state(state_id)\n",
    "                        )\n",
    "    \"\"\",\n",
    "    \"\"\"\n",
    "    CREATE TABLE region(\n",
    "    region_id SERIAL PRIMARY KEY,\n",
    "    regtype_id SERIAL REFERENCES  regtype(regtype_id),\n",
    "    city_id SERIAL REFERENCES city(city_id),\n",
    "    county_id SERIAL REFERENCES county(county_id),\n",
    "    state_id SERIAL REFERENCES state(state_id),\n",
    "    zipcode CHAR(5)\n",
    "                        )\n",
    "    \n",
    "    \"\"\")\n",
    "\n",
    "    conn = None\n",
    "\n",
    "    \n",
    "    try:\n",
    "    \n",
    "        conn = psycopg2.connect(database=\"zillow\", user=\"yewandetaiwo\", password=\"yt@Ilesa1993\", host=\"127.0.0.1\", port=\"5432\")\n",
    "        print(\"Database opened successfully\")\n",
    "\n",
    "        cur = conn.cursor()\n",
    "        print(\"cusor\")\n",
    "\n",
    "       \n",
    "        for command in commands:\n",
    "            cur.execute(command)\n",
    "        print(\"Tables Created\")\n",
    "        \n",
    "        cur.close()\n",
    "        print(\"Connection Closed\")\n",
    "        \n",
    "        conn.commit()\n",
    "        print(\"Tables Saved/Commited\")\n",
    "\n",
    "    except:\n",
    "        print(\"Error Loading\")\n",
    "\n",
    "    \n",
    "if __name__ == '__main__':\n",
    "    create_tables()"
   ]
  },
  {
   "cell_type": "code",
   "execution_count": null,
   "metadata": {},
   "outputs": [],
   "source": [
    "\"\"\",\n",
    "    \"\"\"\n",
    "    CREATE TABLE data(\n",
    "    indicator_id SERIAL REFERENCES indicator(indicator_id),\n",
    "    region_id SERIAL REFERENES region(region_id),\n",
    "    date DATE NOT NULL,\n",
    "    value BIGINT NOT NULL\n",
    "    )"
   ]
  }
 ],
 "metadata": {
  "kernelspec": {
   "display_name": "Python 3",
   "language": "python",
   "name": "python3"
  },
  "language_info": {
   "codemirror_mode": {
    "name": "ipython",
    "version": 3
   },
   "file_extension": ".py",
   "mimetype": "text/x-python",
   "name": "python",
   "nbconvert_exporter": "python",
   "pygments_lexer": "ipython3",
   "version": "3.8.5"
  }
 },
 "nbformat": 4,
 "nbformat_minor": 4
}
