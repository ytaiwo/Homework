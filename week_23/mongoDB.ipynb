{
 "cells": [
  {
   "cell_type": "markdown",
   "metadata": {},
   "source": [
    "## CRUD in PyMongo"
   ]
  },
  {
   "cell_type": "code",
   "execution_count": 3,
   "metadata": {},
   "outputs": [],
   "source": [
    "#modules\n",
    "import pymongo\n",
    "import datetime"
   ]
  },
  {
   "cell_type": "code",
   "execution_count": 4,
   "metadata": {},
   "outputs": [],
   "source": [
    "#connect to mongodb on default port, which is 27017\n",
    "conn = 'mongodb://localhost:27017'\n",
    "client = pymongo.MongoClient(conn)\n",
    "\n",
    "#create a database\n",
    "db = client.shows_db\n",
    "\n",
    "#create a collection in the db\n",
    "tv_shows = db.tv_shows"
   ]
  },
  {
   "cell_type": "code",
   "execution_count": 5,
   "metadata": {},
   "outputs": [
    {
     "data": {
      "text/plain": [
       "<pymongo.results.InsertOneResult at 0x7f9fdffb6380>"
      ]
     },
     "execution_count": 5,
     "metadata": {},
     "output_type": "execute_result"
    }
   ],
   "source": [
    "#CREATE\n",
    "#dictionary that represents the document\n",
    "post_data = {'name':'Ted Lasso',\n",
    "             'season': 2,\n",
    "             'duration': '30 minutes',\n",
    "             'year':2020,\n",
    "             'date added': datetime.datetime.utcnow()\n",
    "            }\n",
    "tv_shows.insert_one(post_data)"
   ]
  },
  {
   "cell_type": "code",
   "execution_count": 7,
   "metadata": {},
   "outputs": [
    {
     "data": {
      "text/plain": [
       "<pymongo.results.DeleteResult at 0x7f9fe00b6a40>"
      ]
     },
     "execution_count": 7,
     "metadata": {},
     "output_type": "execute_result"
    }
   ],
   "source": [
    "#DELETE\n",
    "tv_shows.delete_one({'name':'Ted Lasso'})"
   ]
  },
  {
   "cell_type": "code",
   "execution_count": 8,
   "metadata": {},
   "outputs": [],
   "source": [
    "#READ\n",
    "results = tv_shows.find()\n",
    "for result in results:\n",
    "    print(result)"
   ]
  },
  {
   "cell_type": "code",
   "execution_count": 15,
   "metadata": {},
   "outputs": [
    {
     "name": "stdout",
     "output_type": "stream",
     "text": [
      "What is the show name?Deamon Slayer\n",
      "Number of seasons?2\n",
      "How long is each episode?1 hour\n",
      "What year did it come out?2019\n"
     ]
    },
    {
     "data": {
      "text/plain": [
       "<pymongo.results.InsertOneResult at 0x7f9fe00d6940>"
      ]
     },
     "execution_count": 15,
     "metadata": {},
     "output_type": "execute_result"
    }
   ],
   "source": [
    "#creating with input variables\n",
    "show_name = input('What is the show name?')\n",
    "seasons = input('Number of seasons?')\n",
    "duration = input('How long is each episode?')\n",
    "year = input('What year did it come out?')\n",
    "\n",
    "post_data = {'name': show_name,\n",
    "             'season': seasons,\n",
    "             'duration': duration,\n",
    "             'year': year,\n",
    "             'date added': datetime.datetime.utcnow()\n",
    "            }\n",
    "tv_shows.insert_one(post_data)"
   ]
  },
  {
   "cell_type": "code",
   "execution_count": 16,
   "metadata": {},
   "outputs": [
    {
     "name": "stdout",
     "output_type": "stream",
     "text": [
      "{'_id': ObjectId('610b283750f0ee54e46f10b0'), 'name': 'Ted Lasso', 'season': 2, 'duration': '30 minutes', 'year': 2020, 'date added': datetime.datetime(2021, 8, 4, 23, 52, 23, 1000)}\n",
      "{'_id': ObjectId('610b287e50f0ee54e46f10b1'), 'name': 'Ted Lasso', 'season': 2, 'duration': '30 minutes', 'year': 2020, 'date added': datetime.datetime(2021, 8, 4, 23, 53, 34, 388000)}\n",
      "{'_id': ObjectId('610b28cd50f0ee54e46f10b2'), 'name': 'Deamon Slayer', 'season': '2', 'duration': '1 hour', 'year': '2019', 'date added': datetime.datetime(2021, 8, 4, 23, 54, 53, 468000)}\n"
     ]
    }
   ],
   "source": [
    "results = tv_shows.find()\n",
    "for result in results:\n",
    "    print(result)"
   ]
  },
  {
   "cell_type": "code",
   "execution_count": null,
   "metadata": {},
   "outputs": [],
   "source": []
  }
 ],
 "metadata": {
  "kernelspec": {
   "display_name": "Python 3",
   "language": "python",
   "name": "python3"
  },
  "language_info": {
   "codemirror_mode": {
    "name": "ipython",
    "version": 3
   },
   "file_extension": ".py",
   "mimetype": "text/x-python",
   "name": "python",
   "nbconvert_exporter": "python",
   "pygments_lexer": "ipython3",
   "version": "3.8.5"
  }
 },
 "nbformat": 4,
 "nbformat_minor": 4
}
