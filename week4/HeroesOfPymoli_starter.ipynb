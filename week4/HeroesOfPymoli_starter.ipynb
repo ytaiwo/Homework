{
 "cells": [
  {
   "cell_type": "markdown",
   "metadata": {},
   "source": [
    "### Heroes Of Pymoli Data Analysis\n",
    "\n",
    "-----"
   ]
  },
  {
   "cell_type": "markdown",
   "metadata": {},
   "source": [
    "### Note\n",
    "* Instructions have been included for each segment. You do not have to follow them exactly, but they are included to help you think through the steps."
   ]
  },
  {
   "cell_type": "code",
   "execution_count": 1,
   "metadata": {},
   "outputs": [],
   "source": [
    "# Dependencies and Setup\n",
    "import pandas as pd\n",
    "import numpy as np\n",
    "\n",
    "# File to Load (Remember to Change These)\n",
    "file_to_load = \"Resources/purchase_data.csv\"\n",
    "\n",
    "# Read Purchasing File and store into Pandas data frame\n",
    "purchase_data = pd.read_csv(file_to_load)"
   ]
  },
  {
   "cell_type": "markdown",
   "metadata": {},
   "source": [
    "## Player Count"
   ]
  },
  {
   "cell_type": "markdown",
   "metadata": {},
   "source": [
    "* Display the total number of players\n"
   ]
  },
  {
   "cell_type": "code",
   "execution_count": 112,
   "metadata": {},
   "outputs": [
    {
     "data": {
      "text/html": [
       "<div>\n",
       "<style scoped>\n",
       "    .dataframe tbody tr th:only-of-type {\n",
       "        vertical-align: middle;\n",
       "    }\n",
       "\n",
       "    .dataframe tbody tr th {\n",
       "        vertical-align: top;\n",
       "    }\n",
       "\n",
       "    .dataframe thead th {\n",
       "        text-align: right;\n",
       "    }\n",
       "</style>\n",
       "<table border=\"1\" class=\"dataframe\">\n",
       "  <thead>\n",
       "    <tr style=\"text-align: right;\">\n",
       "      <th></th>\n",
       "      <th>Total Players</th>\n",
       "    </tr>\n",
       "  </thead>\n",
       "  <tbody>\n",
       "    <tr>\n",
       "      <th>0</th>\n",
       "      <td>576</td>\n",
       "    </tr>\n",
       "  </tbody>\n",
       "</table>\n",
       "</div>"
      ],
      "text/plain": [
       "   Total Players\n",
       "0            576"
      ]
     },
     "execution_count": 112,
     "metadata": {},
     "output_type": "execute_result"
    }
   ],
   "source": [
    "totalPlayers = purchase_data[\"SN\"].nunique()\n",
    "\n",
    "numofPlayers = pd.DataFrame({'Total Players': [totalPlayers]})\n",
    "numofPlayers"
   ]
  },
  {
   "cell_type": "markdown",
   "metadata": {},
   "source": [
    "## Purchasing Analysis (Total)"
   ]
  },
  {
   "cell_type": "markdown",
   "metadata": {},
   "source": [
    "* Run basic calculations to obtain number of unique items, average price, etc.\n",
    "\n",
    "\n",
    "* Create a summary data frame to hold the results\n",
    "\n",
    "\n",
    "* Optional: give the displayed data cleaner formatting\n",
    "\n",
    "\n",
    "* Display the summary data frame\n"
   ]
  },
  {
   "cell_type": "code",
   "execution_count": 149,
   "metadata": {
    "scrolled": true
   },
   "outputs": [
    {
     "data": {
      "text/html": [
       "<style  type=\"text/css\" >\n",
       "</style><table id=\"T_9e98f30c_91cc_11eb_9481_f45c899b6a43\" ><thead>    <tr>        <th class=\"blank level0\" ></th>        <th class=\"col_heading level0 col0\" >Number of Unique Items</th>        <th class=\"col_heading level0 col1\" >Average Price</th>        <th class=\"col_heading level0 col2\" >Number of Purchases</th>        <th class=\"col_heading level0 col3\" >Total Revenue</th>    </tr></thead><tbody>\n",
       "                <tr>\n",
       "                        <th id=\"T_9e98f30c_91cc_11eb_9481_f45c899b6a43level0_row0\" class=\"row_heading level0 row0\" >0</th>\n",
       "                        <td id=\"T_9e98f30c_91cc_11eb_9481_f45c899b6a43row0_col0\" class=\"data row0 col0\" >183</td>\n",
       "                        <td id=\"T_9e98f30c_91cc_11eb_9481_f45c899b6a43row0_col1\" class=\"data row0 col1\" >$3.05</td>\n",
       "                        <td id=\"T_9e98f30c_91cc_11eb_9481_f45c899b6a43row0_col2\" class=\"data row0 col2\" >780</td>\n",
       "                        <td id=\"T_9e98f30c_91cc_11eb_9481_f45c899b6a43row0_col3\" class=\"data row0 col3\" >$2,379.77</td>\n",
       "            </tr>\n",
       "    </tbody></table>"
      ],
      "text/plain": [
       "<pandas.io.formats.style.Styler at 0x7fc9e0bb3490>"
      ]
     },
     "execution_count": 149,
     "metadata": {},
     "output_type": "execute_result"
    }
   ],
   "source": [
    "analysis = pd.DataFrame({'Number of Unique Items': [purchase_data['Item ID'].nunique()],\n",
    "                         'Average Price' : [purchase_data['Price'].mean()],\n",
    "                         'Number of Purchases' : [purchase_data['Purchase ID'].count()],\n",
    "                         'Total Revenue' : [purchase_data['Price'].sum()]\n",
    "                        })\n",
    "analysis.style.format({\"Average Price\": \"${:,.2f}\",\n",
    "                       \"Total Revenue\": \"${:,.2f}\"\n",
    "                      })"
   ]
  },
  {
   "cell_type": "markdown",
   "metadata": {},
   "source": [
    "## Gender Demographics"
   ]
  },
  {
   "cell_type": "markdown",
   "metadata": {},
   "source": [
    "* Percentage and Count of Male Players\n",
    "\n",
    "\n",
    "* Percentage and Count of Female Players\n",
    "\n",
    "\n",
    "* Percentage and Count of Other / Non-Disclosed\n",
    "\n",
    "\n"
   ]
  },
  {
   "cell_type": "code",
   "execution_count": 151,
   "metadata": {},
   "outputs": [
    {
     "data": {
      "text/html": [
       "<style  type=\"text/css\" >\n",
       "</style><table id=\"T_b8cc8d38_91cc_11eb_9481_f45c899b6a43\" ><thead>    <tr>        <th class=\"blank level0\" ></th>        <th class=\"col_heading level0 col0\" >Total Count</th>        <th class=\"col_heading level0 col1\" >Percentage of Players</th>    </tr></thead><tbody>\n",
       "                <tr>\n",
       "                        <th id=\"T_b8cc8d38_91cc_11eb_9481_f45c899b6a43level0_row0\" class=\"row_heading level0 row0\" >Female</th>\n",
       "                        <td id=\"T_b8cc8d38_91cc_11eb_9481_f45c899b6a43row0_col0\" class=\"data row0 col0\" >81</td>\n",
       "                        <td id=\"T_b8cc8d38_91cc_11eb_9481_f45c899b6a43row0_col1\" class=\"data row0 col1\" >14.49%</td>\n",
       "            </tr>\n",
       "            <tr>\n",
       "                        <th id=\"T_b8cc8d38_91cc_11eb_9481_f45c899b6a43level0_row1\" class=\"row_heading level0 row1\" >Male</th>\n",
       "                        <td id=\"T_b8cc8d38_91cc_11eb_9481_f45c899b6a43row1_col0\" class=\"data row1 col0\" >484</td>\n",
       "                        <td id=\"T_b8cc8d38_91cc_11eb_9481_f45c899b6a43row1_col1\" class=\"data row1 col1\" >83.59%</td>\n",
       "            </tr>\n",
       "            <tr>\n",
       "                        <th id=\"T_b8cc8d38_91cc_11eb_9481_f45c899b6a43level0_row2\" class=\"row_heading level0 row2\" >Other / Non-Disclosed</th>\n",
       "                        <td id=\"T_b8cc8d38_91cc_11eb_9481_f45c899b6a43row2_col0\" class=\"data row2 col0\" >11</td>\n",
       "                        <td id=\"T_b8cc8d38_91cc_11eb_9481_f45c899b6a43row2_col1\" class=\"data row2 col1\" >1.92%</td>\n",
       "            </tr>\n",
       "    </tbody></table>"
      ],
      "text/plain": [
       "<pandas.io.formats.style.Styler at 0x7fc9e0b003d0>"
      ]
     },
     "execution_count": 151,
     "metadata": {},
     "output_type": "execute_result"
    }
   ],
   "source": [
    "gender_demo = purchase_data.groupby(\"Gender\")\n",
    "\n",
    "gender_count = gender_demo.nunique()[\"SN\"]\n",
    "gender_percent = purchase_data[\"Gender\"].value_counts(normalize=True) * 100\n",
    "\n",
    "gender = pd.DataFrame({\"Total Count\": gender_count,\n",
    "                       \"Percentage of Players\": gender_percent\n",
    "                      })\n",
    "\n",
    "gender.style.format({\"Percentage of Players\": \"{:,.2f}%\"})"
   ]
  },
  {
   "cell_type": "markdown",
   "metadata": {},
   "source": [
    "\n",
    "## Purchasing Analysis (Gender)"
   ]
  },
  {
   "cell_type": "markdown",
   "metadata": {},
   "source": [
    "* Run basic calculations to obtain purchase count, avg. purchase price, avg. purchase total per person etc. by gender\n",
    "\n",
    "\n",
    "\n",
    "\n",
    "* Create a summary data frame to hold the results\n",
    "\n",
    "\n",
    "* Optional: give the displayed data cleaner formatting\n",
    "\n",
    "\n",
    "* Display the summary data frame"
   ]
  },
  {
   "cell_type": "code",
   "execution_count": 152,
   "metadata": {},
   "outputs": [
    {
     "data": {
      "text/html": [
       "<style  type=\"text/css\" >\n",
       "</style><table id=\"T_eb934ad6_91cc_11eb_9481_f45c899b6a43\" ><thead>    <tr>        <th class=\"blank level0\" ></th>        <th class=\"col_heading level0 col0\" >Purchase Count</th>        <th class=\"col_heading level0 col1\" >Average Purchase Price</th>        <th class=\"col_heading level0 col2\" >Total Purchase Value</th>        <th class=\"col_heading level0 col3\" >Avg Total Purchase/Person</th>    </tr>    <tr>        <th class=\"index_name level0\" >Gender</th>        <th class=\"blank\" ></th>        <th class=\"blank\" ></th>        <th class=\"blank\" ></th>        <th class=\"blank\" ></th>    </tr></thead><tbody>\n",
       "                <tr>\n",
       "                        <th id=\"T_eb934ad6_91cc_11eb_9481_f45c899b6a43level0_row0\" class=\"row_heading level0 row0\" >Female</th>\n",
       "                        <td id=\"T_eb934ad6_91cc_11eb_9481_f45c899b6a43row0_col0\" class=\"data row0 col0\" >113</td>\n",
       "                        <td id=\"T_eb934ad6_91cc_11eb_9481_f45c899b6a43row0_col1\" class=\"data row0 col1\" >$3.20</td>\n",
       "                        <td id=\"T_eb934ad6_91cc_11eb_9481_f45c899b6a43row0_col2\" class=\"data row0 col2\" >$361.94</td>\n",
       "                        <td id=\"T_eb934ad6_91cc_11eb_9481_f45c899b6a43row0_col3\" class=\"data row0 col3\" >$4.47</td>\n",
       "            </tr>\n",
       "            <tr>\n",
       "                        <th id=\"T_eb934ad6_91cc_11eb_9481_f45c899b6a43level0_row1\" class=\"row_heading level0 row1\" >Male</th>\n",
       "                        <td id=\"T_eb934ad6_91cc_11eb_9481_f45c899b6a43row1_col0\" class=\"data row1 col0\" >652</td>\n",
       "                        <td id=\"T_eb934ad6_91cc_11eb_9481_f45c899b6a43row1_col1\" class=\"data row1 col1\" >$3.02</td>\n",
       "                        <td id=\"T_eb934ad6_91cc_11eb_9481_f45c899b6a43row1_col2\" class=\"data row1 col2\" >$1,967.64</td>\n",
       "                        <td id=\"T_eb934ad6_91cc_11eb_9481_f45c899b6a43row1_col3\" class=\"data row1 col3\" >$4.07</td>\n",
       "            </tr>\n",
       "            <tr>\n",
       "                        <th id=\"T_eb934ad6_91cc_11eb_9481_f45c899b6a43level0_row2\" class=\"row_heading level0 row2\" >Other / Non-Disclosed</th>\n",
       "                        <td id=\"T_eb934ad6_91cc_11eb_9481_f45c899b6a43row2_col0\" class=\"data row2 col0\" >15</td>\n",
       "                        <td id=\"T_eb934ad6_91cc_11eb_9481_f45c899b6a43row2_col1\" class=\"data row2 col1\" >$3.35</td>\n",
       "                        <td id=\"T_eb934ad6_91cc_11eb_9481_f45c899b6a43row2_col2\" class=\"data row2 col2\" >$50.19</td>\n",
       "                        <td id=\"T_eb934ad6_91cc_11eb_9481_f45c899b6a43row2_col3\" class=\"data row2 col3\" >$4.56</td>\n",
       "            </tr>\n",
       "    </tbody></table>"
      ],
      "text/plain": [
       "<pandas.io.formats.style.Styler at 0x7fc9e0b37a00>"
      ]
     },
     "execution_count": 152,
     "metadata": {},
     "output_type": "execute_result"
    }
   ],
   "source": [
    "purchase_count = gender_demo[\"Purchase ID\"].count()\n",
    "avg_purchase_price = gender_demo[\"Price\"].mean()\n",
    "purchase_total = gender_demo[\"Price\"].sum()\n",
    "purchase_per = purchase_total/gender_count\n",
    "\n",
    "\n",
    "purchasing_analysis = pd.DataFrame({\"Purchase Count\": purchase_count,\n",
    "                                    \"Average Purchase Price\": avg_purchase_price,\n",
    "                                    \"Total Purchase Value\": purchase_total,\n",
    "                                    \"Avg Total Purchase/Person\": purchase_per\n",
    "                                   })\n",
    "\n",
    "purchasing_analysis.style.format({\"Average Purchase Price\": \"${:,.2f}\",\n",
    "                                  \"Total Purchase Value\": \"${:,.2f}\",\n",
    "                                  \"Avg Total Purchase/Person\": \"${:,.2f}\"\n",
    "                                 })"
   ]
  },
  {
   "cell_type": "markdown",
   "metadata": {},
   "source": [
    "## Age Demographics"
   ]
  },
  {
   "cell_type": "markdown",
   "metadata": {},
   "source": [
    "* Establish bins for ages\n",
    "\n",
    "\n",
    "* Categorize the existing players using the age bins. Hint: use pd.cut()\n",
    "\n",
    "\n",
    "* Calculate the numbers and percentages by age group\n",
    "\n",
    "\n",
    "* Create a summary data frame to hold the results\n",
    "\n",
    "\n",
    "* Optional: round the percentage column to two decimal points\n",
    "\n",
    "\n",
    "* Display Age Demographics Table\n"
   ]
  },
  {
   "cell_type": "code",
   "execution_count": 154,
   "metadata": {},
   "outputs": [
    {
     "data": {
      "text/html": [
       "<style  type=\"text/css\" >\n",
       "</style><table id=\"T_5297fb40_91ce_11eb_9481_f45c899b6a43\" ><thead>    <tr>        <th class=\"blank level0\" ></th>        <th class=\"col_heading level0 col0\" >Total Count</th>        <th class=\"col_heading level0 col1\" >Percentage of Players</th>    </tr>    <tr>        <th class=\"index_name level0\" >Age Group</th>        <th class=\"blank\" ></th>        <th class=\"blank\" ></th>    </tr></thead><tbody>\n",
       "                <tr>\n",
       "                        <th id=\"T_5297fb40_91ce_11eb_9481_f45c899b6a43level0_row0\" class=\"row_heading level0 row0\" ><10</th>\n",
       "                        <td id=\"T_5297fb40_91ce_11eb_9481_f45c899b6a43row0_col0\" class=\"data row0 col0\" >17</td>\n",
       "                        <td id=\"T_5297fb40_91ce_11eb_9481_f45c899b6a43row0_col1\" class=\"data row0 col1\" >2.95%</td>\n",
       "            </tr>\n",
       "            <tr>\n",
       "                        <th id=\"T_5297fb40_91ce_11eb_9481_f45c899b6a43level0_row1\" class=\"row_heading level0 row1\" >10-14</th>\n",
       "                        <td id=\"T_5297fb40_91ce_11eb_9481_f45c899b6a43row1_col0\" class=\"data row1 col0\" >22</td>\n",
       "                        <td id=\"T_5297fb40_91ce_11eb_9481_f45c899b6a43row1_col1\" class=\"data row1 col1\" >3.82%</td>\n",
       "            </tr>\n",
       "            <tr>\n",
       "                        <th id=\"T_5297fb40_91ce_11eb_9481_f45c899b6a43level0_row2\" class=\"row_heading level0 row2\" >15-19</th>\n",
       "                        <td id=\"T_5297fb40_91ce_11eb_9481_f45c899b6a43row2_col0\" class=\"data row2 col0\" >107</td>\n",
       "                        <td id=\"T_5297fb40_91ce_11eb_9481_f45c899b6a43row2_col1\" class=\"data row2 col1\" >18.58%</td>\n",
       "            </tr>\n",
       "            <tr>\n",
       "                        <th id=\"T_5297fb40_91ce_11eb_9481_f45c899b6a43level0_row3\" class=\"row_heading level0 row3\" >20-24</th>\n",
       "                        <td id=\"T_5297fb40_91ce_11eb_9481_f45c899b6a43row3_col0\" class=\"data row3 col0\" >258</td>\n",
       "                        <td id=\"T_5297fb40_91ce_11eb_9481_f45c899b6a43row3_col1\" class=\"data row3 col1\" >44.79%</td>\n",
       "            </tr>\n",
       "            <tr>\n",
       "                        <th id=\"T_5297fb40_91ce_11eb_9481_f45c899b6a43level0_row4\" class=\"row_heading level0 row4\" >25-29</th>\n",
       "                        <td id=\"T_5297fb40_91ce_11eb_9481_f45c899b6a43row4_col0\" class=\"data row4 col0\" >77</td>\n",
       "                        <td id=\"T_5297fb40_91ce_11eb_9481_f45c899b6a43row4_col1\" class=\"data row4 col1\" >13.37%</td>\n",
       "            </tr>\n",
       "            <tr>\n",
       "                        <th id=\"T_5297fb40_91ce_11eb_9481_f45c899b6a43level0_row5\" class=\"row_heading level0 row5\" >30-34</th>\n",
       "                        <td id=\"T_5297fb40_91ce_11eb_9481_f45c899b6a43row5_col0\" class=\"data row5 col0\" >52</td>\n",
       "                        <td id=\"T_5297fb40_91ce_11eb_9481_f45c899b6a43row5_col1\" class=\"data row5 col1\" >9.03%</td>\n",
       "            </tr>\n",
       "            <tr>\n",
       "                        <th id=\"T_5297fb40_91ce_11eb_9481_f45c899b6a43level0_row6\" class=\"row_heading level0 row6\" >35-39</th>\n",
       "                        <td id=\"T_5297fb40_91ce_11eb_9481_f45c899b6a43row6_col0\" class=\"data row6 col0\" >31</td>\n",
       "                        <td id=\"T_5297fb40_91ce_11eb_9481_f45c899b6a43row6_col1\" class=\"data row6 col1\" >5.38%</td>\n",
       "            </tr>\n",
       "            <tr>\n",
       "                        <th id=\"T_5297fb40_91ce_11eb_9481_f45c899b6a43level0_row7\" class=\"row_heading level0 row7\" >40+</th>\n",
       "                        <td id=\"T_5297fb40_91ce_11eb_9481_f45c899b6a43row7_col0\" class=\"data row7 col0\" >12</td>\n",
       "                        <td id=\"T_5297fb40_91ce_11eb_9481_f45c899b6a43row7_col1\" class=\"data row7 col1\" >2.08%</td>\n",
       "            </tr>\n",
       "    </tbody></table>"
      ],
      "text/plain": [
       "<pandas.io.formats.style.Styler at 0x7fc9df4d7580>"
      ]
     },
     "execution_count": 154,
     "metadata": {},
     "output_type": "execute_result"
    }
   ],
   "source": [
    "age_bins = [0, 9.5, 14.5, 19.5, 24.5, 29.5, 34.5, 39.5, 100]\n",
    "age_labels = [\"<10\", \"10-14\", \"15-19\", \"20-24\", \"25-29\", \"30-34\", \"35-39\", \"40+\"]\n",
    "\n",
    "purchase_data[\"Age Group\"] = pd.cut(purchase_data[\"Age\"], age_bins, labels=age_labels)\n",
    "\n",
    "age_group = purchase_data.groupby(\"Age Group\")\n",
    "age_count = age_group[\"SN\"].nunique()\n",
    "age_percentage =  age_count/totalPlayers * 100\n",
    "\n",
    "age_demo = pd.DataFrame({\"Total Count\": age_count,\n",
    "                         \"Percentage of Players\": age_percentage\n",
    "                        })\n",
    "\n",
    "age_demo.style.format({\"Percentage of Players\": \"{:,.2f}%\"})"
   ]
  },
  {
   "cell_type": "markdown",
   "metadata": {},
   "source": [
    "## Purchasing Analysis (Age)"
   ]
  },
  {
   "cell_type": "markdown",
   "metadata": {},
   "source": [
    "* Bin the purchase_data data frame by age\n",
    "\n",
    "\n",
    "* Run basic calculations to obtain purchase count, avg. purchase price, avg. purchase total per person etc. in the table below\n",
    "\n",
    "\n",
    "* Create a summary data frame to hold the results\n",
    "\n",
    "\n",
    "* Optional: give the displayed data cleaner formatting\n",
    "\n",
    "\n",
    "* Display the summary data frame"
   ]
  },
  {
   "cell_type": "code",
   "execution_count": 126,
   "metadata": {},
   "outputs": [
    {
     "data": {
      "text/html": [
       "<style  type=\"text/css\" >\n",
       "</style><table id=\"T_47e301c0_91c6_11eb_9481_f45c899b6a43\" ><thead>    <tr>        <th class=\"blank level0\" ></th>        <th class=\"col_heading level0 col0\" >Purchase Count</th>        <th class=\"col_heading level0 col1\" >Average Purchase Price</th>        <th class=\"col_heading level0 col2\" >Total Purchase Value</th>        <th class=\"col_heading level0 col3\" >Avg Total Purchase/Person</th>    </tr>    <tr>        <th class=\"index_name level0\" >Age Group</th>        <th class=\"blank\" ></th>        <th class=\"blank\" ></th>        <th class=\"blank\" ></th>        <th class=\"blank\" ></th>    </tr></thead><tbody>\n",
       "                <tr>\n",
       "                        <th id=\"T_47e301c0_91c6_11eb_9481_f45c899b6a43level0_row0\" class=\"row_heading level0 row0\" ><10</th>\n",
       "                        <td id=\"T_47e301c0_91c6_11eb_9481_f45c899b6a43row0_col0\" class=\"data row0 col0\" >23</td>\n",
       "                        <td id=\"T_47e301c0_91c6_11eb_9481_f45c899b6a43row0_col1\" class=\"data row0 col1\" >$3.35</td>\n",
       "                        <td id=\"T_47e301c0_91c6_11eb_9481_f45c899b6a43row0_col2\" class=\"data row0 col2\" >$77.13</td>\n",
       "                        <td id=\"T_47e301c0_91c6_11eb_9481_f45c899b6a43row0_col3\" class=\"data row0 col3\" >$4.54</td>\n",
       "            </tr>\n",
       "            <tr>\n",
       "                        <th id=\"T_47e301c0_91c6_11eb_9481_f45c899b6a43level0_row1\" class=\"row_heading level0 row1\" >10-14</th>\n",
       "                        <td id=\"T_47e301c0_91c6_11eb_9481_f45c899b6a43row1_col0\" class=\"data row1 col0\" >28</td>\n",
       "                        <td id=\"T_47e301c0_91c6_11eb_9481_f45c899b6a43row1_col1\" class=\"data row1 col1\" >$2.96</td>\n",
       "                        <td id=\"T_47e301c0_91c6_11eb_9481_f45c899b6a43row1_col2\" class=\"data row1 col2\" >$82.78</td>\n",
       "                        <td id=\"T_47e301c0_91c6_11eb_9481_f45c899b6a43row1_col3\" class=\"data row1 col3\" >$3.76</td>\n",
       "            </tr>\n",
       "            <tr>\n",
       "                        <th id=\"T_47e301c0_91c6_11eb_9481_f45c899b6a43level0_row2\" class=\"row_heading level0 row2\" >15-19</th>\n",
       "                        <td id=\"T_47e301c0_91c6_11eb_9481_f45c899b6a43row2_col0\" class=\"data row2 col0\" >136</td>\n",
       "                        <td id=\"T_47e301c0_91c6_11eb_9481_f45c899b6a43row2_col1\" class=\"data row2 col1\" >$3.04</td>\n",
       "                        <td id=\"T_47e301c0_91c6_11eb_9481_f45c899b6a43row2_col2\" class=\"data row2 col2\" >$412.89</td>\n",
       "                        <td id=\"T_47e301c0_91c6_11eb_9481_f45c899b6a43row2_col3\" class=\"data row2 col3\" >$3.86</td>\n",
       "            </tr>\n",
       "            <tr>\n",
       "                        <th id=\"T_47e301c0_91c6_11eb_9481_f45c899b6a43level0_row3\" class=\"row_heading level0 row3\" >20-24</th>\n",
       "                        <td id=\"T_47e301c0_91c6_11eb_9481_f45c899b6a43row3_col0\" class=\"data row3 col0\" >365</td>\n",
       "                        <td id=\"T_47e301c0_91c6_11eb_9481_f45c899b6a43row3_col1\" class=\"data row3 col1\" >$3.05</td>\n",
       "                        <td id=\"T_47e301c0_91c6_11eb_9481_f45c899b6a43row3_col2\" class=\"data row3 col2\" >$1,114.06</td>\n",
       "                        <td id=\"T_47e301c0_91c6_11eb_9481_f45c899b6a43row3_col3\" class=\"data row3 col3\" >$4.32</td>\n",
       "            </tr>\n",
       "            <tr>\n",
       "                        <th id=\"T_47e301c0_91c6_11eb_9481_f45c899b6a43level0_row4\" class=\"row_heading level0 row4\" >25-29</th>\n",
       "                        <td id=\"T_47e301c0_91c6_11eb_9481_f45c899b6a43row4_col0\" class=\"data row4 col0\" >101</td>\n",
       "                        <td id=\"T_47e301c0_91c6_11eb_9481_f45c899b6a43row4_col1\" class=\"data row4 col1\" >$2.90</td>\n",
       "                        <td id=\"T_47e301c0_91c6_11eb_9481_f45c899b6a43row4_col2\" class=\"data row4 col2\" >$293.00</td>\n",
       "                        <td id=\"T_47e301c0_91c6_11eb_9481_f45c899b6a43row4_col3\" class=\"data row4 col3\" >$3.81</td>\n",
       "            </tr>\n",
       "            <tr>\n",
       "                        <th id=\"T_47e301c0_91c6_11eb_9481_f45c899b6a43level0_row5\" class=\"row_heading level0 row5\" >30-34</th>\n",
       "                        <td id=\"T_47e301c0_91c6_11eb_9481_f45c899b6a43row5_col0\" class=\"data row5 col0\" >73</td>\n",
       "                        <td id=\"T_47e301c0_91c6_11eb_9481_f45c899b6a43row5_col1\" class=\"data row5 col1\" >$2.93</td>\n",
       "                        <td id=\"T_47e301c0_91c6_11eb_9481_f45c899b6a43row5_col2\" class=\"data row5 col2\" >$214.00</td>\n",
       "                        <td id=\"T_47e301c0_91c6_11eb_9481_f45c899b6a43row5_col3\" class=\"data row5 col3\" >$4.12</td>\n",
       "            </tr>\n",
       "            <tr>\n",
       "                        <th id=\"T_47e301c0_91c6_11eb_9481_f45c899b6a43level0_row6\" class=\"row_heading level0 row6\" >35-39</th>\n",
       "                        <td id=\"T_47e301c0_91c6_11eb_9481_f45c899b6a43row6_col0\" class=\"data row6 col0\" >41</td>\n",
       "                        <td id=\"T_47e301c0_91c6_11eb_9481_f45c899b6a43row6_col1\" class=\"data row6 col1\" >$3.60</td>\n",
       "                        <td id=\"T_47e301c0_91c6_11eb_9481_f45c899b6a43row6_col2\" class=\"data row6 col2\" >$147.67</td>\n",
       "                        <td id=\"T_47e301c0_91c6_11eb_9481_f45c899b6a43row6_col3\" class=\"data row6 col3\" >$4.76</td>\n",
       "            </tr>\n",
       "            <tr>\n",
       "                        <th id=\"T_47e301c0_91c6_11eb_9481_f45c899b6a43level0_row7\" class=\"row_heading level0 row7\" >40+</th>\n",
       "                        <td id=\"T_47e301c0_91c6_11eb_9481_f45c899b6a43row7_col0\" class=\"data row7 col0\" >13</td>\n",
       "                        <td id=\"T_47e301c0_91c6_11eb_9481_f45c899b6a43row7_col1\" class=\"data row7 col1\" >$2.94</td>\n",
       "                        <td id=\"T_47e301c0_91c6_11eb_9481_f45c899b6a43row7_col2\" class=\"data row7 col2\" >$38.24</td>\n",
       "                        <td id=\"T_47e301c0_91c6_11eb_9481_f45c899b6a43row7_col3\" class=\"data row7 col3\" >$3.19</td>\n",
       "            </tr>\n",
       "    </tbody></table>"
      ],
      "text/plain": [
       "<pandas.io.formats.style.Styler at 0x7fc9e0b00e50>"
      ]
     },
     "execution_count": 126,
     "metadata": {},
     "output_type": "execute_result"
    }
   ],
   "source": [
    "purchase_count_age = age_group[\"Purchase ID\"].count()\n",
    "avg_purchase_price = age_group[\"Price\"].mean()\n",
    "total_purchase_val = age_group[\"Price\"].sum()\n",
    "avgtotal_per = total_purchase_val/age_count\n",
    "\n",
    "purchasing_analysis = pd.DataFrame({\"Purchase Count\": purchase_count_age,\n",
    "                                    \"Average Purchase Price\": avg_purchase_price,\n",
    "                                    \"Total Purchase Value\": total_purchase_val,\n",
    "                                    \"Avg Total Purchase/Person\": avgtotal_per\n",
    "                                   })\n",
    "\n",
    "purchasing_analysis.style.format({\"Average Purchase Price\": \"${:,.2f}\",\n",
    "                                  \"Total Purchase Value\" : \"${:,.2f}\",\n",
    "                                  \"Avg Total Purchase/Person\": \"${:,.2f}\"\n",
    "                                 })"
   ]
  },
  {
   "cell_type": "markdown",
   "metadata": {},
   "source": [
    "## Top Spenders"
   ]
  },
  {
   "cell_type": "markdown",
   "metadata": {},
   "source": [
    "* Run basic calculations to obtain the results in the table below\n",
    "\n",
    "\n",
    "* Create a summary data frame to hold the results\n",
    "\n",
    "\n",
    "* Sort the total purchase value column in descending order\n",
    "\n",
    "\n",
    "* Optional: give the displayed data cleaner formatting\n",
    "\n",
    "\n",
    "* Display a preview of the summary data frame\n",
    "\n"
   ]
  },
  {
   "cell_type": "code",
   "execution_count": 137,
   "metadata": {},
   "outputs": [
    {
     "data": {
      "text/html": [
       "<style  type=\"text/css\" >\n",
       "</style><table id=\"T_f19a7688_91c8_11eb_9481_f45c899b6a43\" ><thead>    <tr>        <th class=\"blank level0\" ></th>        <th class=\"col_heading level0 col0\" >Purchase Count</th>        <th class=\"col_heading level0 col1\" >Average Purchase Price</th>        <th class=\"col_heading level0 col2\" >Total Purchase Value</th>    </tr>    <tr>        <th class=\"index_name level0\" >SN</th>        <th class=\"blank\" ></th>        <th class=\"blank\" ></th>        <th class=\"blank\" ></th>    </tr></thead><tbody>\n",
       "                <tr>\n",
       "                        <th id=\"T_f19a7688_91c8_11eb_9481_f45c899b6a43level0_row0\" class=\"row_heading level0 row0\" >Lisosia93</th>\n",
       "                        <td id=\"T_f19a7688_91c8_11eb_9481_f45c899b6a43row0_col0\" class=\"data row0 col0\" >5</td>\n",
       "                        <td id=\"T_f19a7688_91c8_11eb_9481_f45c899b6a43row0_col1\" class=\"data row0 col1\" >$3.79</td>\n",
       "                        <td id=\"T_f19a7688_91c8_11eb_9481_f45c899b6a43row0_col2\" class=\"data row0 col2\" >$18.96</td>\n",
       "            </tr>\n",
       "            <tr>\n",
       "                        <th id=\"T_f19a7688_91c8_11eb_9481_f45c899b6a43level0_row1\" class=\"row_heading level0 row1\" >Idastidru52</th>\n",
       "                        <td id=\"T_f19a7688_91c8_11eb_9481_f45c899b6a43row1_col0\" class=\"data row1 col0\" >4</td>\n",
       "                        <td id=\"T_f19a7688_91c8_11eb_9481_f45c899b6a43row1_col1\" class=\"data row1 col1\" >$3.86</td>\n",
       "                        <td id=\"T_f19a7688_91c8_11eb_9481_f45c899b6a43row1_col2\" class=\"data row1 col2\" >$15.45</td>\n",
       "            </tr>\n",
       "            <tr>\n",
       "                        <th id=\"T_f19a7688_91c8_11eb_9481_f45c899b6a43level0_row2\" class=\"row_heading level0 row2\" >Chamjask73</th>\n",
       "                        <td id=\"T_f19a7688_91c8_11eb_9481_f45c899b6a43row2_col0\" class=\"data row2 col0\" >3</td>\n",
       "                        <td id=\"T_f19a7688_91c8_11eb_9481_f45c899b6a43row2_col1\" class=\"data row2 col1\" >$4.61</td>\n",
       "                        <td id=\"T_f19a7688_91c8_11eb_9481_f45c899b6a43row2_col2\" class=\"data row2 col2\" >$13.83</td>\n",
       "            </tr>\n",
       "            <tr>\n",
       "                        <th id=\"T_f19a7688_91c8_11eb_9481_f45c899b6a43level0_row3\" class=\"row_heading level0 row3\" >Iral74</th>\n",
       "                        <td id=\"T_f19a7688_91c8_11eb_9481_f45c899b6a43row3_col0\" class=\"data row3 col0\" >4</td>\n",
       "                        <td id=\"T_f19a7688_91c8_11eb_9481_f45c899b6a43row3_col1\" class=\"data row3 col1\" >$3.40</td>\n",
       "                        <td id=\"T_f19a7688_91c8_11eb_9481_f45c899b6a43row3_col2\" class=\"data row3 col2\" >$13.62</td>\n",
       "            </tr>\n",
       "            <tr>\n",
       "                        <th id=\"T_f19a7688_91c8_11eb_9481_f45c899b6a43level0_row4\" class=\"row_heading level0 row4\" >Iskadarya95</th>\n",
       "                        <td id=\"T_f19a7688_91c8_11eb_9481_f45c899b6a43row4_col0\" class=\"data row4 col0\" >3</td>\n",
       "                        <td id=\"T_f19a7688_91c8_11eb_9481_f45c899b6a43row4_col1\" class=\"data row4 col1\" >$4.37</td>\n",
       "                        <td id=\"T_f19a7688_91c8_11eb_9481_f45c899b6a43row4_col2\" class=\"data row4 col2\" >$13.10</td>\n",
       "            </tr>\n",
       "    </tbody></table>"
      ],
      "text/plain": [
       "<pandas.io.formats.style.Styler at 0x7fc9e0b006d0>"
      ]
     },
     "execution_count": 137,
     "metadata": {},
     "output_type": "execute_result"
    }
   ],
   "source": [
    "spenders = purchase_data.groupby(\"SN\")\n",
    "\n",
    "spender_purchase_count = spenders[\"Purchase ID\"].count()\n",
    "spender_avg_purchase = spenders[\"Price\"].mean()\n",
    "spender_total = spenders[\"Price\"].sum()\n",
    "\n",
    "spender_demo = pd.DataFrame({\"Purchase Count\": spender_purchase_count,\n",
    "                             \"Average Purchase Price\": spender_avg_purchase,\n",
    "                             \"Total Purchase Value\": spender_total,\n",
    "                            })\n",
    "\n",
    "spender_format = spender_demo.sort_values(by=[\"Total Purchase Value\"],ascending = False).head()\n",
    "spender_format.style.format({\"Average Purchase Price\": \"${:,.2f}\",\n",
    "                             \"Total Purchase Value\": \"${:,.2f}\"\n",
    "                            })"
   ]
  },
  {
   "cell_type": "markdown",
   "metadata": {},
   "source": [
    "## Most Popular Items"
   ]
  },
  {
   "cell_type": "markdown",
   "metadata": {},
   "source": [
    "* Retrieve the Item ID, Item Name, and Item Price columns\n",
    "\n",
    "\n",
    "* Group by Item ID and Item Name. Perform calculations to obtain purchase count, item price, and total purchase value\n",
    "\n",
    "\n",
    "* Create a summary data frame to hold the results\n",
    "\n",
    "\n",
    "* Sort the purchase count column in descending order\n",
    "\n",
    "\n",
    "* Optional: give the displayed data cleaner formatting\n",
    "\n",
    "\n",
    "* Display a preview of the summary data frame\n",
    "\n"
   ]
  },
  {
   "cell_type": "code",
   "execution_count": 145,
   "metadata": {},
   "outputs": [
    {
     "data": {
      "text/html": [
       "<style  type=\"text/css\" >\n",
       "</style><table id=\"T_1d497ede_91cc_11eb_9481_f45c899b6a43\" ><thead>    <tr>        <th class=\"blank\" ></th>        <th class=\"blank level0\" ></th>        <th class=\"col_heading level0 col0\" >Purchase Count</th>        <th class=\"col_heading level0 col1\" >Item Price</th>        <th class=\"col_heading level0 col2\" >Total Purchase Value</th>    </tr>    <tr>        <th class=\"index_name level0\" >Item ID</th>        <th class=\"index_name level1\" >Item Name</th>        <th class=\"blank\" ></th>        <th class=\"blank\" ></th>        <th class=\"blank\" ></th>    </tr></thead><tbody>\n",
       "                <tr>\n",
       "                        <th id=\"T_1d497ede_91cc_11eb_9481_f45c899b6a43level0_row0\" class=\"row_heading level0 row0\" >178</th>\n",
       "                        <th id=\"T_1d497ede_91cc_11eb_9481_f45c899b6a43level1_row0\" class=\"row_heading level1 row0\" >Oathbreaker, Last Hope of the Breaking Storm</th>\n",
       "                        <td id=\"T_1d497ede_91cc_11eb_9481_f45c899b6a43row0_col0\" class=\"data row0 col0\" >12</td>\n",
       "                        <td id=\"T_1d497ede_91cc_11eb_9481_f45c899b6a43row0_col1\" class=\"data row0 col1\" >$4.23</td>\n",
       "                        <td id=\"T_1d497ede_91cc_11eb_9481_f45c899b6a43row0_col2\" class=\"data row0 col2\" >$50.76</td>\n",
       "            </tr>\n",
       "            <tr>\n",
       "                        <th id=\"T_1d497ede_91cc_11eb_9481_f45c899b6a43level0_row1\" class=\"row_heading level0 row1\" >145</th>\n",
       "                        <th id=\"T_1d497ede_91cc_11eb_9481_f45c899b6a43level1_row1\" class=\"row_heading level1 row1\" >Fiery Glass Crusader</th>\n",
       "                        <td id=\"T_1d497ede_91cc_11eb_9481_f45c899b6a43row1_col0\" class=\"data row1 col0\" >9</td>\n",
       "                        <td id=\"T_1d497ede_91cc_11eb_9481_f45c899b6a43row1_col1\" class=\"data row1 col1\" >$4.58</td>\n",
       "                        <td id=\"T_1d497ede_91cc_11eb_9481_f45c899b6a43row1_col2\" class=\"data row1 col2\" >$41.22</td>\n",
       "            </tr>\n",
       "            <tr>\n",
       "                        <th id=\"T_1d497ede_91cc_11eb_9481_f45c899b6a43level0_row2\" class=\"row_heading level0 row2\" >108</th>\n",
       "                        <th id=\"T_1d497ede_91cc_11eb_9481_f45c899b6a43level1_row2\" class=\"row_heading level1 row2\" >Extraction, Quickblade Of Trembling Hands</th>\n",
       "                        <td id=\"T_1d497ede_91cc_11eb_9481_f45c899b6a43row2_col0\" class=\"data row2 col0\" >9</td>\n",
       "                        <td id=\"T_1d497ede_91cc_11eb_9481_f45c899b6a43row2_col1\" class=\"data row2 col1\" >$3.53</td>\n",
       "                        <td id=\"T_1d497ede_91cc_11eb_9481_f45c899b6a43row2_col2\" class=\"data row2 col2\" >$31.77</td>\n",
       "            </tr>\n",
       "            <tr>\n",
       "                        <th id=\"T_1d497ede_91cc_11eb_9481_f45c899b6a43level0_row3\" class=\"row_heading level0 row3\" >82</th>\n",
       "                        <th id=\"T_1d497ede_91cc_11eb_9481_f45c899b6a43level1_row3\" class=\"row_heading level1 row3\" >Nirvana</th>\n",
       "                        <td id=\"T_1d497ede_91cc_11eb_9481_f45c899b6a43row3_col0\" class=\"data row3 col0\" >9</td>\n",
       "                        <td id=\"T_1d497ede_91cc_11eb_9481_f45c899b6a43row3_col1\" class=\"data row3 col1\" >$4.90</td>\n",
       "                        <td id=\"T_1d497ede_91cc_11eb_9481_f45c899b6a43row3_col2\" class=\"data row3 col2\" >$44.10</td>\n",
       "            </tr>\n",
       "            <tr>\n",
       "                        <th id=\"T_1d497ede_91cc_11eb_9481_f45c899b6a43level0_row4\" class=\"row_heading level0 row4\" >19</th>\n",
       "                        <th id=\"T_1d497ede_91cc_11eb_9481_f45c899b6a43level1_row4\" class=\"row_heading level1 row4\" >Pursuit, Cudgel of Necromancy</th>\n",
       "                        <td id=\"T_1d497ede_91cc_11eb_9481_f45c899b6a43row4_col0\" class=\"data row4 col0\" >8</td>\n",
       "                        <td id=\"T_1d497ede_91cc_11eb_9481_f45c899b6a43row4_col1\" class=\"data row4 col1\" >$1.02</td>\n",
       "                        <td id=\"T_1d497ede_91cc_11eb_9481_f45c899b6a43row4_col2\" class=\"data row4 col2\" >$8.16</td>\n",
       "            </tr>\n",
       "    </tbody></table>"
      ],
      "text/plain": [
       "<pandas.io.formats.style.Styler at 0x7fc9e0b00040>"
      ]
     },
     "execution_count": 145,
     "metadata": {},
     "output_type": "execute_result"
    }
   ],
   "source": [
    "items = purchase_data[[\"Item ID\", \"Item Name\", \"Price\"]]\n",
    "item_info = items.groupby([\"Item ID\", \"Item Name\"])\n",
    "\n",
    "item_purchase_count = item_info[\"Item Name\"].count()\n",
    "item_total_purchase = item_info[\"Price\"].sum()\n",
    "item_price = item_total_purchase/item_purchase_count\n",
    "\n",
    "popular_items = pd.DataFrame({\"Purchase Count\": item_purchase_count,\n",
    "                              \"Item Price\": item_price,\n",
    "                              \"Total Purchase Value\": item_total_purchase\n",
    "                             })\n",
    "sort_popular_items = popular_items.sort_values(by=[\"Purchase Count\"],ascending=False).head()\n",
    "sort_popular_items.style.format({\"Item Price\": \"${:,.2f}\",\n",
    "                                 \"Total Purchase Value\": \"${:,.2f}\"\n",
    "                                })"
   ]
  },
  {
   "cell_type": "markdown",
   "metadata": {},
   "source": [
    "## Most Profitable Items"
   ]
  },
  {
   "cell_type": "markdown",
   "metadata": {},
   "source": [
    "* Sort the above table by total purchase value in descending order\n",
    "\n",
    "\n",
    "* Optional: give the displayed data cleaner formatting\n",
    "\n",
    "\n",
    "* Display a preview of the data frame\n",
    "\n"
   ]
  },
  {
   "cell_type": "code",
   "execution_count": 148,
   "metadata": {
    "scrolled": true
   },
   "outputs": [
    {
     "data": {
      "text/html": [
       "<style  type=\"text/css\" >\n",
       "</style><table id=\"T_79c2bfc2_91cc_11eb_9481_f45c899b6a43\" ><thead>    <tr>        <th class=\"blank\" ></th>        <th class=\"blank level0\" ></th>        <th class=\"col_heading level0 col0\" >Purchase Count</th>        <th class=\"col_heading level0 col1\" >Item Price</th>        <th class=\"col_heading level0 col2\" >Total Purchase Value</th>    </tr>    <tr>        <th class=\"index_name level0\" >Item ID</th>        <th class=\"index_name level1\" >Item Name</th>        <th class=\"blank\" ></th>        <th class=\"blank\" ></th>        <th class=\"blank\" ></th>    </tr></thead><tbody>\n",
       "                <tr>\n",
       "                        <th id=\"T_79c2bfc2_91cc_11eb_9481_f45c899b6a43level0_row0\" class=\"row_heading level0 row0\" >178</th>\n",
       "                        <th id=\"T_79c2bfc2_91cc_11eb_9481_f45c899b6a43level1_row0\" class=\"row_heading level1 row0\" >Oathbreaker, Last Hope of the Breaking Storm</th>\n",
       "                        <td id=\"T_79c2bfc2_91cc_11eb_9481_f45c899b6a43row0_col0\" class=\"data row0 col0\" >12</td>\n",
       "                        <td id=\"T_79c2bfc2_91cc_11eb_9481_f45c899b6a43row0_col1\" class=\"data row0 col1\" >$4.23</td>\n",
       "                        <td id=\"T_79c2bfc2_91cc_11eb_9481_f45c899b6a43row0_col2\" class=\"data row0 col2\" >$50.76</td>\n",
       "            </tr>\n",
       "            <tr>\n",
       "                        <th id=\"T_79c2bfc2_91cc_11eb_9481_f45c899b6a43level0_row1\" class=\"row_heading level0 row1\" >82</th>\n",
       "                        <th id=\"T_79c2bfc2_91cc_11eb_9481_f45c899b6a43level1_row1\" class=\"row_heading level1 row1\" >Nirvana</th>\n",
       "                        <td id=\"T_79c2bfc2_91cc_11eb_9481_f45c899b6a43row1_col0\" class=\"data row1 col0\" >9</td>\n",
       "                        <td id=\"T_79c2bfc2_91cc_11eb_9481_f45c899b6a43row1_col1\" class=\"data row1 col1\" >$4.90</td>\n",
       "                        <td id=\"T_79c2bfc2_91cc_11eb_9481_f45c899b6a43row1_col2\" class=\"data row1 col2\" >$44.10</td>\n",
       "            </tr>\n",
       "            <tr>\n",
       "                        <th id=\"T_79c2bfc2_91cc_11eb_9481_f45c899b6a43level0_row2\" class=\"row_heading level0 row2\" >145</th>\n",
       "                        <th id=\"T_79c2bfc2_91cc_11eb_9481_f45c899b6a43level1_row2\" class=\"row_heading level1 row2\" >Fiery Glass Crusader</th>\n",
       "                        <td id=\"T_79c2bfc2_91cc_11eb_9481_f45c899b6a43row2_col0\" class=\"data row2 col0\" >9</td>\n",
       "                        <td id=\"T_79c2bfc2_91cc_11eb_9481_f45c899b6a43row2_col1\" class=\"data row2 col1\" >$4.58</td>\n",
       "                        <td id=\"T_79c2bfc2_91cc_11eb_9481_f45c899b6a43row2_col2\" class=\"data row2 col2\" >$41.22</td>\n",
       "            </tr>\n",
       "            <tr>\n",
       "                        <th id=\"T_79c2bfc2_91cc_11eb_9481_f45c899b6a43level0_row3\" class=\"row_heading level0 row3\" >92</th>\n",
       "                        <th id=\"T_79c2bfc2_91cc_11eb_9481_f45c899b6a43level1_row3\" class=\"row_heading level1 row3\" >Final Critic</th>\n",
       "                        <td id=\"T_79c2bfc2_91cc_11eb_9481_f45c899b6a43row3_col0\" class=\"data row3 col0\" >8</td>\n",
       "                        <td id=\"T_79c2bfc2_91cc_11eb_9481_f45c899b6a43row3_col1\" class=\"data row3 col1\" >$4.88</td>\n",
       "                        <td id=\"T_79c2bfc2_91cc_11eb_9481_f45c899b6a43row3_col2\" class=\"data row3 col2\" >$39.04</td>\n",
       "            </tr>\n",
       "            <tr>\n",
       "                        <th id=\"T_79c2bfc2_91cc_11eb_9481_f45c899b6a43level0_row4\" class=\"row_heading level0 row4\" >103</th>\n",
       "                        <th id=\"T_79c2bfc2_91cc_11eb_9481_f45c899b6a43level1_row4\" class=\"row_heading level1 row4\" >Singed Scalpel</th>\n",
       "                        <td id=\"T_79c2bfc2_91cc_11eb_9481_f45c899b6a43row4_col0\" class=\"data row4 col0\" >8</td>\n",
       "                        <td id=\"T_79c2bfc2_91cc_11eb_9481_f45c899b6a43row4_col1\" class=\"data row4 col1\" >$4.35</td>\n",
       "                        <td id=\"T_79c2bfc2_91cc_11eb_9481_f45c899b6a43row4_col2\" class=\"data row4 col2\" >$34.80</td>\n",
       "            </tr>\n",
       "    </tbody></table>"
      ],
      "text/plain": [
       "<pandas.io.formats.style.Styler at 0x7fc9e0baf5b0>"
      ]
     },
     "execution_count": 148,
     "metadata": {},
     "output_type": "execute_result"
    }
   ],
   "source": [
    "sort_profitable = popular_items.sort_values(by=[\"Total Purchase Value\"], ascending=False).head()\n",
    "sort_profitable.style.format({\"Item Price\": \"${:,.2f}\",\n",
    "                              \"Total Purchase Value\": \"${:,.2f}\"\n",
    "                            })"
   ]
  },
  {
   "cell_type": "code",
   "execution_count": null,
   "metadata": {},
   "outputs": [],
   "source": []
  }
 ],
 "metadata": {
  "anaconda-cloud": {},
  "kernel_info": {
   "name": "python3"
  },
  "kernelspec": {
   "display_name": "Python 3",
   "language": "python",
   "name": "python3"
  },
  "language_info": {
   "codemirror_mode": {
    "name": "ipython",
    "version": 3
   },
   "file_extension": ".py",
   "mimetype": "text/x-python",
   "name": "python",
   "nbconvert_exporter": "python",
   "pygments_lexer": "ipython3",
   "version": "3.8.5"
  },
  "nteract": {
   "version": "0.2.0"
  }
 },
 "nbformat": 4,
 "nbformat_minor": 4
}
