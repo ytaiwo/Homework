{
 "cells": [
  {
   "cell_type": "code",
   "execution_count": null,
   "metadata": {},
   "outputs": [],
   "source": [
    "#gender_count = purchase_data['Gender'].value_counts()\n",
    "#gender_percent = purchase_data['Gender'].value_counts(normalize=True) * 100\n",
    "#print(purchase_data['Gender'].unique())\n",
    "\n",
    "#gender = pd.DataFrame({\"Total Count\": [purchase_data['Gender'].value_counts()],\n",
    "#                       \"Percentage of Players\" : [purchase_data['Gender'].value_counts(normalize=True) * 100],\n",
    "#                       \"Gender\": [purchase_data['Gender'].unique()]\n",
    "#                      })\n",
    "\n",
    "#gender.set_index(\"Gender\")\n",
    "\n",
    "#percents_df = purchase_data['Gender'].apply(lambda x: 100 * x / float(x.sum()))\n",
    "\n",
    "#grouped_gender = purchase_data.groupby(\"Gender\")\n",
    "#grouped_gender.count()\n",
    "\n",
    "#purchase_data[[\"Gender\"]].groupby(\"Gender\").count()"
   ]
  }
 ],
 "metadata": {
  "kernelspec": {
   "display_name": "Python 3",
   "language": "python",
   "name": "python3"
  },
  "language_info": {
   "codemirror_mode": {
    "name": "ipython",
    "version": 3
   },
   "file_extension": ".py",
   "mimetype": "text/x-python",
   "name": "python",
   "nbconvert_exporter": "python",
   "pygments_lexer": "ipython3",
   "version": "3.8.5"
  }
 },
 "nbformat": 4,
 "nbformat_minor": 4
}
