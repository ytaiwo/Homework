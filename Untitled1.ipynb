{
 "cells": [
  {
   "cell_type": "code",
   "execution_count": null,
   "metadata": {},
   "outputs": [],
   "source": [
    "colors = [\"purple\", \"blue\", \"yellow\", \"orange\", \"green\"]\n",
    "\n",
    "for x in colors:\n",
    "    colors=[x.capitalize() for x in colors]\n",
    "print(colors)"
   ]
  },
  {
   "cell_type": "code",
   "execution_count": null,
   "metadata": {},
   "outputs": [],
   "source": [
    "double_trouble = ['cat', 'dog', ['mouse','mosquito','bat','mosquito'],['elephant','dog','whale','lion',32,'mosquito'],'bird',[],'mosquitoe']\n",
    "\n",
    "#for name in double_trouble:\n",
    "    #print(name)\n",
    "    #if name == 'mosquito':\n",
    "        #double_trouble.remove(name)\n",
    "    #for word in name:\n",
    "        #print(word)\n",
    "        #if word == 'mosquito':\n",
    "            #double_trouble.remove(word)\n",
    "#print(double_trouble)\n",
    "\n",
    "for name in list(double_trouble):\n",
    "    double_trouble = name.remove('mosquito')\n",
    "print(double_trouble)"
   ]
  },
  {
   "cell_type": "code",
   "execution_count": null,
   "metadata": {},
   "outputs": [],
   "source": []
  },
  {
   "cell_type": "code",
   "execution_count": null,
   "metadata": {},
   "outputs": [],
   "source": [
    "def fibonacci():\n",
    "    n1 = 0\n",
    "    n2 = 1\n",
    "    start = 0\n",
    "    while start < 25:\n",
    "        total = n1 + n2\n",
    "        n1 = n2\n",
    "        n2 = total\n",
    "        start +=\n",
    "        print(total)\n",
    "\n",
    "fibonacci()"
   ]
  },
  {
   "cell_type": "code",
   "execution_count": null,
   "metadata": {},
   "outputs": [],
   "source": []
  }
 ],
 "metadata": {
  "kernelspec": {
   "display_name": "Python 3",
   "language": "python",
   "name": "python3"
  },
  "language_info": {
   "codemirror_mode": {
    "name": "ipython",
    "version": 3
   },
   "file_extension": ".py",
   "mimetype": "text/x-python",
   "name": "python",
   "nbconvert_exporter": "python",
   "pygments_lexer": "ipython3",
   "version": "3.8.5"
  }
 },
 "nbformat": 4,
 "nbformat_minor": 4
}
