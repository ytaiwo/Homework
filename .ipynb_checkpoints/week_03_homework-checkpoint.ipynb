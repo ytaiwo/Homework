{
 "cells": [
  {
   "cell_type": "markdown",
   "metadata": {},
   "source": [
    "### Homework 3 Numpy Arrays\n",
    "\n",
    "1. Open `cars.csv` in jupyter and look at the data. (Double click `cars.csv` to open in a new tab).\n",
    "2. We are converting each **column** into an numpy array.\n",
    "3. Notice we have text, integer and float data. \n",
    "4. Take care not to overwrite your starter code."
   ]
  },
  {
   "cell_type": "code",
   "execution_count": 2,
   "metadata": {},
   "outputs": [],
   "source": [
    "#Starter code. Do NOT modify this cell\n",
    "import pandas as pd\n",
    "import numpy as np\n",
    "\n",
    "# Read in dataset\n",
    "df = pd.read_csv('cars.csv',delimiter=';')\n",
    "\n",
    "# Convert each column to an np.array\n",
    "car = df.Car.to_numpy()\n",
    "mpg = df.MPG.to_numpy()\n",
    "cylinders = df.Cylinders.to_numpy()\n",
    "displacement = df.Displacement.to_numpy()\n",
    "horsepower = df.Horsepower.to_numpy()\n",
    "weight = df.Weight.to_numpy()\n",
    "acceleration = df.Acceleration.to_numpy()\n",
    "model = df.Model.to_numpy()\n",
    "origin = df.Origin.to_numpy()\n",
    "\n",
    "# create an array of headers\n",
    "headers = np.array(['Car', 'MPG', 'Cylinders', 'Displacement', 'Horsepower', 'Weight','Acceleration', 'Model', 'Origin'])\n"
   ]
  },
  {
   "cell_type": "markdown",
   "metadata": {},
   "source": [
    "1. How can you get help on `np.array`?\n",
    "\n",
    "Call `dir()` on `np.array`. \n",
    "\n",
    "Call `dir()` on `car`.\n",
    "\n",
    "Note the difference. `car` has methods and attributes we can use."
   ]
  },
  {
   "cell_type": "code",
   "execution_count": 8,
   "metadata": {},
   "outputs": [
    {
     "name": "stdout",
     "output_type": "stream",
     "text": [
      "Help on built-in function array in module numpy:\n",
      "\n",
      "array(...)\n",
      "    array(object, dtype=None, *, copy=True, order='K', subok=False, ndmin=0)\n",
      "    \n",
      "    Create an array.\n",
      "    \n",
      "    Parameters\n",
      "    ----------\n",
      "    object : array_like\n",
      "        An array, any object exposing the array interface, an object whose\n",
      "        __array__ method returns an array, or any (nested) sequence.\n",
      "    dtype : data-type, optional\n",
      "        The desired data-type for the array.  If not given, then the type will\n",
      "        be determined as the minimum type required to hold the objects in the\n",
      "        sequence.\n",
      "    copy : bool, optional\n",
      "        If true (default), then the object is copied.  Otherwise, a copy will\n",
      "        only be made if __array__ returns a copy, if obj is a nested sequence,\n",
      "        or if a copy is needed to satisfy any of the other requirements\n",
      "        (`dtype`, `order`, etc.).\n",
      "    order : {'K', 'A', 'C', 'F'}, optional\n",
      "        Specify the memory layout of the array. If object is not an array, the\n",
      "        newly created array will be in C order (row major) unless 'F' is\n",
      "        specified, in which case it will be in Fortran order (column major).\n",
      "        If object is an array the following holds.\n",
      "    \n",
      "        ===== ========= ===================================================\n",
      "        order  no copy                     copy=True\n",
      "        ===== ========= ===================================================\n",
      "        'K'   unchanged F & C order preserved, otherwise most similar order\n",
      "        'A'   unchanged F order if input is F and not C, otherwise C order\n",
      "        'C'   C order   C order\n",
      "        'F'   F order   F order\n",
      "        ===== ========= ===================================================\n",
      "    \n",
      "        When ``copy=False`` and a copy is made for other reasons, the result is\n",
      "        the same as if ``copy=True``, with some exceptions for `A`, see the\n",
      "        Notes section. The default order is 'K'.\n",
      "    subok : bool, optional\n",
      "        If True, then sub-classes will be passed-through, otherwise\n",
      "        the returned array will be forced to be a base-class array (default).\n",
      "    ndmin : int, optional\n",
      "        Specifies the minimum number of dimensions that the resulting\n",
      "        array should have.  Ones will be pre-pended to the shape as\n",
      "        needed to meet this requirement.\n",
      "    \n",
      "    Returns\n",
      "    -------\n",
      "    out : ndarray\n",
      "        An array object satisfying the specified requirements.\n",
      "    \n",
      "    See Also\n",
      "    --------\n",
      "    empty_like : Return an empty array with shape and type of input.\n",
      "    ones_like : Return an array of ones with shape and type of input.\n",
      "    zeros_like : Return an array of zeros with shape and type of input.\n",
      "    full_like : Return a new array with shape of input filled with value.\n",
      "    empty : Return a new uninitialized array.\n",
      "    ones : Return a new array setting values to one.\n",
      "    zeros : Return a new array setting values to zero.\n",
      "    full : Return a new array of given shape filled with value.\n",
      "    \n",
      "    \n",
      "    Notes\n",
      "    -----\n",
      "    When order is 'A' and `object` is an array in neither 'C' nor 'F' order,\n",
      "    and a copy is forced by a change in dtype, then the order of the result is\n",
      "    not necessarily 'C' as expected. This is likely a bug.\n",
      "    \n",
      "    Examples\n",
      "    --------\n",
      "    >>> np.array([1, 2, 3])\n",
      "    array([1, 2, 3])\n",
      "    \n",
      "    Upcasting:\n",
      "    \n",
      "    >>> np.array([1, 2, 3.0])\n",
      "    array([ 1.,  2.,  3.])\n",
      "    \n",
      "    More than one dimension:\n",
      "    \n",
      "    >>> np.array([[1, 2], [3, 4]])\n",
      "    array([[1, 2],\n",
      "           [3, 4]])\n",
      "    \n",
      "    Minimum dimensions 2:\n",
      "    \n",
      "    >>> np.array([1, 2, 3], ndmin=2)\n",
      "    array([[1, 2, 3]])\n",
      "    \n",
      "    Type provided:\n",
      "    \n",
      "    >>> np.array([1, 2, 3], dtype=complex)\n",
      "    array([ 1.+0.j,  2.+0.j,  3.+0.j])\n",
      "    \n",
      "    Data-type consisting of more than one element:\n",
      "    \n",
      "    >>> x = np.array([(1,2),(3,4)],dtype=[('a','<i4'),('b','<i4')])\n",
      "    >>> x['a']\n",
      "    array([1, 3])\n",
      "    \n",
      "    Creating an array from sub-classes:\n",
      "    \n",
      "    >>> np.array(np.mat('1 2; 3 4'))\n",
      "    array([[1, 2],\n",
      "           [3, 4]])\n",
      "    \n",
      "    >>> np.array(np.mat('1 2; 3 4'), subok=True)\n",
      "    matrix([[1, 2],\n",
      "            [3, 4]])\n",
      "\n"
     ]
    },
    {
     "data": {
      "text/plain": [
       "['T',\n",
       " '__abs__',\n",
       " '__add__',\n",
       " '__and__',\n",
       " '__array__',\n",
       " '__array_finalize__',\n",
       " '__array_function__',\n",
       " '__array_interface__',\n",
       " '__array_prepare__',\n",
       " '__array_priority__',\n",
       " '__array_struct__',\n",
       " '__array_ufunc__',\n",
       " '__array_wrap__',\n",
       " '__bool__',\n",
       " '__class__',\n",
       " '__complex__',\n",
       " '__contains__',\n",
       " '__copy__',\n",
       " '__deepcopy__',\n",
       " '__delattr__',\n",
       " '__delitem__',\n",
       " '__dir__',\n",
       " '__divmod__',\n",
       " '__doc__',\n",
       " '__eq__',\n",
       " '__float__',\n",
       " '__floordiv__',\n",
       " '__format__',\n",
       " '__ge__',\n",
       " '__getattribute__',\n",
       " '__getitem__',\n",
       " '__gt__',\n",
       " '__hash__',\n",
       " '__iadd__',\n",
       " '__iand__',\n",
       " '__ifloordiv__',\n",
       " '__ilshift__',\n",
       " '__imatmul__',\n",
       " '__imod__',\n",
       " '__imul__',\n",
       " '__index__',\n",
       " '__init__',\n",
       " '__init_subclass__',\n",
       " '__int__',\n",
       " '__invert__',\n",
       " '__ior__',\n",
       " '__ipow__',\n",
       " '__irshift__',\n",
       " '__isub__',\n",
       " '__iter__',\n",
       " '__itruediv__',\n",
       " '__ixor__',\n",
       " '__le__',\n",
       " '__len__',\n",
       " '__lshift__',\n",
       " '__lt__',\n",
       " '__matmul__',\n",
       " '__mod__',\n",
       " '__mul__',\n",
       " '__ne__',\n",
       " '__neg__',\n",
       " '__new__',\n",
       " '__or__',\n",
       " '__pos__',\n",
       " '__pow__',\n",
       " '__radd__',\n",
       " '__rand__',\n",
       " '__rdivmod__',\n",
       " '__reduce__',\n",
       " '__reduce_ex__',\n",
       " '__repr__',\n",
       " '__rfloordiv__',\n",
       " '__rlshift__',\n",
       " '__rmatmul__',\n",
       " '__rmod__',\n",
       " '__rmul__',\n",
       " '__ror__',\n",
       " '__rpow__',\n",
       " '__rrshift__',\n",
       " '__rshift__',\n",
       " '__rsub__',\n",
       " '__rtruediv__',\n",
       " '__rxor__',\n",
       " '__setattr__',\n",
       " '__setitem__',\n",
       " '__setstate__',\n",
       " '__sizeof__',\n",
       " '__str__',\n",
       " '__sub__',\n",
       " '__subclasshook__',\n",
       " '__truediv__',\n",
       " '__xor__',\n",
       " 'all',\n",
       " 'any',\n",
       " 'argmax',\n",
       " 'argmin',\n",
       " 'argpartition',\n",
       " 'argsort',\n",
       " 'astype',\n",
       " 'base',\n",
       " 'byteswap',\n",
       " 'choose',\n",
       " 'clip',\n",
       " 'compress',\n",
       " 'conj',\n",
       " 'conjugate',\n",
       " 'copy',\n",
       " 'ctypes',\n",
       " 'cumprod',\n",
       " 'cumsum',\n",
       " 'data',\n",
       " 'diagonal',\n",
       " 'dot',\n",
       " 'dtype',\n",
       " 'dump',\n",
       " 'dumps',\n",
       " 'fill',\n",
       " 'flags',\n",
       " 'flat',\n",
       " 'flatten',\n",
       " 'getfield',\n",
       " 'imag',\n",
       " 'item',\n",
       " 'itemset',\n",
       " 'itemsize',\n",
       " 'max',\n",
       " 'mean',\n",
       " 'min',\n",
       " 'nbytes',\n",
       " 'ndim',\n",
       " 'newbyteorder',\n",
       " 'nonzero',\n",
       " 'partition',\n",
       " 'prod',\n",
       " 'ptp',\n",
       " 'put',\n",
       " 'ravel',\n",
       " 'real',\n",
       " 'repeat',\n",
       " 'reshape',\n",
       " 'resize',\n",
       " 'round',\n",
       " 'searchsorted',\n",
       " 'setfield',\n",
       " 'setflags',\n",
       " 'shape',\n",
       " 'size',\n",
       " 'sort',\n",
       " 'squeeze',\n",
       " 'std',\n",
       " 'strides',\n",
       " 'sum',\n",
       " 'swapaxes',\n",
       " 'take',\n",
       " 'tobytes',\n",
       " 'tofile',\n",
       " 'tolist',\n",
       " 'tostring',\n",
       " 'trace',\n",
       " 'transpose',\n",
       " 'var',\n",
       " 'view']"
      ]
     },
     "execution_count": 8,
     "metadata": {},
     "output_type": "execute_result"
    }
   ],
   "source": [
    "help(np.array)\n",
    "dir(np.array)\n",
    "dir(car)"
   ]
  },
  {
   "cell_type": "markdown",
   "metadata": {},
   "source": [
    "2. What are the numpy datatypes for the `car`,`mpg`, `horsepower` and `origin` arrays? (Hint: Not `type(car)` and use `print()` to print the numpy type.)"
   ]
  },
  {
   "cell_type": "code",
   "execution_count": 9,
   "metadata": {},
   "outputs": [
    {
     "name": "stdout",
     "output_type": "stream",
     "text": [
      "object\n",
      "float64\n",
      "float64\n",
      "object\n"
     ]
    }
   ],
   "source": [
    "print(car.dtype)\n",
    "print(mpg.dtype)\n",
    "print(horsepower.dtype)\n",
    "print(origin.dtype)"
   ]
  },
  {
   "cell_type": "markdown",
   "metadata": {},
   "source": [
    "3. `numpy` is often imported as `np`. What is this action called? Why might you do this? "
   ]
  },
  {
   "cell_type": "code",
   "execution_count": null,
   "metadata": {},
   "outputs": [],
   "source": [
    "#naming convention\n",
    "#used to save time and keep code standardized so it's easier to understand"
   ]
  },
  {
   "cell_type": "markdown",
   "metadata": {},
   "source": [
    "4. Each of the arrays (cars, mpg, cylinders, etc..) has how many dimensions? Show how to find this using code. "
   ]
  },
  {
   "cell_type": "code",
   "execution_count": 11,
   "metadata": {},
   "outputs": [
    {
     "name": "stdout",
     "output_type": "stream",
     "text": [
      "1\n",
      "1\n",
      "1\n"
     ]
    }
   ],
   "source": [
    "print(car.ndim)\n",
    "print(mpg.ndim)\n",
    "print(cylinders.ndim)"
   ]
  },
  {
   "cell_type": "markdown",
   "metadata": {},
   "source": [
    "5. Show how to:\n",
    "\n",
    "- multiply the `mpg` array by 12.\n",
    "- divide the `mpg` array by 3.\n",
    "- raise the `mpg` array to the power of 4.\n",
    "- take the square root of the `mpg` array."
   ]
  },
  {
   "cell_type": "code",
   "execution_count": 14,
   "metadata": {},
   "outputs": [
    {
     "name": "stdout",
     "output_type": "stream",
     "text": [
      "[216.  180.  216.  192.  204.  180.  168.  168.  168.  180.    0.    0.\n",
      "   0.    0.    0.  180.  168.    0.  180.  168.  288.  264.  216.  252.\n",
      " 324.  312.  300.  288.  300.  312.  252.  120.  120.  132.  108.  324.\n",
      " 336.  300.  300.    0.  228.  192.  204.  228.  216.  168.  168.  168.\n",
      " 168.  144.  156.  156.  216.  264.  228.  216.  276.  336.  360.  360.\n",
      " 372.  420.  324.  312.  288.  300.  276.  240.  252.  156.  168.  180.\n",
      " 168.  204.  132.  156.  144.  156.  228.  180.  156.  156.  168.  216.\n",
      " 264.  252.  312.  264.  336.  276.  336.  324.  156.  168.  156.  168.\n",
      " 180.  144.  156.  156.  168.  156.  144.  156.  216.  192.  216.  216.\n",
      " 276.  312.  132.  144.  156.  144.  216.  240.  252.  264.  216.  228.\n",
      " 252.  312.  180.  192.  348.  288.  240.  228.  180.  288.  240.  132.\n",
      " 240.  252.  228.  180.  372.  312.  384.  300.  192.  192.  216.  192.\n",
      " 156.  168.  168.  168.  348.  312.  312.  372.  384.  336.  288.  312.\n",
      " 288.  312.  372.  228.  216.  180.  180.  192.  180.  192.  168.  204.\n",
      " 192.  180.  216.  252.  240.  156.  348.  276.  240.  276.  288.  300.\n",
      " 288.  216.  348.  228.  276.  276.  264.  300.  396.  336.  300.  300.\n",
      " 312.  324.  210.  192.  186.  174.  264.  264.  288.  270.  348.  294.\n",
      " 348.  396.  240.  216.  222.  210.  354.  384.  336.  318.  240.  156.\n",
      " 228.  228.  198.  198.  156.  156.  156.  378.  360.  432.  306.  402.\n",
      " 210.  204.  186.  180.  210.  246.  228.  222.  192.  186.  186.  192.\n",
      " 348.  294.  312.  306.  366.  402.  360.  366.  264.  258.  258.  517.2\n",
      " 433.2 393.6 472.8 433.2 238.8 232.8 242.4 230.4 246.  242.4 301.2 246.\n",
      " 232.8 247.2 249.6 223.2 217.2 230.4 212.4 217.2 210.  360.  330.  326.4\n",
      " 370.8 253.2 278.4 285.6 286.8 243.6 204.  259.2 194.4 378.  354.  258.\n",
      " 237.6 267.6 242.4 247.2 204.  211.2 198.  218.4 202.8 186.  230.4 222.\n",
      " 382.8 409.2 428.4 328.8 304.8 276.  326.4 286.8 410.4 414.  381.6 447.6\n",
      " 340.8 345.6 321.6 402.  498.  457.2 385.2 446.4 336.  316.8 291.6 229.2\n",
      " 411.6 357.6 375.6 444.  386.4 559.2 334.8 489.6 531.6 520.8 436.8 360.\n",
      " 535.2 490.8 405.6 357.6 392.4 284.4 420.  283.2 388.8 326.4 319.2 309.6\n",
      " 282.  360.  469.2 468.  421.2 387.6 444.  452.4 409.2 416.4 412.8 358.8\n",
      " 396.  414.  404.4 388.8 394.8 379.2 337.2   0.  368.4 304.8 290.4 268.8\n",
      " 319.2 242.4 211.2 336.  324.  408.  372.  348.  324.  288.  276.  432.\n",
      " 444.  372.  456.  432.  432.  432.  408.  456.  384.  456.  300.  456.\n",
      " 312.  264.  384.  432.  324.  324.  528.  384.  336.  372. ]\n",
      "[ 6.          5.          6.          5.33333333  5.66666667  5.\n",
      "  4.66666667  4.66666667  4.66666667  5.          0.          0.\n",
      "  0.          0.          0.          5.          4.66666667  0.\n",
      "  5.          4.66666667  8.          7.33333333  6.          7.\n",
      "  9.          8.66666667  8.33333333  8.          8.33333333  8.66666667\n",
      "  7.          3.33333333  3.33333333  3.66666667  3.          9.\n",
      "  9.33333333  8.33333333  8.33333333  0.          6.33333333  5.33333333\n",
      "  5.66666667  6.33333333  6.          4.66666667  4.66666667  4.66666667\n",
      "  4.66666667  4.          4.33333333  4.33333333  6.          7.33333333\n",
      "  6.33333333  6.          7.66666667  9.33333333 10.         10.\n",
      " 10.33333333 11.66666667  9.          8.66666667  8.          8.33333333\n",
      "  7.66666667  6.66666667  7.          4.33333333  4.66666667  5.\n",
      "  4.66666667  5.66666667  3.66666667  4.33333333  4.          4.33333333\n",
      "  6.33333333  5.          4.33333333  4.33333333  4.66666667  6.\n",
      "  7.33333333  7.          8.66666667  7.33333333  9.33333333  7.66666667\n",
      "  9.33333333  9.          4.33333333  4.66666667  4.33333333  4.66666667\n",
      "  5.          4.          4.33333333  4.33333333  4.66666667  4.33333333\n",
      "  4.          4.33333333  6.          5.33333333  6.          6.\n",
      "  7.66666667  8.66666667  3.66666667  4.          4.33333333  4.\n",
      "  6.          6.66666667  7.          7.33333333  6.          6.33333333\n",
      "  7.          8.66666667  5.          5.33333333  9.66666667  8.\n",
      "  6.66666667  6.33333333  5.          8.          6.66666667  3.66666667\n",
      "  6.66666667  7.          6.33333333  5.         10.33333333  8.66666667\n",
      " 10.66666667  8.33333333  5.33333333  5.33333333  6.          5.33333333\n",
      "  4.33333333  4.66666667  4.66666667  4.66666667  9.66666667  8.66666667\n",
      "  8.66666667 10.33333333 10.66666667  9.33333333  8.          8.66666667\n",
      "  8.          8.66666667 10.33333333  6.33333333  6.          5.\n",
      "  5.          5.33333333  5.          5.33333333  4.66666667  5.66666667\n",
      "  5.33333333  5.          6.          7.          6.66666667  4.33333333\n",
      "  9.66666667  7.66666667  6.66666667  7.66666667  8.          8.33333333\n",
      "  8.          6.          9.66666667  6.33333333  7.66666667  7.66666667\n",
      "  7.33333333  8.33333333 11.          9.33333333  8.33333333  8.33333333\n",
      "  8.66666667  9.          5.83333333  5.33333333  5.16666667  4.83333333\n",
      "  7.33333333  7.33333333  8.          7.5         9.66666667  8.16666667\n",
      "  9.66666667 11.          6.66666667  6.          6.16666667  5.83333333\n",
      "  9.83333333 10.66666667  9.33333333  8.83333333  6.66666667  4.33333333\n",
      "  6.33333333  6.33333333  5.5         5.5         4.33333333  4.33333333\n",
      "  4.33333333 10.5        10.         12.          8.5        11.16666667\n",
      "  5.83333333  5.66666667  5.16666667  5.          5.83333333  6.83333333\n",
      "  6.33333333  6.16666667  5.33333333  5.16666667  5.16666667  5.33333333\n",
      "  9.66666667  8.16666667  8.66666667  8.5        10.16666667 11.16666667\n",
      " 10.         10.16666667  7.33333333  7.16666667  7.16666667 14.36666667\n",
      " 12.03333333 10.93333333 13.13333333 12.03333333  6.63333333  6.46666667\n",
      "  6.73333333  6.4         6.83333333  6.73333333  8.36666667  6.83333333\n",
      "  6.46666667  6.86666667  6.93333333  6.2         6.03333333  6.4\n",
      "  5.9         6.03333333  5.83333333 10.          9.16666667  9.06666667\n",
      " 10.3         7.03333333  7.73333333  7.93333333  7.96666667  6.76666667\n",
      "  5.66666667  7.2         5.4        10.5         9.83333333  7.16666667\n",
      "  6.6         7.43333333  6.73333333  6.86666667  5.66666667  5.86666667\n",
      "  5.5         6.06666667  5.63333333  5.16666667  6.4         6.16666667\n",
      " 10.63333333 11.36666667 11.9         9.13333333  8.46666667  7.66666667\n",
      "  9.06666667  7.96666667 11.4        11.5        10.6        12.43333333\n",
      "  9.46666667  9.6         8.93333333 11.16666667 13.83333333 12.7\n",
      " 10.7        12.4         9.33333333  8.8         8.1         6.36666667\n",
      " 11.43333333  9.93333333 10.43333333 12.33333333 10.73333333 15.53333333\n",
      "  9.3        13.6        14.76666667 14.46666667 12.13333333 10.\n",
      " 14.86666667 13.63333333 11.26666667  9.93333333 10.9         7.9\n",
      " 11.66666667  7.86666667 10.8         9.06666667  8.86666667  8.6\n",
      "  7.83333333 10.         13.03333333 13.         11.7        10.76666667\n",
      " 12.33333333 12.56666667 11.36666667 11.56666667 11.46666667  9.96666667\n",
      " 11.         11.5        11.23333333 10.8        10.96666667 10.53333333\n",
      "  9.36666667  0.         10.23333333  8.46666667  8.06666667  7.46666667\n",
      "  8.86666667  6.73333333  5.86666667  9.33333333  9.         11.33333333\n",
      " 10.33333333  9.66666667  9.          8.          7.66666667 12.\n",
      " 12.33333333 10.33333333 12.66666667 12.         12.         12.\n",
      " 11.33333333 12.66666667 10.66666667 12.66666667  8.33333333 12.66666667\n",
      "  8.66666667  7.33333333 10.66666667 12.          9.          9.\n",
      " 14.66666667 10.66666667  9.33333333 10.33333333]\n",
      "[ 104976.       50625.      104976.       65536.       83521.\n",
      "   50625.       38416.       38416.       38416.       50625.\n",
      "       0.           0.           0.           0.           0.\n",
      "   50625.       38416.           0.       50625.       38416.\n",
      "  331776.      234256.      104976.      194481.      531441.\n",
      "  456976.      390625.      331776.      390625.      456976.\n",
      "  194481.       10000.       10000.       14641.        6561.\n",
      "  531441.      614656.      390625.      390625.           0.\n",
      "  130321.       65536.       83521.      130321.      104976.\n",
      "   38416.       38416.       38416.       38416.       20736.\n",
      "   28561.       28561.      104976.      234256.      130321.\n",
      "  104976.      279841.      614656.      810000.      810000.\n",
      "  923521.     1500625.      531441.      456976.      331776.\n",
      "  390625.      279841.      160000.      194481.       28561.\n",
      "   38416.       50625.       38416.       83521.       14641.\n",
      "   28561.       20736.       28561.      130321.       50625.\n",
      "   28561.       28561.       38416.      104976.      234256.\n",
      "  194481.      456976.      234256.      614656.      279841.\n",
      "  614656.      531441.       28561.       38416.       28561.\n",
      "   38416.       50625.       20736.       28561.       28561.\n",
      "   38416.       28561.       20736.       28561.      104976.\n",
      "   65536.      104976.      104976.      279841.      456976.\n",
      "   14641.       20736.       28561.       20736.      104976.\n",
      "  160000.      194481.      234256.      104976.      130321.\n",
      "  194481.      456976.       50625.       65536.      707281.\n",
      "  331776.      160000.      130321.       50625.      331776.\n",
      "  160000.       14641.      160000.      194481.      130321.\n",
      "   50625.      923521.      456976.     1048576.      390625.\n",
      "   65536.       65536.      104976.       65536.       28561.\n",
      "   38416.       38416.       38416.      707281.      456976.\n",
      "  456976.      923521.     1048576.      614656.      331776.\n",
      "  456976.      331776.      456976.      923521.      130321.\n",
      "  104976.       50625.       50625.       65536.       50625.\n",
      "   65536.       38416.       83521.       65536.       50625.\n",
      "  104976.      194481.      160000.       28561.      707281.\n",
      "  279841.      160000.      279841.      331776.      390625.\n",
      "  331776.      104976.      707281.      130321.      279841.\n",
      "  279841.      234256.      390625.     1185921.      614656.\n",
      "  390625.      390625.      456976.      531441.       93789.0625\n",
      "   65536.       57720.0625   44205.0625  234256.      234256.\n",
      "  331776.      256289.0625  707281.      360300.0625  707281.\n",
      " 1185921.      160000.      104976.      117135.0625   93789.0625\n",
      "  757335.0625 1048576.      614656.      493155.0625  160000.\n",
      "   28561.      130321.      130321.       74120.0625   74120.0625\n",
      "   28561.       28561.       28561.      984560.0625  810000.\n",
      " 1679616.      422825.0625 1259445.0625   93789.0625   83521.\n",
      "   57720.0625   50625.       93789.0625  176610.0625  130321.\n",
      "  117135.0625   65536.       57720.0625   57720.0625   65536.\n",
      "  707281.      360300.0625  456976.      422825.0625  865365.0625\n",
      " 1259445.0625  810000.      865365.0625  234256.      213675.0625\n",
      "  213675.0625 3450714.9121 1698356.3041 1157431.7056 2409821.5696\n",
      " 1698356.3041  156823.9201  141646.8496  166496.6416  135895.4496\n",
      "  176610.0625  166496.6416  396912.6001  176610.0625  141646.8496\n",
      "  180081.4096  187177.3696  119688.3216  107328.3121  135895.4496\n",
      "   98150.6241  107328.3121   93789.0625  810000.      571914.0625\n",
      "  547363.2256  911662.1361  198211.9441  289702.2976  320854.2736\n",
      "  326280.8641  169818.1681   83521.      217678.2336   68874.7536\n",
      "  984560.0625  757335.0625  213675.0625  153695.3616  247297.3441\n",
      "  166496.6416  180081.4096   83521.       95951.2576   74120.0625\n",
      "  109719.9376   81573.0721   57720.0625  135895.4496  117135.0625\n",
      " 1035530.1121 1352127.0961 1624324.7601  563640.5776  416231.4256\n",
      "  279841.      547363.2256  326280.8641 1368057.7296 1416695.0625\n",
      " 1022606.3376 1935687.8641  650539.0336  687970.7136  515868.6976\n",
      " 1259445.0625 2966145.0625 2107171.5921 1061744.7681 1915013.1456\n",
      "  614656.      485753.2416  348678.4401  133086.3361 1384128.7201\n",
      "  788615.0416  959792.4961 1874161.     1075037.1856 4715672.8336\n",
      "  605922.1281 2771026.3296 3851367.0001 3547798.2736 1755519.0016\n",
      "  810000.     3956757.5056 2798293.2961 1305169.1536  788615.0416\n",
      " 1143381.1041  315495.6561 1500625.      310204.4416 1101996.0576\n",
      "  547363.2256  500641.1536  443076.6096  304980.0625  810000.\n",
      " 2337260.0161 2313441.     1517848.6401 1088454.0241 1874161.\n",
      " 2020065.2641 1352127.0961 1449832.7281 1400340.8896  799253.8801\n",
      " 1185921.     1416695.0625 1289791.7761 1101996.0576 1171611.4081\n",
      "  997122.0736  623483.9521       0.      888287.4001  416231.4256\n",
      "  342974.2096  251763.0976  500641.1536  166496.6416   95951.2576\n",
      "  614656.      531441.     1336336.      923521.      707281.\n",
      "  531441.      331776.      279841.     1679616.     1874161.\n",
      "  923521.     2085136.     1679616.     1679616.     1679616.\n",
      " 1336336.     2085136.     1048576.     2085136.      390625.\n",
      " 2085136.      456976.      234256.     1048576.     1679616.\n",
      "  531441.      531441.     3748096.     1048576.      614656.\n",
      "  923521.    ]\n"
     ]
    },
    {
     "data": {
      "text/plain": [
       "array([4.24264069, 3.87298335, 4.24264069, 4.        , 4.12310563,\n",
       "       3.87298335, 3.74165739, 3.74165739, 3.74165739, 3.87298335,\n",
       "       0.        , 0.        , 0.        , 0.        , 0.        ,\n",
       "       3.87298335, 3.74165739, 0.        , 3.87298335, 3.74165739,\n",
       "       4.89897949, 4.69041576, 4.24264069, 4.58257569, 5.19615242,\n",
       "       5.09901951, 5.        , 4.89897949, 5.        , 5.09901951,\n",
       "       4.58257569, 3.16227766, 3.16227766, 3.31662479, 3.        ,\n",
       "       5.19615242, 5.29150262, 5.        , 5.        , 0.        ,\n",
       "       4.35889894, 4.        , 4.12310563, 4.35889894, 4.24264069,\n",
       "       3.74165739, 3.74165739, 3.74165739, 3.74165739, 3.46410162,\n",
       "       3.60555128, 3.60555128, 4.24264069, 4.69041576, 4.35889894,\n",
       "       4.24264069, 4.79583152, 5.29150262, 5.47722558, 5.47722558,\n",
       "       5.56776436, 5.91607978, 5.19615242, 5.09901951, 4.89897949,\n",
       "       5.        , 4.79583152, 4.47213595, 4.58257569, 3.60555128,\n",
       "       3.74165739, 3.87298335, 3.74165739, 4.12310563, 3.31662479,\n",
       "       3.60555128, 3.46410162, 3.60555128, 4.35889894, 3.87298335,\n",
       "       3.60555128, 3.60555128, 3.74165739, 4.24264069, 4.69041576,\n",
       "       4.58257569, 5.09901951, 4.69041576, 5.29150262, 4.79583152,\n",
       "       5.29150262, 5.19615242, 3.60555128, 3.74165739, 3.60555128,\n",
       "       3.74165739, 3.87298335, 3.46410162, 3.60555128, 3.60555128,\n",
       "       3.74165739, 3.60555128, 3.46410162, 3.60555128, 4.24264069,\n",
       "       4.        , 4.24264069, 4.24264069, 4.79583152, 5.09901951,\n",
       "       3.31662479, 3.46410162, 3.60555128, 3.46410162, 4.24264069,\n",
       "       4.47213595, 4.58257569, 4.69041576, 4.24264069, 4.35889894,\n",
       "       4.58257569, 5.09901951, 3.87298335, 4.        , 5.38516481,\n",
       "       4.89897949, 4.47213595, 4.35889894, 3.87298335, 4.89897949,\n",
       "       4.47213595, 3.31662479, 4.47213595, 4.58257569, 4.35889894,\n",
       "       3.87298335, 5.56776436, 5.09901951, 5.65685425, 5.        ,\n",
       "       4.        , 4.        , 4.24264069, 4.        , 3.60555128,\n",
       "       3.74165739, 3.74165739, 3.74165739, 5.38516481, 5.09901951,\n",
       "       5.09901951, 5.56776436, 5.65685425, 5.29150262, 4.89897949,\n",
       "       5.09901951, 4.89897949, 5.09901951, 5.56776436, 4.35889894,\n",
       "       4.24264069, 3.87298335, 3.87298335, 4.        , 3.87298335,\n",
       "       4.        , 3.74165739, 4.12310563, 4.        , 3.87298335,\n",
       "       4.24264069, 4.58257569, 4.47213595, 3.60555128, 5.38516481,\n",
       "       4.79583152, 4.47213595, 4.79583152, 4.89897949, 5.        ,\n",
       "       4.89897949, 4.24264069, 5.38516481, 4.35889894, 4.79583152,\n",
       "       4.79583152, 4.69041576, 5.        , 5.74456265, 5.29150262,\n",
       "       5.        , 5.        , 5.09901951, 5.19615242, 4.18330013,\n",
       "       4.        , 3.93700394, 3.80788655, 4.69041576, 4.69041576,\n",
       "       4.89897949, 4.74341649, 5.38516481, 4.94974747, 5.38516481,\n",
       "       5.74456265, 4.47213595, 4.24264069, 4.30116263, 4.18330013,\n",
       "       5.43139025, 5.65685425, 5.29150262, 5.14781507, 4.47213595,\n",
       "       3.60555128, 4.35889894, 4.35889894, 4.0620192 , 4.0620192 ,\n",
       "       3.60555128, 3.60555128, 3.60555128, 5.61248608, 5.47722558,\n",
       "       6.        , 5.04975247, 5.78791845, 4.18330013, 4.12310563,\n",
       "       3.93700394, 3.87298335, 4.18330013, 4.52769257, 4.35889894,\n",
       "       4.30116263, 4.        , 3.93700394, 3.93700394, 4.        ,\n",
       "       5.38516481, 4.94974747, 5.09901951, 5.04975247, 5.52268051,\n",
       "       5.78791845, 5.47722558, 5.52268051, 4.69041576, 4.63680925,\n",
       "       4.63680925, 6.56505902, 6.00832755, 5.72712843, 6.27694193,\n",
       "       6.00832755, 4.4609416 , 4.40454311, 4.49444101, 4.38178046,\n",
       "       4.52769257, 4.49444101, 5.00999002, 4.52769257, 4.40454311,\n",
       "       4.53872229, 4.5607017 , 4.31277173, 4.25440948, 4.38178046,\n",
       "       4.20713679, 4.25440948, 4.18330013, 5.47722558, 5.24404424,\n",
       "       5.21536192, 5.55877684, 4.59347363, 4.81663783, 4.87852437,\n",
       "       4.88876262, 4.50555213, 4.12310563, 4.64758002, 4.02492236,\n",
       "       5.61248608, 5.43139025, 4.63680925, 4.44971909, 4.72228758,\n",
       "       4.49444101, 4.53872229, 4.12310563, 4.19523539, 4.0620192 ,\n",
       "       4.2661458 , 4.11096096, 3.93700394, 4.38178046, 4.30116263,\n",
       "       5.6480085 , 5.83952053, 5.9749477 , 5.23450093, 5.03984127,\n",
       "       4.79583152, 5.21536192, 4.88876262, 5.84807661, 5.87367006,\n",
       "       5.63914887, 6.10737259, 5.32916504, 5.36656315, 5.17687164,\n",
       "       5.78791845, 6.44204936, 6.17251974, 5.66568619, 6.09918027,\n",
       "       5.29150262, 5.13809303, 4.92950302, 4.37035468, 5.85662019,\n",
       "       5.45893763, 5.59464029, 6.08276253, 5.67450438, 6.82641927,\n",
       "       5.28204506, 6.38748777, 6.65582452, 6.58786764, 6.03324125,\n",
       "       5.47722558, 6.67832314, 6.39531078, 5.81377674, 5.45893763,\n",
       "       5.71839138, 4.86826458, 5.91607978, 4.85798312, 5.69209979,\n",
       "       5.21536192, 5.15751878, 5.07937004, 4.84767986, 5.47722558,\n",
       "       6.25299928, 6.244998  , 5.9245253 , 5.6833089 , 6.08276253,\n",
       "       6.14003257, 5.83952053, 5.89067059, 5.86515132, 5.46808925,\n",
       "       5.74456265, 5.87367006, 5.80517011, 5.69209979, 5.73585216,\n",
       "       5.62138773, 5.30094331, 0.        , 5.54075807, 5.03984127,\n",
       "       4.91934955, 4.73286383, 5.15751878, 4.49444101, 4.19523539,\n",
       "       5.29150262, 5.19615242, 5.83095189, 5.56776436, 5.38516481,\n",
       "       5.19615242, 4.89897949, 4.79583152, 6.        , 6.08276253,\n",
       "       5.56776436, 6.164414  , 6.        , 6.        , 6.        ,\n",
       "       5.83095189, 6.164414  , 5.65685425, 6.164414  , 5.        ,\n",
       "       6.164414  , 5.09901951, 4.69041576, 5.65685425, 6.        ,\n",
       "       5.19615242, 5.19615242, 6.63324958, 5.65685425, 5.29150262,\n",
       "       5.56776436])"
      ]
     },
     "execution_count": 14,
     "metadata": {},
     "output_type": "execute_result"
    }
   ],
   "source": [
    "print(mpg*12)\n",
    "print(mpg/3)\n",
    "print(mpg ** 4)\n",
    "np.sqrt(mpg)"
   ]
  },
  {
   "cell_type": "markdown",
   "metadata": {},
   "source": [
    "6. What is the ___ of `horsepower`?\n",
    "- sum\n",
    "- min\n",
    "- max\n",
    "- median\n",
    "- Optional: mode (May need to google help)"
   ]
  },
  {
   "cell_type": "code",
   "execution_count": 25,
   "metadata": {},
   "outputs": [
    {
     "name": "stdout",
     "output_type": "stream",
     "text": [
      "42033.0\n",
      "0.0\n",
      "230.0\n",
      "93.5\n",
      "ModeResult(mode=array([150.]), count=array([22]))\n"
     ]
    }
   ],
   "source": [
    "from scipy import stats\n",
    "\n",
    "print(horsepower.sum())\n",
    "print(horsepower.min())\n",
    "print(horsepower.max())\n",
    "print(np.median(horsepower))\n",
    "print(stats.mode(horsepower))"
   ]
  },
  {
   "cell_type": "markdown",
   "metadata": {},
   "source": [
    "7. Select a subset of `acceleration`. \n",
    "\n",
    "- Select only the first 5 elements.\n",
    "- Select every other element (new selection)."
   ]
  },
  {
   "cell_type": "code",
   "execution_count": 27,
   "metadata": {},
   "outputs": [
    {
     "name": "stdout",
     "output_type": "stream",
     "text": [
      "[12.  11.5 11.  12.  10.5]\n",
      "[12.  11.  10.5]\n"
     ]
    }
   ],
   "source": [
    "print(acceleration[0:5])\n",
    "print(acceleration[0:5:2])"
   ]
  },
  {
   "cell_type": "markdown",
   "metadata": {},
   "source": [
    "8. Show how to select the number `99` in the array below. "
   ]
  },
  {
   "cell_type": "code",
   "execution_count": 29,
   "metadata": {},
   "outputs": [],
   "source": [
    "select_99 = np.array([[1,2,3],\n",
    "                      [4,5,99]])"
   ]
  },
  {
   "cell_type": "code",
   "execution_count": 30,
   "metadata": {},
   "outputs": [
    {
     "data": {
      "text/plain": [
       "99"
      ]
     },
     "execution_count": 30,
     "metadata": {},
     "output_type": "execute_result"
    }
   ],
   "source": [
    "select_99[1,2]"
   ]
  },
  {
   "cell_type": "markdown",
   "metadata": {},
   "source": [
    "9. Select the last element in each subarray (do this with one operation.)"
   ]
  },
  {
   "cell_type": "code",
   "execution_count": 33,
   "metadata": {},
   "outputs": [],
   "source": [
    "select_more = np.array([[1,2,3],\n",
    "                      [4,5,6],\n",
    "                      [7,8,9]])\n",
    "# returns array([3, 6, 9])"
   ]
  },
  {
   "cell_type": "code",
   "execution_count": 34,
   "metadata": {},
   "outputs": [
    {
     "data": {
      "text/plain": [
       "array([3, 6, 9])"
      ]
     },
     "execution_count": 34,
     "metadata": {},
     "output_type": "execute_result"
    }
   ],
   "source": [
    "select_more[:,2]"
   ]
  },
  {
   "cell_type": "markdown",
   "metadata": {},
   "source": [
    "10. Use the built-in `np.lookfor()` function to search for `'log'`.\n",
    "\n",
    "Use the function you find and apply it to `mpg`."
   ]
  },
  {
   "cell_type": "code",
   "execution_count": 3,
   "metadata": {},
   "outputs": [
    {
     "name": "stdout",
     "output_type": "stream",
     "text": [
      "Search results for 'log'\n",
      "------------------------\n",
      "numpy.log\n",
      "    Natural logarithm, element-wise.\n",
      "numpy.log2\n",
      "    Base-2 logarithm of `x`.\n",
      "numpy.log10\n",
      "    Return the base 10 logarithm of the input array, element-wise.\n",
      "numpy.log1p\n",
      "    Return the natural logarithm of one plus the input array, element-wise.\n",
      "numpy.logspace\n",
      "    Return numbers spaced evenly on a log scale.\n",
      "numpy.logaddexp\n",
      "    Logarithm of the sum of exponentiations of the inputs.\n",
      "numpy.logaddexp2\n",
      "    Logarithm of the sum of exponentiations of the inputs in base-2.\n",
      "numpy.logical_or\n",
      "    Compute the truth value of x1 OR x2 element-wise.\n",
      "numpy.logical_and\n",
      "    Compute the truth value of x1 AND x2 element-wise.\n",
      "numpy.logical_not\n",
      "    Compute the truth value of NOT x element-wise.\n",
      "numpy.logical_xor\n",
      "    Compute the truth value of x1 XOR x2, element-wise.\n",
      "numpy.ma.log\n",
      "    Natural logarithm, element-wise.\n",
      "numpy.ma.log2\n",
      "    Base-2 logarithm of `x`.\n",
      "numpy.ma.log10\n",
      "    Return the base 10 logarithm of the input array, element-wise.\n",
      "numpy.recarray\n",
      "    Construct an ndarray that allows field access using attributes.\n",
      "numpy.geomspace\n",
      "    Return numbers spaced evenly on a log scale (a geometric progression).\n",
      "numpy.seterrcall\n",
      "    Set the floating-point error callback function or log object.\n",
      "numpy.ma.logical_or\n",
      "    Compute the truth value of x1 OR x2 element-wise.\n",
      "numpy.linalg.slogdet\n",
      "    Compute the sign and (natural) logarithm of the determinant of an array.\n",
      "numpy.ma.logical_and\n",
      "    Compute the truth value of x1 AND x2 element-wise.\n",
      "numpy.ma.logical_not\n",
      "    Compute the truth value of NOT x element-wise.\n",
      "numpy.ma.logical_xor\n",
      "    Compute the truth value of x1 XOR x2, element-wise.\n",
      "numpy.ma.mask_or\n",
      "    Combine two masks with the ``logical_or`` operator.\n",
      "numpy.distutils.log.good\n",
      "    If we log WARN messages, log this message as a 'nice' anti-warn\n",
      "numpy.random.Generator.logistic\n",
      "    Draw samples from a logistic distribution.\n",
      "numpy.random.Generator.lognormal\n",
      "    Draw samples from a log-normal distribution.\n",
      "numpy.random.Generator.logseries\n",
      "    Draw samples from a logarithmic series distribution.\n",
      "numpy.linalg._umath_linalg.slogdet\n",
      "    slogdet on the last two dimensions and broadcast on the rest.\n",
      "numpy.random.RandomState.logistic\n",
      "    Draw samples from a logistic distribution.\n",
      "numpy.distutils.log.Log.good\n",
      "    If we log WARN messages, log this message as a 'nice' anti-warn\n",
      "numpy.random.RandomState.lognormal\n",
      "    Draw samples from a log-normal distribution.\n",
      "numpy.random.RandomState.logseries\n",
      "    Draw samples from a logarithmic series distribution.\n",
      "numpy.all\n",
      "    Test whether all array elements along a given axis evaluate to True.\n",
      "numpy.any\n",
      "    Test whether any array element along a given axis evaluates to True.\n",
      "numpy.exp\n",
      "    Calculate the exponential of all elements in the input array.\n",
      "numpy.sort\n",
      "    Return a sorted copy of an array.\n",
      "numpy.expm1\n",
      "    Calculate ``exp(x) - 1`` for all elements in the array.\n",
      "numpy.isnan\n",
      "    Test element-wise for NaN and return result as a boolean array.\n",
      "numpy.MachAr\n",
      "    Diagnosing machine parameters.\n",
      "numpy.geterr\n",
      "    Get the current way of handling floating-point errors.\n",
      "numpy.kaiser\n",
      "    Return the Kaiser window.\n",
      "numpy.testing.suppress_warnings.record\n",
      "    Append a new recording filter or apply it if the state is entered.\n",
      "numpy.seterr\n",
      "    Set how floating-point errors are handled.\n",
      "numpy.hamming\n",
      "    Return the Hamming window.\n",
      "numpy.hanning\n",
      "    Return the Hanning window.\n",
      "numpy.distutils.command.build.build\n",
      "    Abstract base class for defining command classes, the \"worker bees\"\n",
      "numpy.distutils.command.sdist.sdist\n",
      "    Abstract base class for defining command classes, the \"worker bees\"\n",
      "numpy.bartlett\n",
      "    Return the Bartlett window.\n",
      "numpy.blackman\n",
      "    Return the Blackman window.\n",
      "numpy.errstate\n",
      "    errstate(**kwargs)\n",
      "numpy.isfinite\n",
      "    Test element-wise for finiteness (not infinity or not Not a Number).\n",
      "numpy.linspace\n",
      "    Return evenly spaced numbers over a specified interval.\n",
      "numpy.packbits\n",
      "    Packs the elements of a binary-valued array into bits in a uint8 array.\n",
      "numpy.geterrobj\n",
      "    geterrobj()\n",
      "numpy.seterrobj\n",
      "    seterrobj(errobj)\n",
      "numpy.distutils.command.config.config\n",
      "    Abstract base class for defining command classes, the \"worker bees\"\n",
      "numpy.bitwise_or\n",
      "    Compute the bit-wise OR of two arrays element-wise.\n",
      "numpy.geterrcall\n",
      "    Return the current callback function used on floating-point errors.\n",
      "numpy.bitwise_and\n",
      "    Compute the bit-wise AND of two arrays element-wise.\n",
      "numpy.bitwise_not\n",
      "    Compute bit-wise inversion, or bit-wise NOT, element-wise.\n",
      "numpy.bitwise_xor\n",
      "    Compute the bit-wise XOR of two arrays element-wise.\n",
      "numpy.ma.exp\n",
      "    Calculate the exponential of all elements in the input array.\n",
      "numpy.distutils.command.install.install\n",
      "    Abstract base class for defining command classes, the \"worker bees\"\n",
      "numpy.fft.fft2\n",
      "    Compute the 2-dimensional discrete Fourier Transform\n",
      "numpy.fft.fftn\n",
      "    Compute the N-dimensional discrete Fourier Transform.\n",
      "numpy.fft.hfft\n",
      "    Compute the FFT of a signal that has Hermitian symmetry, i.e., a real\n",
      "numpy.distutils.command.build_py.build_py\n",
      "    Abstract base class for defining command classes, the \"worker bees\"\n",
      "numpy.fft.ifft2\n",
      "    Compute the 2-dimensional inverse discrete Fourier Transform.\n",
      "numpy.fft.ifftn\n",
      "    Compute the N-dimensional inverse discrete Fourier Transform.\n",
      "numpy.fft.ihfft\n",
      "    Compute the inverse FFT of a signal that has Hermitian symmetry.\n",
      "numpy.distutils.command.egg_info.egg_info\n",
      "    Abstract base class for defining command classes, the \"worker bees\"\n",
      "numpy.linalg.det\n",
      "    Compute the determinant of an array.\n",
      "numpy.distutils.command.bdist_rpm.bdist_rpm\n",
      "    Abstract base class for defining command classes, the \"worker bees\"\n",
      "numpy.distutils.command.build_ext.build_ext\n",
      "    Abstract base class for defining command classes, the \"worker bees\"\n",
      "numpy.distutils.command.build_src.build_src\n",
      "    Abstract base class for defining command classes, the \"worker bees\"\n",
      "numpy.matrix.any\n",
      "    Test whether any array element along a given axis evaluates to True.\n",
      "numpy.distutils.command.build_clib.build_clib\n",
      "    Abstract base class for defining command classes, the \"worker bees\"\n",
      "numpy.ma.bitwise_or\n",
      "    Compute the bit-wise OR of two arrays element-wise.\n",
      "numpy.histogram_bin_edges\n",
      "    Function to calculate only the edges of the bins used by the `histogram`\n",
      "numpy.ma.bitwise_and\n",
      "    Compute the bit-wise AND of two arrays element-wise.\n",
      "numpy.ma.bitwise_xor\n",
      "    Compute the bit-wise XOR of two arrays element-wise.\n",
      "numpy.distutils.command.install_clib.install_clib\n",
      "    Abstract base class for defining command classes, the \"worker bees\"\n",
      "numpy.distutils.command.install_data.install_data\n",
      "    Abstract base class for defining command classes, the \"worker bees\"\n",
      "numpy.distutils.command.build_scripts.build_scripts\n",
      "    Abstract base class for defining command classes, the \"worker bees\"\n",
      "numpy.distutils.fcompiler.FCompiler.add_link_object\n",
      "    Add 'object' to the list of object files (or analogues, such as\n",
      "numpy.random.RandomState\n",
      "    Container for the slow Mersenne Twister pseudo-random number generator.\n",
      "numpy.distutils.fcompiler.FCompiler.set_link_objects\n",
      "    Set the list of object files (or analogues) to be included in\n",
      "numpy.testing._private.noseclasses.KnownFailure\n",
      "    Plugin that installs a KNOWNFAIL error class for the\n",
      "numpy.random.SeedSequence\n",
      "    SeedSequence mixes sources of entropy in a reproducible way to set the\n",
      "numpy.distutils.command.install_headers.install_headers\n",
      "    Abstract base class for defining command classes, the \"worker bees\"\n",
      "numpy.testing.suppress_warnings\n",
      "    Context manager and decorator doing much the same as\n",
      "numpy.core.tests.test_deprecations.TestComparisonDeprecations\n",
      "    This tests the deprecation, for non-element-wise comparison logic.\n",
      "numpy.distutils.command.egg_info.egg_info.write_file\n",
      "    Write `data` to `filename` (if not a dry run) after announcing it\n",
      "numpy.random.Generator.wald\n",
      "    Draw samples from a Wald, or inverse Gaussian, distribution.\n",
      "numpy.random.Generator.power\n",
      "    Draws samples in [0, 1] from a power distribution with positive\n",
      "numpy.distutils.command.bdist_rpm.bdist_rpm._format_changelog\n",
      "    Format the changelog correctly and convert it to a list of strings\n",
      "numpy.random.Generator.gumbel\n",
      "    Draw samples from a Gumbel distribution.\n",
      "numpy.random.RandomState.wald\n",
      "    Draw samples from a Wald, or inverse Gaussian, distribution.\n",
      "numpy.random.RandomState.power\n",
      "    Draws samples in [0, 1] from a power distribution with positive\n",
      "numpy.random.Generator.vonmises\n",
      "    Draw samples from a von Mises distribution.\n",
      "numpy.random.RandomState.gumbel\n",
      "    Draw samples from a Gumbel distribution.\n",
      "numpy.core._multiarray_umath.packbits\n",
      "    Packs the elements of a binary-valued array into bits in a uint8 array.\n",
      "numpy.random.RandomState.vonmises\n",
      "    Draw samples from a von Mises distribution.\n",
      "numpy.random.Generator.exponential\n",
      "    Draw samples from an exponential distribution.\n",
      "numpy.distutils.numpy_distribution.NumpyDistribution.finalize_options\n",
      "    Set final values for all the options on the Distribution\n",
      "numpy.testing._private.noseclasses.NumpyDocTestCase.assertLogs\n",
      "    Fail unless a log message of level *level* or higher is emitted\n",
      "numpy.random.RandomState.exponential\n",
      "    Draw samples from an exponential distribution.\n",
      "numpy.distutils.ccompiler.CCompiler_spawn\n",
      "    Execute a command in a sub-process.\n",
      "numpy.random.Generator.multivariate_normal\n",
      "    Draw random samples from a multivariate normal distribution.\n",
      "numpy.random.RandomState.multivariate_normal\n",
      "    Draw random samples from a multivariate normal distribution.\n",
      "numpy.core._multiarray_umath.normalize_axis_index\n",
      "    Normalizes an axis index, `axis`, such that is a valid positive index into\n",
      "numpy.distutils.ccompiler.CCompiler_show_customization\n",
      "    Print the compiler customizations to stdout.\n",
      "numpy.core.tests.test_ufunc.TestUfunc.test_all_ufunc\n",
      "    Try to check presence and results of all ufuncs.\n",
      "numpy.ma.tests.test_core.suppress_copy_mask_on_assignment\n",
      "    Context manager and decorator doing much the same as[2.89037176 2.7080502  2.89037176 2.77258872 2.83321334 2.7080502\n",
      " 2.63905733 2.63905733 2.63905733 2.7080502        -inf       -inf\n",
      "       -inf       -inf       -inf 2.7080502  2.63905733       -inf\n",
      " 2.7080502  2.63905733 3.17805383 3.09104245 2.89037176 3.04452244\n",
      " 3.29583687 3.25809654 3.21887582 3.17805383 3.21887582 3.25809654\n",
      " 3.04452244 2.30258509 2.30258509 2.39789527 2.19722458 3.29583687\n",
      " 3.33220451 3.21887582 3.21887582       -inf 2.94443898 2.77258872\n",
      " 2.83321334 2.94443898 2.89037176 2.63905733 2.63905733 2.63905733\n",
      " 2.63905733 2.48490665 2.56494936 2.56494936 2.89037176 3.09104245\n",
      " 2.94443898 2.89037176 3.13549422 3.33220451 3.40119738 3.40119738\n",
      " 3.4339872  3.55534806 3.29583687 3.25809654 3.17805383 3.21887582\n",
      " 3.13549422 2.99573227 3.04452244 2.56494936 2.63905733 2.7080502\n",
      " 2.63905733 2.83321334 2.39789527 2.56494936 2.48490665 2.56494936\n",
      " 2.94443898 2.7080502  2.56494936 2.56494936 2.63905733 2.89037176\n",
      " 3.09104245 3.04452244 3.25809654 3.09104245 3.33220451 3.13549422\n",
      " 3.33220451 3.29583687 2.56494936 2.63905733 2.56494936 2.63905733\n",
      " 2.7080502  2.48490665 2.56494936 2.56494936 2.63905733 2.56494936\n",
      " 2.48490665 2.56494936 2.89037176 2.77258872 2.89037176 2.89037176\n",
      " 3.13549422 3.25809654 2.39789527 2.48490665 2.56494936 2.48490665\n",
      " 2.89037176 2.99573227 3.04452244 3.09104245 2.89037176 2.94443898\n",
      " 3.04452244 3.25809654 2.7080502  2.77258872 3.36729583 3.17805383\n",
      " 2.99573227 2.94443898 2.7080502  3.17805383 2.99573227 2.39789527\n",
      " 2.99573227 3.04452244 2.94443898 2.7080502  3.4339872  3.25809654\n",
      " 3.4657359  3.21887582 2.77258872 2.77258872 2.89037176 2.77258872\n",
      " 2.56494936 2.63905733 2.63905733 2.63905733 3.36729583 3.25809654\n",
      " 3.25809654 3.4339872  3.4657359  3.33220451 3.17805383 3.25809654\n",
      " 3.17805383 3.25809654 3.4339872  2.94443898 2.89037176 2.7080502\n",
      " 2.7080502  2.77258872 2.7080502  2.77258872 2.63905733 2.83321334\n",
      " 2.77258872 2.7080502  2.89037176 3.04452244 2.99573227 2.56494936\n",
      " 3.36729583 3.13549422 2.99573227 3.13549422 3.17805383 3.21887582\n",
      " 3.17805383 2.89037176 3.36729583 2.94443898 3.13549422 3.13549422\n",
      " 3.09104245 3.21887582 3.49650756 3.33220451 3.21887582 3.21887582\n",
      " 3.25809654 3.29583687 2.86220088 2.77258872 2.74084002 2.67414865\n",
      " 3.09104245 3.09104245 3.17805383 3.11351531 3.36729583 3.19867312\n",
      " 3.36729583 3.49650756 2.99573227 2.89037176 2.91777073 2.86220088\n",
      " 3.38439026 3.4657359  3.33220451 3.27714473 2.99573227 2.56494936\n",
      " 2.94443898 2.94443898 2.80336038 2.80336038 2.56494936 2.56494936\n",
      " 2.56494936 3.44998755 3.40119738 3.58351894 3.23867845 3.51154544\n",
      " 2.86220088 2.83321334 2.74084002 2.7080502  2.86220088 3.02042489\n",
      " 2.94443898 2.91777073 2.77258872 2.74084002 2.74084002 2.77258872\n",
      " 3.36729583 3.19867312 3.25809654 3.23867845 3.41772668 3.51154544\n",
      " 3.40119738 3.41772668 3.09104245 3.06805294 3.06805294 3.763523\n",
      " 3.58629287 3.49042852 3.67376582 3.58629287 2.99071973 2.96527307\n",
      " 3.0056826  2.95491028 3.02042489 3.0056826  3.22286785 3.02042489\n",
      " 2.96527307 3.02529108 3.03495299 2.92316158 2.89591194 2.95491028\n",
      " 2.87356464 2.89591194 2.86220088 3.40119738 3.314186   3.30321697\n",
      " 3.43075618 3.04927304 3.14415228 3.16968558 3.17387846 3.01062089\n",
      " 2.83321334 3.07269331 2.78501124 3.44998755 3.38439026 3.06805294\n",
      " 2.98568194 3.10458668 3.0056826  3.02529108 2.83321334 2.8678989\n",
      " 2.80336038 2.90142159 2.82731362 2.74084002 2.95491028 2.91777073\n",
      " 3.46260601 3.52929738 3.57515069 3.31054301 3.23474917 3.13549422\n",
      " 3.30321697 3.17387846 3.53222564 3.54095932 3.45946629 3.61899333\n",
      " 3.34638915 3.36037539 3.28840189 3.51154544 3.72569343 3.64021428\n",
      " 3.46885603 3.61630876 3.33220451 3.27336401 3.19047635 2.94968834\n",
      " 3.53514535 3.39450839 3.4436181  3.61091791 3.47196645 3.84160054\n",
      " 3.32862669 3.70868208 3.79098468 3.77045944 3.59456877 3.40119738\n",
      " 3.79773386 3.71113006 3.5204608  3.39450839 3.48737508 3.16547505\n",
      " 3.55534806 3.16124671 3.47815842 3.30321697 3.28091122 3.25037449\n",
      " 3.15700042 3.40119738 3.66612247 3.66356165 3.55820113 3.47506723\n",
      " 3.61091791 3.62966009 3.52929738 3.54673969 3.53805656 3.39785848\n",
      " 3.49650756 3.54095932 3.51749784 3.47815842 3.49347266 3.45315712\n",
      " 3.33576958       -inf 3.42426265 3.23474917 3.18635263 3.10906096\n",
      " 3.28091122 3.0056826  2.8678989  3.33220451 3.29583687 3.52636052\n",
      " 3.4339872  3.36729583 3.29583687 3.17805383 3.13549422 3.58351894\n",
      " 3.61091791 3.4339872  3.63758616 3.58351894 3.58351894 3.58351894\n",
      " 3.52636052 3.63758616 3.4657359  3.63758616 3.21887582 3.63758616\n",
      " 3.25809654 3.09104245 3.4657359  3.58351894 3.29583687 3.29583687\n",
      " 3.78418963 3.4657359  3.33220451 3.4339872 ]\n"
     ]
    }
   ],
   "source": [
    "np.lookfor('log')\n",
    "\n",
    "print(np.log(mpg))"
   ]
  },
  {
   "cell_type": "markdown",
   "metadata": {},
   "source": [
    "11. You your google skills to find the unique items in `origin`. (This may not have been covered in the readings.)"
   ]
  },
  {
   "cell_type": "code",
   "execution_count": 40,
   "metadata": {},
   "outputs": [
    {
     "data": {
      "text/plain": [
       "array(['Europe', 'Japan', 'US'], dtype=object)"
      ]
     },
     "execution_count": 40,
     "metadata": {},
     "output_type": "execute_result"
    }
   ],
   "source": [
    "np.unique(origin)"
   ]
  },
  {
   "cell_type": "markdown",
   "metadata": {},
   "source": [
    "12. \n",
    "- Create a 2D array and print its shape as well as ndim. (Any shape is fine)\n",
    "\n",
    "- Create a 3D array and print its shape as well as ndim.\n",
    "\n",
    "- Create a 4D array and print its shape as well as ndim. *It's hard to visualize 4-Dimensions but numpy can do it with ease!*"
   ]
  },
  {
   "cell_type": "code",
   "execution_count": 52,
   "metadata": {},
   "outputs": [
    {
     "name": "stdout",
     "output_type": "stream",
     "text": [
      "2D Array: \n",
      "[[ 6 18]\n",
      " [ 3  8]\n",
      " [16  3]\n",
      " [ 4 20]]\n",
      "(4, 2)\n",
      "2\n",
      "3D Array: \n",
      "[[[0.31787579 0.8487613 ]\n",
      "  [0.83229775 0.34565135]]\n",
      "\n",
      " [[0.23997119 0.53578755]\n",
      "  [0.27146694 0.03443087]]]\n",
      "3\n",
      "(2, 2, 2)\n",
      "4D Array\n",
      "[[[[0.62708559 0.52020046]\n",
      "   [0.04195581 0.75747277]]\n",
      "\n",
      "  [[0.98834976 0.80140096]\n",
      "   [0.34398109 0.33539124]]]\n",
      "\n",
      "\n",
      " [[[0.3515714  0.44294568]\n",
      "   [0.57949344 0.61756091]]\n",
      "\n",
      "  [[0.17711749 0.86498179]\n",
      "   [0.71027069 0.17063169]]]]\n",
      "4\n",
      "(2, 2, 2, 2)\n"
     ]
    }
   ],
   "source": [
    "array = [[6,18],\n",
    "         [3, 8],\n",
    "         [16,3],\n",
    "         [4,20]]\n",
    "print(\"2D Array: \")\n",
    "array2d = np.array(array)\n",
    "print(array2d)\n",
    "print(array2d.shape)\n",
    "print(array2d.ndim)\n",
    "\n",
    "print(\"3D Array: \")\n",
    "array3d = np.random.random((2,2,2))\n",
    "print(array3d)\n",
    "print(array3d.ndim)\n",
    "print(array3d.shape)\n",
    "\n",
    "print(\"4D Array\")\n",
    "array4d = np.random.random(((2,2,2,2)))\n",
    "print(array4d)\n",
    "print(array4d.ndim)\n",
    "print(array4d.shape)"
   ]
  },
  {
   "cell_type": "markdown",
   "metadata": {},
   "source": [
    "13.Use boolean indexing to create an array of `True/False` using `origin` and the value 'US'."
   ]
  },
  {
   "cell_type": "code",
   "execution_count": 58,
   "metadata": {},
   "outputs": [
    {
     "data": {
      "text/plain": [
       "array([ True,  True,  True,  True,  True,  True,  True,  True,  True,\n",
       "        True, False,  True,  True,  True,  True,  True,  True,  True,\n",
       "        True,  True, False,  True,  True,  True, False, False, False,\n",
       "       False, False, False,  True,  True,  True,  True,  True, False,\n",
       "        True, False,  True, False,  True,  True,  True,  True,  True,\n",
       "        True,  True,  True,  True,  True,  True,  True,  True,  True,\n",
       "        True,  True,  True, False, False, False, False, False, False,\n",
       "        True, False,  True, False,  True,  True,  True,  True,  True,\n",
       "        True,  True,  True,  True,  True,  True, False,  True,  True,\n",
       "        True,  True, False, False, False, False,  True, False, False,\n",
       "        True, False,  True,  True,  True,  True,  True,  True,  True,\n",
       "        True,  True,  True,  True,  True,  True,  True,  True,  True,\n",
       "        True, False,  True,  True,  True,  True,  True, False,  True,\n",
       "       False, False,  True,  True, False,  True,  True, False, False,\n",
       "       False, False,  True, False, False,  True,  True,  True,  True,\n",
       "        True, False,  True, False,  True,  True,  True,  True,  True,\n",
       "        True,  True,  True,  True, False, False, False, False, False,\n",
       "        True, False, False, False, False, False,  True,  True,  True,\n",
       "        True,  True,  True,  True,  True,  True,  True,  True,  True,\n",
       "        True,  True,  True, False,  True,  True,  True, False, False,\n",
       "       False,  True, False,  True, False, False, False, False, False,\n",
       "       False, False,  True,  True, False,  True,  True,  True,  True,\n",
       "        True,  True,  True,  True,  True,  True, False, False,  True,\n",
       "        True,  True,  True, False, False, False,  True, False,  True,\n",
       "       False, False, False,  True,  True,  True,  True, False,  True,\n",
       "       False,  True, False,  True,  True,  True,  True,  True,  True,\n",
       "        True,  True,  True,  True,  True,  True, False,  True, False,\n",
       "        True,  True,  True, False, False, False, False, False, False,\n",
       "        True, False, False, False,  True,  True,  True,  True,  True,\n",
       "        True,  True,  True,  True,  True,  True,  True,  True,  True,\n",
       "        True,  True,  True,  True, False, False,  True, False,  True,\n",
       "        True, False, False, False, False, False, False, False,  True,\n",
       "        True,  True,  True,  True,  True,  True,  True,  True,  True,\n",
       "        True,  True,  True, False, False,  True,  True, False,  True,\n",
       "       False,  True,  True,  True, False, False,  True,  True,  True,\n",
       "        True, False, False,  True, False,  True,  True,  True,  True,\n",
       "       False, False, False, False, False, False,  True, False, False,\n",
       "       False, False, False, False, False, False, False, False, False,\n",
       "       False,  True, False,  True,  True,  True,  True,  True, False,\n",
       "        True, False, False, False, False, False,  True,  True,  True,\n",
       "       False, False, False, False, False, False, False, False, False,\n",
       "       False, False,  True,  True,  True,  True,  True,  True,  True,\n",
       "        True,  True,  True,  True,  True, False, False, False,  True,\n",
       "        True, False, False, False, False, False, False,  True,  True,\n",
       "        True,  True, False,  True,  True,  True, False,  True,  True,\n",
       "        True])"
      ]
     },
     "execution_count": 58,
     "metadata": {},
     "output_type": "execute_result"
    }
   ],
   "source": [
    "origin == 'US'"
   ]
  },
  {
   "cell_type": "markdown",
   "metadata": {},
   "source": [
    "14. Apply your index (from above) to the `car` array. You should now only see cars that are of US origin. "
   ]
  },
  {
   "cell_type": "code",
   "execution_count": 56,
   "metadata": {},
   "outputs": [
    {
     "data": {
      "text/plain": [
       "array(['Chevrolet Chevelle Malibu', 'Buick Skylark 320',\n",
       "       'Plymouth Satellite', 'AMC Rebel SST', 'Ford Torino',\n",
       "       'Ford Galaxie 500', 'Chevrolet Impala', 'Plymouth Fury iii',\n",
       "       'Pontiac Catalina', 'AMC Ambassador DPL',\n",
       "       'Chevrolet Chevelle Concours (sw)', 'Ford Torino (sw)',\n",
       "       'Plymouth Satellite (sw)', 'AMC Rebel SST (sw)',\n",
       "       'Dodge Challenger SE', \"Plymouth 'Cuda 340\",\n",
       "       'Ford Mustang Boss 302', 'Chevrolet Monte Carlo',\n",
       "       'Buick Estate Wagon (sw)', 'Plymouth Duster', 'AMC Hornet',\n",
       "       'Ford Maverick', 'AMC Gremlin', 'Ford F250', 'Chevy C20',\n",
       "       'Dodge D200', 'Hi 1200D', 'Chevrolet Vega 2300', 'Ford Pinto',\n",
       "       'AMC Gremlin', 'Plymouth Satellite Custom',\n",
       "       'Chevrolet Chevelle Malibu', 'Ford Torino 500', 'AMC Matador',\n",
       "       'Chevrolet Impala', 'Pontiac Catalina Brougham',\n",
       "       'Ford Galaxie 500', 'Plymouth Fury iii', 'Dodge Monaco (sw)',\n",
       "       'Ford Country Squire (sw)', 'Pontiac Safari (sw)',\n",
       "       'AMC Hornet Sportabout (sw)', 'Chevrolet Vega (sw)',\n",
       "       'Pontiac Firebird', 'Ford Mustang', 'Mercury Capri 2000',\n",
       "       'Plymouth Cricket', 'Dodge Colt Hardtop', 'Chevrolet Vega',\n",
       "       'Ford Pinto Runabout', 'Chevrolet Impala', 'Pontiac Catalina',\n",
       "       'Plymouth Fury III', 'Ford Galaxie 500', 'AMC Ambassador SST',\n",
       "       'Mercury Marquis', 'Buick LeSabre Custom',\n",
       "       'Oldsmobile Delta 88 Royale', 'Chrysler Newport Royal',\n",
       "       'AMC Matador (sw)', 'Chevrolet Chevelle Concours (sw)',\n",
       "       'Ford Gran Torino (sw)', 'Plymouth Satellite Custom (sw)',\n",
       "       'Ford Pinto (sw)', 'Dodge Colt (sw)', 'Buick Century 350',\n",
       "       'AMC Matador', 'Chevrolet Malibu', 'Ford Gran Torino',\n",
       "       'Dodge Coronet Custom', 'Mercury Marquis Brougham',\n",
       "       'Chevrolet Caprice Classic', 'Ford LTD',\n",
       "       'Plymouth Fury Gran Sedan', 'Chrysler New Yorker Brougham',\n",
       "       'Buick Electra 225 Custom', 'AMC Ambassador Brougham',\n",
       "       'Plymouth Valiant', 'Chevrolet Nova Custom', 'AMC Hornet',\n",
       "       'Ford Maverick', 'Plymouth Duster', 'Chevrolet Impala',\n",
       "       'Ford Country', 'Plymouth Custom Suburb',\n",
       "       'Oldsmobile Vista Cruiser', 'AMC Gremlin', 'Chevrolet Vega',\n",
       "       'Ford Pinto', 'Mercury Capri v6', 'Chevrolet Monte Carlo S',\n",
       "       'Pontiac Grand Prix', 'Dodge Dart Custom', 'Oldsmobile Omega',\n",
       "       'Plymouth Duster', 'Ford Maverick', 'AMC Hornet', 'Chevrolet Nova',\n",
       "       'Ford Pinto', 'Chevrolet Vega',\n",
       "       'Chevrolet Chevelle Malibu Classic', 'AMC Matador',\n",
       "       'Plymouth Satellite Sebring', 'Ford Gran Torino',\n",
       "       'Buick Century Luxus (sw)', 'Dodge Coronet Custom (sw)',\n",
       "       'Ford Gran Torino (sw)', 'AMC Matador (sw)', 'Dodge Colt',\n",
       "       'Plymouth Valiant Custom', 'Chevrolet Nova', 'Mercury Monarch',\n",
       "       'Ford Maverick', 'Pontiac Catalina', 'Chevrolet Bel Air',\n",
       "       'Plymouth Grand Fury', 'Ford LTD', 'Buick Century',\n",
       "       'Chevrolete Chevelle Malibu', 'AMC Matador', 'Plymouth Fury',\n",
       "       'Buick Skyhawk', 'Chevrolet Monza 2+2', 'Ford Mustang II',\n",
       "       'Ford Pinto', 'AMC Gremlin', 'Pontiac Astro', 'Ford Pinto',\n",
       "       'AMC Pacer', 'Capri ii', 'Dodge Colt',\n",
       "       'Chevrolet Chevelle Malibu Classic', 'Dodge Coronet Brougham',\n",
       "       'AMC Matador', 'Ford Gran Torino', 'Plymouth Valiant',\n",
       "       'Chevrolet Nova', 'Ford Maverick', 'AMC Hornet',\n",
       "       'Chevrolet Chevette', 'Chevrolet Woody', 'Dodge Aspen SE',\n",
       "       'Ford Grenada ghia', 'Pontiac Ventura SJ', 'AMC Pacer d/l',\n",
       "       'Ford Pinto', 'Plymouth Volare Premier v8', 'Cadillac Seville',\n",
       "       'Chevrolet C10', 'Ford F108', 'Dodge D100',\n",
       "       'Buick Opel Isuzu Deluxe', 'Plymouth Arrow GS',\n",
       "       'Chevrolet Caprice Classic', 'Oldsmobile Cutlass Supreme',\n",
       "       'Dodge Monaco Brougham', 'Mercury Cougar Brougham',\n",
       "       'Chevrolet Concours', 'Buick Skylark', 'Plymouth Volare Custom',\n",
       "       'Ford Grenada', 'Pontiac Grand Prix LJ',\n",
       "       'Chevrolet Monte Carlo Landau', 'Chrysler Cordoba',\n",
       "       'Ford Thunderbird', 'Pontiac Sunbird Coupe', 'Ford Mustang II 2+2',\n",
       "       'Chevrolet Chevette', 'Dodge Colt m/m', 'Ford Fiesta',\n",
       "       'Oldsmobile Cutlass Salon Brougham', 'Dodge Diplomat',\n",
       "       'Mercury Monarch ghia', 'Pontiac Phoenix LJ', 'Chevrolet Malibu',\n",
       "       'Ford Fairmont (auto)', 'Ford Fairmont (man)', 'Plymouth Volare',\n",
       "       'AMC Concord', 'Buick Century Special', 'Mercury Zephyr',\n",
       "       'Dodge Aspen', 'AMC Concord d/l', 'Chevrolet Monte Carlo Landau',\n",
       "       'Buick Regal Sport Coupe (turbo)', 'Ford Futura',\n",
       "       'Dodge Magnum XE', 'Chevrolet Chevette', 'Dodge Omni',\n",
       "       'Plymouth Sapporo', 'Oldsmobile Starfire SX', 'Pontiac Lemans V6',\n",
       "       'Mercury Zephyr 6', 'Ford Fairmont 4', 'AMC Concord DL 6',\n",
       "       'Dodge Aspen 6', 'Chevrolet Caprice Classic', 'Ford LTD Landau',\n",
       "       'Mercury Grand Marquis', 'Dodge St. Regis',\n",
       "       'Buick Estate Wagon (sw)', 'Ford Country Squire (sw)',\n",
       "       'Chevrolet Malibu Classic (sw)',\n",
       "       'Chrysler Lebaron Town @ Country (sw)',\n",
       "       'Dodge Colt Hatchback Custom', 'AMC Spirit DL',\n",
       "       'Cadillac Eldorado', 'Oldsmobile Cutlass Salon Brougham',\n",
       "       'Plymouth Horizon', 'Plymouth Horizon TC3',\n",
       "       'Buick Skylark Limited', 'Chevrolet Citation',\n",
       "       'Oldsmobile Omega Brougham', 'Pontiac Phoenix',\n",
       "       'Chevrolet Chevette', 'Chevrolet Citation', 'Ford Fairmont',\n",
       "       'AMC Concord', 'Dodge Aspen', 'Dodge Colt', 'Ford Mustang Cobra',\n",
       "       'Plymouth Reliant', 'Buick Skylark', 'Dodge Aries Wagon (sw)',\n",
       "       'Chevrolet Citation', 'Plymouth Reliant', 'Plymouth Champ',\n",
       "       'Plymouth Horizon 4', 'Ford Escort 4W', 'Ford Escort 2H',\n",
       "       'Buick Century', 'Oldsmobile Cutlass LS', 'Ford Grenada gl',\n",
       "       'Chrysler Lebaron Salon', 'Chevrolet Cavalier',\n",
       "       'Chevrolet Cavalier Wagon', 'Chevrolet Cavalier 2-door',\n",
       "       'Pontiac J2000 SE Hatchback', 'Dodge Aries SE', 'Pontiac Phoenix',\n",
       "       'Ford Fairmont Futura', 'AMC Concord DL', 'Plymouth Horizon Miser',\n",
       "       'Mercury Lynx l', 'Buick Century Limited',\n",
       "       'Oldsmobile Cutlass Ciera (diesel)', 'Chrysler Lebaron Medallion',\n",
       "       'Ford Grenada l', 'Dodge Charger 2.2', 'Chevrolet Camaro',\n",
       "       'Ford Mustang GL', 'Dodge Rampage', 'Ford Ranger', 'Chevy S-10'],\n",
       "      dtype=object)"
      ]
     },
     "execution_count": 56,
     "metadata": {},
     "output_type": "execute_result"
    }
   ],
   "source": [
    "car[origin == 'US']"
   ]
  },
  {
   "cell_type": "markdown",
   "metadata": {},
   "source": [
    "**The remaining questions are OPTIONAL**: The readings did not address all of these so you may have to use some \"Google-Fu\". "
   ]
  },
  {
   "cell_type": "markdown",
   "metadata": {},
   "source": [
    "1.What is an identity matrix? \n",
    "Create an identiy matrix of size 5 using an np method. "
   ]
  },
  {
   "cell_type": "code",
   "execution_count": 62,
   "metadata": {},
   "outputs": [
    {
     "name": "stdout",
     "output_type": "stream",
     "text": [
      "[[1. 0. 0. 0. 0.]\n",
      " [0. 1. 0. 0. 0.]\n",
      " [0. 0. 1. 0. 0.]\n",
      " [0. 0. 0. 1. 0.]\n",
      " [0. 0. 0. 0. 1.]]\n"
     ]
    }
   ],
   "source": [
    "#a square matrix with ones on the diagonal\n",
    "i = np.eye(5)\n",
    "print(i)"
   ]
  },
  {
   "cell_type": "markdown",
   "metadata": {},
   "source": [
    "2. Transpose the following array. "
   ]
  },
  {
   "cell_type": "code",
   "execution_count": 64,
   "metadata": {},
   "outputs": [],
   "source": [
    "transpose_me = np.array([[1,2,3],\n",
    "                      [4,5,6],\n",
    "                      [7,8,9]])\n"
   ]
  },
  {
   "cell_type": "code",
   "execution_count": 65,
   "metadata": {},
   "outputs": [
    {
     "data": {
      "text/plain": [
       "array([[1, 4, 7],\n",
       "       [2, 5, 8],\n",
       "       [3, 6, 9]])"
      ]
     },
     "execution_count": 65,
     "metadata": {},
     "output_type": "execute_result"
    }
   ],
   "source": [
    "np.transpose(transpose_me)"
   ]
  },
  {
   "cell_type": "markdown",
   "metadata": {},
   "source": [
    "3. Why does this multiplication operation fail? "
   ]
  },
  {
   "cell_type": "code",
   "execution_count": 66,
   "metadata": {},
   "outputs": [
    {
     "ename": "ValueError",
     "evalue": "operands could not be broadcast together with shapes (3,3) (2,3) ",
     "output_type": "error",
     "traceback": [
      "\u001b[0;31m---------------------------------------------------------------------------\u001b[0m",
      "\u001b[0;31mValueError\u001b[0m                                Traceback (most recent call last)",
      "\u001b[0;32m<ipython-input-66-18999d978af8>\u001b[0m in \u001b[0;36m<module>\u001b[0;34m\u001b[0m\n\u001b[1;32m      5\u001b[0m                       [4,5,6]])\n\u001b[1;32m      6\u001b[0m \u001b[0;34m\u001b[0m\u001b[0m\n\u001b[0;32m----> 7\u001b[0;31m \u001b[0marr1\u001b[0m \u001b[0;34m*\u001b[0m \u001b[0marr2\u001b[0m\u001b[0;34m\u001b[0m\u001b[0;34m\u001b[0m\u001b[0m\n\u001b[0m",
      "\u001b[0;31mValueError\u001b[0m: operands could not be broadcast together with shapes (3,3) (2,3) "
     ]
    }
   ],
   "source": [
    "arr1 = np.array([[1,2,3],\n",
    "                      [4,5,6],\n",
    "                      [7,8,9]])\n",
    "arr2 = np.array([[1,2,3],\n",
    "                      [4,5,6]])\n",
    "\n",
    "arr1 * arr2"
   ]
  },
  {
   "cell_type": "code",
   "execution_count": null,
   "metadata": {},
   "outputs": [],
   "source": [
    "#the shapes are different. It would work with a (3,3) and (3,2) - the inside numbers should be the same for multiplication to work"
   ]
  },
  {
   "cell_type": "markdown",
   "metadata": {},
   "source": [
    "Use numpy to answer the following questions. "
   ]
  },
  {
   "cell_type": "markdown",
   "metadata": {},
   "source": [
    "4. What is the average horsepower for `Europe` cars? (Hint: create boolean index of 'US' apply it to horsepower and perform the calculation.)"
   ]
  },
  {
   "cell_type": "code",
   "execution_count": 82,
   "metadata": {},
   "outputs": [
    {
     "data": {
      "text/plain": [
       "78.78082191780823"
      ]
     },
     "execution_count": 82,
     "metadata": {},
     "output_type": "execute_result"
    }
   ],
   "source": [
    "eu_cars = horsepower[origin == 'Europe']\n",
    "eu_cars.mean()"
   ]
  },
  {
   "cell_type": "markdown",
   "metadata": {},
   "source": [
    "5. On average are Japanse cars more fuel efficient than US cars? "
   ]
  },
  {
   "cell_type": "code",
   "execution_count": 86,
   "metadata": {},
   "outputs": [
    {
     "name": "stdout",
     "output_type": "stream",
     "text": [
      "30.450632911392404\n",
      "19.688188976377955\n"
     ]
    }
   ],
   "source": [
    "mpg_japan = mpg[origin == 'Japan']\n",
    "print(mpg_japan.mean())\n",
    "mpg_us = mpg[origin == 'US']\n",
    "print(mpg_us.mean())\n",
    "\n",
    "#Japanese cars are more fuel efficient"
   ]
  },
  {
   "cell_type": "markdown",
   "metadata": {},
   "source": [
    "6. What is the correlation coefficient of `mpg` and `weight`?"
   ]
  },
  {
   "cell_type": "code",
   "execution_count": 75,
   "metadata": {},
   "outputs": [
    {
     "name": "stdout",
     "output_type": "stream",
     "text": [
      "1.0\n",
      "1.0\n"
     ]
    }
   ],
   "source": [
    "mpg_corr = np.corrcoef(mpg)\n",
    "print(mpg_corr)\n",
    "\n",
    "weight_corr = np.corrcoef(weight)\n",
    "print(weight_corr)"
   ]
  },
  {
   "cell_type": "markdown",
   "metadata": {},
   "source": [
    "7. Why might you prefer an `np.array()` over a Python `list`? And when is a Python `list` preferred? "
   ]
  },
  {
   "cell_type": "code",
   "execution_count": null,
   "metadata": {},
   "outputs": [],
   "source": [
    "#Prefer an np.array() when doing mathematical equations"
   ]
  },
  {
   "cell_type": "code",
   "execution_count": null,
   "metadata": {},
   "outputs": [],
   "source": [
    "#Use list when using different types of data"
   ]
  }
 ],
 "metadata": {
  "kernelspec": {
   "display_name": "Python 3",
   "language": "python",
   "name": "python3"
  },
  "language_info": {
   "codemirror_mode": {
    "name": "ipython",
    "version": 3
   },
   "file_extension": ".py",
   "mimetype": "text/x-python",
   "name": "python",
   "nbconvert_exporter": "python",
   "pygments_lexer": "ipython3",
   "version": "3.8.5"
  }
 },
 "nbformat": 4,
 "nbformat_minor": 4
}
