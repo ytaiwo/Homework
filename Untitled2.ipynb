{
 "cells": [
  {
   "cell_type": "code",
   "execution_count": 6,
   "metadata": {},
   "outputs": [
    {
     "name": "stdout",
     "output_type": "stream",
     "text": [
      "0\n",
      "1\n",
      "1\n",
      "2\n",
      "3\n",
      "5\n",
      "8\n",
      "13\n",
      "21\n",
      "34\n",
      "55\n",
      "89\n",
      "144\n",
      "233\n",
      "377\n",
      "610\n",
      "987\n",
      "1597\n",
      "2584\n",
      "4181\n",
      "6765\n",
      "10946\n",
      "17711\n",
      "28657\n",
      "46368\n"
     ]
    }
   ],
   "source": [
    "def fibonacci():\n",
    "    n1 = 0\n",
    "    n2 = 1\n",
    "    start = 0\n",
    "    while start < 25:\n",
    "        print(n1)\n",
    "        total = n1 + n2\n",
    "        n1 = n2\n",
    "        n2 = total\n",
    "        start += 1 \n",
    "\n",
    "fibonacci()"
   ]
  },
  {
   "cell_type": "code",
   "execution_count": 67,
   "metadata": {},
   "outputs": [
    {
     "name": "stdout",
     "output_type": "stream",
     "text": [
      "['c', 'a', 't', 'd', 'o', 'g', 'mouse', 'bat', 'elephant', 'dog', 'whale', 'lion', 32, 'b', 'i', 'r', 'd', 'm', 'o', 's', 'q', 'u', 'i', 't', 'o', 'e']\n"
     ]
    }
   ],
   "source": [
    "double_trouble = ['cat', 'dog', ['mouse','mosquito','bat','mosquito'],['elephant','dog','whale','lion',32,'mosquito'],'bird',[],'mosquitoe']\n",
    "newdouble_trouble = []\n",
    "for name in double_trouble:\n",
    "    for word in name:\n",
    "        if word != 'mosquito':\n",
    "            newdouble_trouble.append(word)\n",
    "print(newdouble_trouble)"
   ]
  },
  {
   "cell_type": "code",
   "execution_count": 82,
   "metadata": {},
   "outputs": [
    {
     "name": "stdout",
     "output_type": "stream",
     "text": [
      "Jill 1-)555(-567-8910\n",
      "Jen 1-)555(-567-8910\n",
      "Jan 1-)555(-567-8910\n",
      "Jane 1-)555(-567-8910\n",
      "Jerri 1-)555(-567-8910\n"
     ]
    }
   ],
   "source": [
    "phone_numbers = {'Jill':'1-)555(-567-8910',\n",
    "                'Jen':'1-)555(-567-8910',\n",
    "                'Jan':'1-)555(-567-8910',\n",
    "                'Jane':'1-)555(-567-8910',\n",
    "                'Jerri':'1-)555(-567-8910'}\n",
    "\n",
    "for name, number in phone_numbers.items():\n",
    "    phone_numbers[name].replace(')555(', '(555)')\n",
    "    print(name, number)\n",
    "    \n",
    "#for name, number in phone_numbers.items():\n",
    "    #phone_numbers[name] = '1-(555)-567-8910'\n",
    "    #print(name,number)"
   ]
  },
  {
   "cell_type": "code",
   "execution_count": 51,
   "metadata": {},
   "outputs": [],
   "source": [
    "double_trouble = ['cat', 'dog', ['mouse','mosquito','bat','mosquito'],['elephant','dog','whale','lion',32,'mosquito'],'bird',[],'mosquitoe']\n",
    "\n",
    "i = 0\n",
    "#for name in double_trouble:\n",
    "    #if name[i] == 'mosquito':\n",
    "    "
   ]
  },
  {
   "cell_type": "code",
   "execution_count": 52,
   "metadata": {},
   "outputs": [
    {
     "name": "stdout",
     "output_type": "stream",
     "text": [
      "\n"
     ]
    }
   ],
   "source": [
    "def isvalid(name):\n",
    "    true_alphanumeric = \"\"\n",
    "    for symbols in name:\n",
    "        if name.isalnum():\n",
    "            true_alphanumeric = \"\".join(true_alphanumeric)\n",
    "    print(true_alphanumeric)\n",
    "\n",
    "isvalid(\"yewande_taiwo!26\")"
   ]
  },
  {
   "cell_type": "code",
   "execution_count": null,
   "metadata": {},
   "outputs": [],
   "source": []
  }
 ],
 "metadata": {
  "kernelspec": {
   "display_name": "Python 3",
   "language": "python",
   "name": "python3"
  },
  "language_info": {
   "codemirror_mode": {
    "name": "ipython",
    "version": 3
   },
   "file_extension": ".py",
   "mimetype": "text/x-python",
   "name": "python",
   "nbconvert_exporter": "python",
   "pygments_lexer": "ipython3",
   "version": "3.8.5"
  }
 },
 "nbformat": 4,
 "nbformat_minor": 4
}
