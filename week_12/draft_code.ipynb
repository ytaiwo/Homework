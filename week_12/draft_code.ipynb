{
 "cells": [
  {
   "cell_type": "code",
   "execution_count": null,
   "metadata": {},
   "outputs": [],
   "source": [
    "#def define_region(df):\n",
    "    #for column in df.columns[2:]:\n",
    "        #if df.name == 'WA' or 'OR' or 'CA' or 'NV' or 'ID' or 'UT' or 'AZ' or 'HI' or 'AK':\n",
    "            #region = \"Pacific\"\n",
    "        #elif df.name == 'MT' or 'ND' or 'SD' or 'WY' or 'CO' or 'NM' or 'TX' or 'OK' or 'KS' or 'NE':\n",
    "            #region = \"Plains\"\n",
    "        #elif df.name == 'MN' or 'IA' or 'MO' or 'WI' or 'IL' or 'MI' or 'IN' or 'OH' or 'KY':\n",
    "            #region = \"Midwest\"\n",
    "        #elif df.name == 'ME' or 'VT' or 'NH' or 'MA' or 'CT' or 'RI' or 'NJ' or 'PA' or 'WV' or 'VA' or 'MD' or 'DE' or 'NY':\n",
    "            #region = 'Northeast'\n",
    "        #else:\n",
    "            #region = \"South\"\n",
    "        #return region\n",
    "        \n",
    "#lending['region'] = lending['state'].apply(define_region(lending))\n",
    "\n",
    "#regions = {\"Pacific\"   : ['WA', 'OR','CA','NV','ID','UT','AZ','HI','AK'],\n",
    "#           \"Plains\"    : ['MT','ND','SD','WY','CO','NM','TX','OK','KS','NE'] ,\n",
    "#           \"Midwest\"   : ['MN','IA','MO','WI','IL','MI','IN','OH','KY'] ,\n",
    "#           \"Northeast\" : ['ME','VT','NH','MA','CT','RI','NJ','PA','WV','VA','MD','DE','NY', 'DC'],\n",
    "#          \"South\"     : ['AR', 'LA', 'TN', 'MS', 'AL','GA','FL','SC','NC']\n",
    "#          }\n",
    "\n",
    "#lending['region'] = lending['state'].apply(lambda x: key_list)\n",
    "\n",
    "#values = map(lambda key: d[key], d.keys())\n",
    "\n",
    "#lending['region2']= lending['state'].map(regions)\n",
    "#lending\n",
    "#regions is a dictionary\n",
    "\n",
    "\n",
    "#sns.histplot(data = loans_df, x = 'loan_amount', bins = 100, hue = 'region');\n",
    "\n",
    "#sns.histplot(data = loans_df, x = 'loan_amount', bins = 100, hue = 'region',  multiple=\"stack\")\n",
    "#plt.show()\n",
    "\n",
    "#fig, axes = plt.subplots(3, 2, figsize =(12,12), sharey=True)\n",
    "#axes[2][1].set_visible(False)"
   ]
  }
 ],
 "metadata": {
  "kernelspec": {
   "display_name": "Python 3",
   "language": "python",
   "name": "python3"
  },
  "language_info": {
   "codemirror_mode": {
    "name": "ipython",
    "version": 3
   },
   "file_extension": ".py",
   "mimetype": "text/x-python",
   "name": "python",
   "nbconvert_exporter": "python",
   "pygments_lexer": "ipython3",
   "version": "3.8.5"
  }
 },
 "nbformat": 4,
 "nbformat_minor": 4
}
