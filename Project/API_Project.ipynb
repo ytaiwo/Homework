{
 "cells": [
  {
   "cell_type": "code",
   "execution_count": 7,
   "metadata": {},
   "outputs": [
    {
     "data": {
      "text/html": [
       "<div>\n",
       "<style scoped>\n",
       "    .dataframe tbody tr th:only-of-type {\n",
       "        vertical-align: middle;\n",
       "    }\n",
       "\n",
       "    .dataframe tbody tr th {\n",
       "        vertical-align: top;\n",
       "    }\n",
       "\n",
       "    .dataframe thead th {\n",
       "        text-align: right;\n",
       "    }\n",
       "</style>\n",
       "<table border=\"1\" class=\"dataframe\">\n",
       "  <thead>\n",
       "    <tr style=\"text-align: right;\">\n",
       "      <th></th>\n",
       "      <th>Proportion Of Women Aged 15-19 Who Have Given Birth - Female (Percent)</th>\n",
       "    </tr>\n",
       "    <tr>\n",
       "      <th>Date</th>\n",
       "      <th></th>\n",
       "    </tr>\n",
       "  </thead>\n",
       "  <tbody>\n",
       "    <tr>\n",
       "      <th>1990-12-31</th>\n",
       "      <td>8.0</td>\n",
       "    </tr>\n",
       "    <tr>\n",
       "      <th>1994-12-31</th>\n",
       "      <td>8.0</td>\n",
       "    </tr>\n",
       "  </tbody>\n",
       "</table>\n",
       "</div>"
      ],
      "text/plain": [
       "            Proportion Of Women Aged 15-19 Who Have Given Birth - Female (Percent)\n",
       "Date                                                                              \n",
       "1990-12-31                                                8.0                     \n",
       "1994-12-31                                                8.0                     "
      ]
     },
     "execution_count": 7,
     "metadata": {},
     "output_type": "execute_result"
    }
   ],
   "source": [
    "import quandl\n",
    "\n",
    "from api_keys import api_key_UN\n",
    "import requests\n",
    "import numpy as np\n",
    "import pandas as pd\n",
    "from pprint import pprint\n",
    "\n",
    "quandl.ApiConfig.api_key = api_key_UN\n",
    "\n",
    "UN_data = quandl.get('UGEN/TBIR_USA')\n",
    "\n",
    "UN_data.head()\n",
    "\n",
    "#url = \"https://www.quandl.com/api/v3/datasets/UGEN/PPRJ_USA?start_date=2030-12-31&end_date=2030-12-31&api_key=\" + api_key_UN\n",
    "#url = \"https://www.quandl.com/api/v3/datasets/UGEN/TBIR_USA.json?api_key=vxSYNGB-9owcVsRx_SEF&start_date=2025-12-31\"\n",
    "#url = \"https://www.quandl.com/api/v3/datasets/UGEN/PPRJ_5001?api_key=vxSYNGB-9owcVsRx_SEF\"\n",
    "#req = requests.get(url).json()\n",
    "#pprint(req)\n"
   ]
  },
  {
   "cell_type": "code",
   "execution_count": null,
   "metadata": {},
   "outputs": [],
   "source": []
  },
  {
   "cell_type": "code",
   "execution_count": null,
   "metadata": {},
   "outputs": [],
   "source": []
  }
 ],
 "metadata": {
  "kernelspec": {
   "display_name": "Python 3",
   "language": "python",
   "name": "python3"
  },
  "language_info": {
   "codemirror_mode": {
    "name": "ipython",
    "version": 3
   },
   "file_extension": ".py",
   "mimetype": "text/x-python",
   "name": "python",
   "nbconvert_exporter": "python",
   "pygments_lexer": "ipython3",
   "version": "3.8.5"
  }
 },
 "nbformat": 4,
 "nbformat_minor": 4
}
