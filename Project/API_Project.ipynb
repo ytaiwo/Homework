{
 "cells": [
  {
   "cell_type": "code",
   "execution_count": 16,
   "metadata": {},
   "outputs": [
    {
     "name": "stdout",
     "output_type": "stream",
     "text": [
      "vxSYNGB-9owcVsRx_SEF\n",
      "{'dataset': {'collapse': None,\n",
      "             'column_index': None,\n",
      "             'column_names': ['Date', 'Female (Number)', 'Male (Number)'],\n",
      "             'data': [['2030-12-31', 185729181.0, 180457909.0],\n",
      "                      ['2025-12-31', 179926385.0, 175003903.0]],\n",
      "             'database_code': 'UGEN',\n",
      "             'database_id': 13141,\n",
      "             'dataset_code': 'PPRJ_USA',\n",
      "             'description': 'Population Projections - United States of '\n",
      "                            'America. Gender Info contains statistics and '\n",
      "                            'indicators related to gender issues in policy '\n",
      "                            'areas, particularly population, families, health, '\n",
      "                            'education, work, and political participation. For '\n",
      "                            'more information, please see <a '\n",
      "                            'href=http://unstats.un.org/unsd/gender/default.html>http://unstats.un.org/unsd/gender/default.html</a>',\n",
      "             'end_date': '2030-12-31',\n",
      "             'frequency': 'annual',\n",
      "             'id': 19762286,\n",
      "             'limit': None,\n",
      "             'name': 'Population Projections - United States of America',\n",
      "             'newest_available_date': '2030-12-31',\n",
      "             'oldest_available_date': '2010-12-31',\n",
      "             'order': None,\n",
      "             'premium': False,\n",
      "             'refreshed_at': '2021-03-24T03:27:37.047Z',\n",
      "             'start_date': '2025-12-31',\n",
      "             'transform': None,\n",
      "             'type': 'Time Series'}}\n"
     ]
    }
   ],
   "source": [
    "from api_keys import api_key_UN\n",
    "import requests\n",
    "import pandas as pd\n",
    "from pprint import pprint\n",
    "\n",
    "\n",
    "print(api_key_UN)\n",
    "\n",
    "#url = \"https://www.quandl.com/api/v3/datasets/UGEN/PPRJ_USA?start_date=2030-12-31&end_date=2030-12-31&api_key=\" + api_key_UN\n",
    "url = \"https://www.quandl.com/api/v3/datasets/UGEN/PPRJ_USA.json?api_key=vxSYNGB-9owcVsRx_SEF&start_date=2025-12-31\"\n",
    "req = requests.get(url).json()\n",
    "pprint(req)\n"
   ]
  },
  {
   "cell_type": "code",
   "execution_count": null,
   "metadata": {},
   "outputs": [],
   "source": []
  },
  {
   "cell_type": "code",
   "execution_count": null,
   "metadata": {},
   "outputs": [],
   "source": []
  }
 ],
 "metadata": {
  "kernelspec": {
   "display_name": "Python 3",
   "language": "python",
   "name": "python3"
  },
  "language_info": {
   "codemirror_mode": {
    "name": "ipython",
    "version": 3
   },
   "file_extension": ".py",
   "mimetype": "text/x-python",
   "name": "python",
   "nbconvert_exporter": "python",
   "pygments_lexer": "ipython3",
   "version": "3.8.5"
  }
 },
 "nbformat": 4,
 "nbformat_minor": 4
}
