{
 "cells": [
  {
   "cell_type": "code",
   "execution_count": 11,
   "metadata": {},
   "outputs": [
    {
     "name": "stdout",
     "output_type": "stream",
     "text": [
      "8e57b20e5f009f64ab0fe6d5f1e82c55\n"
     ]
    }
   ],
   "source": [
    "from api_keys import api_key\n",
    "#print(api_key)"
   ]
  },
  {
   "cell_type": "code",
   "execution_count": 5,
   "metadata": {},
   "outputs": [],
   "source": [
    "import requests\n",
    "import pandas as pd\n",
    "\n",
    "url = 'https://google.com'\n",
    "\n",
    "req = requests.get(url)\n",
    "print(req.text)"
   ]
  },
  {
   "cell_type": "code",
   "execution_count": 17,
   "metadata": {},
   "outputs": [
    {
     "name": "stdout",
     "output_type": "stream",
     "text": [
      "{\"coord\":{\"lon\":-90.4001,\"lat\":38.6334},\"weather\":[{\"id\":800,\"main\":\"Clear\",\"description\":\"clear sky\",\"icon\":\"01n\"}],\"base\":\"stations\",\"main\":{\"temp\":44.31,\"feels_like\":39.83,\"temp_min\":43,\"temp_max\":46,\"pressure\":1028,\"humidity\":32},\"visibility\":10000,\"wind\":{\"speed\":8.01,\"deg\":293,\"gust\":23},\"clouds\":{\"all\":7},\"dt\":1617238329,\"sys\":{\"type\":3,\"id\":2004432,\"country\":\"US\",\"sunrise\":1617191241,\"sunset\":1617236619},\"timezone\":-18000,\"id\":4407074,\"name\":\"Saint Louis\",\"cod\":200}\n"
     ]
    }
   ],
   "source": [
    "base_url = \"https://api.openweathermap.org/data/2.5/weather?units=Imperial&appid=\" + api_key\n",
    "city = \"saint louis\"\n",
    "full_request = base_url + '&q='+city\n",
    "req = requests.get(full_request)\n",
    "print(req.text)"
   ]
  },
  {
   "cell_type": "code",
   "execution_count": 18,
   "metadata": {},
   "outputs": [
    {
     "data": {
      "text/plain": [
       "{'coord': {'lon': -90.4001, 'lat': 38.6334},\n",
       " 'weather': [{'id': 800,\n",
       "   'main': 'Clear',\n",
       "   'description': 'clear sky',\n",
       "   'icon': '01n'}],\n",
       " 'base': 'stations',\n",
       " 'main': {'temp': 44.31,\n",
       "  'feels_like': 39.83,\n",
       "  'temp_min': 43,\n",
       "  'temp_max': 46,\n",
       "  'pressure': 1028,\n",
       "  'humidity': 32},\n",
       " 'visibility': 10000,\n",
       " 'wind': {'speed': 8.01, 'deg': 293, 'gust': 23},\n",
       " 'clouds': {'all': 7},\n",
       " 'dt': 1617238329,\n",
       " 'sys': {'type': 3,\n",
       "  'id': 2004432,\n",
       "  'country': 'US',\n",
       "  'sunrise': 1617191241,\n",
       "  'sunset': 1617236619},\n",
       " 'timezone': -18000,\n",
       " 'id': 4407074,\n",
       " 'name': 'Saint Louis',\n",
       " 'cod': 200}"
      ]
     },
     "execution_count": 18,
     "metadata": {},
     "output_type": "execute_result"
    }
   ],
   "source": [
    "weather_data = req.json()\n",
    "weather_data"
   ]
  },
  {
   "cell_type": "code",
   "execution_count": 19,
   "metadata": {},
   "outputs": [
    {
     "data": {
      "text/plain": [
       "44.31"
      ]
     },
     "execution_count": 19,
     "metadata": {},
     "output_type": "execute_result"
    }
   ],
   "source": [
    "weather_data['main']['temp']"
   ]
  },
  {
   "cell_type": "code",
   "execution_count": 21,
   "metadata": {},
   "outputs": [
    {
     "data": {
      "text/plain": [
       "8.01"
      ]
     },
     "execution_count": 21,
     "metadata": {},
     "output_type": "execute_result"
    }
   ],
   "source": [
    "weather_data['wind']['speed']"
   ]
  },
  {
   "cell_type": "code",
   "execution_count": null,
   "metadata": {},
   "outputs": [],
   "source": []
  }
 ],
 "metadata": {
  "kernelspec": {
   "display_name": "Python 3",
   "language": "python",
   "name": "python3"
  },
  "language_info": {
   "codemirror_mode": {
    "name": "ipython",
    "version": 3
   },
   "file_extension": ".py",
   "mimetype": "text/x-python",
   "name": "python",
   "nbconvert_exporter": "python",
   "pygments_lexer": "ipython3",
   "version": "3.8.5"
  }
 },
 "nbformat": 4,
 "nbformat_minor": 4
}
