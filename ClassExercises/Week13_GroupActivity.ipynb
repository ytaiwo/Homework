{
 "cells": [
  {
   "cell_type": "code",
   "execution_count": 70,
   "metadata": {},
   "outputs": [],
   "source": [
    "import pandas as pd\n",
    "import numpy as np\n",
    "\n",
    "from sklearn.neighbors import KNeighborsClassifier\n",
    "from sklearn.model_selection import train_test_split\n",
    "from sklearn.preprocessing import StandardScaler\n",
    "\n",
    "def optimal_k(X,y):\n",
    "    X_train, X_test, y_train, y_test = train_test_split(X, y, test_size=0.5, random_state=45)\n",
    "    sc = StandardScaler()\n",
    "    X_train = sc.fit_transform(X_train)\n",
    "    X_test = sc.fit_transform(X_test)\n",
    "    \n",
    "    for k in range(1,21):\n",
    "        \n",
    "        knn = KNeighborsClassifier(n_neighbors=k)\n",
    "        knn.fit(X_train,y_train)\n",
    "        #knn_score = knn.score(X_test,y_test)\n",
    "        print(k, knn.score(X_test, y_test))\n",
    "        \n",
    "    return knn_score"
   ]
  },
  {
   "cell_type": "code",
   "execution_count": 71,
   "metadata": {},
   "outputs": [
    {
     "name": "stdout",
     "output_type": "stream",
     "text": [
      "1 0.6953125\n",
      "2 0.7057291666666666\n",
      "3 0.7369791666666666\n",
      "4 0.7109375\n",
      "5 0.7421875\n",
      "6 0.7291666666666666\n",
      "7 0.7135416666666666\n",
      "8 0.7135416666666666\n",
      "9 0.7213541666666666\n",
      "10 0.7161458333333334\n",
      "11 0.7265625\n",
      "12 0.703125\n",
      "13 0.7083333333333334\n",
      "14 0.7057291666666666\n",
      "15 0.7161458333333334\n",
      "16 0.7135416666666666\n",
      "17 0.7239583333333334\n",
      "18 0.7135416666666666\n",
      "19 0.7213541666666666\n",
      "20 0.7161458333333334\n"
     ]
    },
    {
     "data": {
      "text/plain": [
       "0.7161458333333334"
      ]
     },
     "execution_count": 71,
     "metadata": {},
     "output_type": "execute_result"
    }
   ],
   "source": [
    "diabetes_df = pd.read_csv(\"../week_13/diabetes.csv\")\n",
    "diabetes_df.head()\n",
    "\n",
    "X = diabetes_df.drop('Outcome', axis=1)\n",
    "y = diabetes_df['Outcome']\n",
    "\n",
    "optimal_k(X,y)"
   ]
  },
  {
   "cell_type": "code",
   "execution_count": 23,
   "metadata": {},
   "outputs": [
    {
     "data": {
      "text/plain": [
       "18"
      ]
     },
     "execution_count": 23,
     "metadata": {},
     "output_type": "execute_result"
    }
   ],
   "source": [
    "def digital_root(n):\n",
    "    if n ==0: \n",
    "        return 0\n",
    "    else:\n",
    "        return (n%10) + digital_root(n//10)\n",
    "        \n",
    "digital_root(9423)"
   ]
  },
  {
   "cell_type": "code",
   "execution_count": 21,
   "metadata": {},
   "outputs": [
    {
     "name": "stdout",
     "output_type": "stream",
     "text": [
      "2\n",
      "94\n"
     ]
    }
   ],
   "source": [
    "number = 942\n",
    "print(number%10)\n",
    "print(number//10)"
   ]
  }
 ],
 "metadata": {
  "kernelspec": {
   "display_name": "Python 3",
   "language": "python",
   "name": "python3"
  },
  "language_info": {
   "codemirror_mode": {
    "name": "ipython",
    "version": 3
   },
   "file_extension": ".py",
   "mimetype": "text/x-python",
   "name": "python",
   "nbconvert_exporter": "python",
   "pygments_lexer": "ipython3",
   "version": "3.8.5"
  }
 },
 "nbformat": 4,
 "nbformat_minor": 4
}
