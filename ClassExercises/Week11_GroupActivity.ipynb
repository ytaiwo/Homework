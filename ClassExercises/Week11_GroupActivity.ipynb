{
 "cells": [
  {
   "cell_type": "markdown",
   "metadata": {},
   "source": [
    "Discussion\n",
    "\n",
    "Why is this called \"exponential\"? (Try writing out what the first few terms work out to be)\n",
    "\n",
    "\n",
    "What happens if you make the \"factor\" in the code much smaller? Try .01, .001.\n",
    "\n",
    "Do you expect this to be faster or slower than implementing a rolling average?\n",
    "\n",
    "Try running the two methods - you can even use the time module to measure performance. Which method is faster?\n",
    "\n",
    "In applications where you want to smooth data as it arrives in real time, it's very common to use exponential smoothing instead of a rolling average - why do you think this might be?"
   ]
  },
  {
   "cell_type": "markdown",
   "metadata": {},
   "source": [
    "### It is exponential because it is taking an average as it goes through the data. The smoothing terms start out at 287.17, then decreases to 278.38 and increases a little to 278.44, 278.48.\n",
    "\n",
    "### The smoothing function isn't as noisy and the time-series shifts to the right a little. \n",
    "\n",
    "### Rolling is a lot faster, which makes sense because it's taking the average of different subsets over time. Exponential is taking the average as it goes through the data and it is also using recent, past observations. \n",
    "\n",
    "### Using exponential as the data arrives in real time is more common, because it's more accurate and it's also taking into account the previous instances of data - it is taking the weighted sum of past observations. "
   ]
  },
  {
   "cell_type": "code",
   "execution_count": null,
   "metadata": {},
   "outputs": [],
   "source": []
  }
 ],
 "metadata": {
  "kernelspec": {
   "display_name": "Python 3",
   "language": "python",
   "name": "python3"
  },
  "language_info": {
   "codemirror_mode": {
    "name": "ipython",
    "version": 3
   },
   "file_extension": ".py",
   "mimetype": "text/x-python",
   "name": "python",
   "nbconvert_exporter": "python",
   "pygments_lexer": "ipython3",
   "version": "3.8.5"
  }
 },
 "nbformat": 4,
 "nbformat_minor": 4
}
