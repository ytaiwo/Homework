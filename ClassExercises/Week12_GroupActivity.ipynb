{
 "cells": [
  {
   "cell_type": "markdown",
   "metadata": {},
   "source": [
    "### 1. Write a Python program to rearrange positive and negative numbers in a given list using Lambda and map()\n",
    "Sample output:\n",
    "original_list = [-1,2,-3,4,-5,6,-7,8,-9,10,-11,12]\n",
    "resulting_list = [2,4,6,8,10,12,-11,-9,-7,-5,-3,-1]"
   ]
  },
  {
   "cell_type": "code",
   "execution_count": 49,
   "metadata": {},
   "outputs": [
    {
     "name": "stdout",
     "output_type": "stream",
     "text": [
      "[2, 4, 6, 8, 10, 12, -11, -9, -7, -5, -3, -1]\n"
     ]
    }
   ],
   "source": [
    "orig_list = [-1,2,-3,4,-5,6,-7,8,-9,10,-11,12]\n",
    "\n",
    "pos_list = lambda x: [x for x in orig_list if x >= 0]\n",
    "new_pos_list = pos_list(orig_list)\n",
    "\n",
    "neg_list = lambda x: [x for x in orig_list if x < 0]\n",
    "new_neg_list = sorted(neg_list(orig_list))\n",
    "\n",
    "print(new_pos_list + new_neg_list)"
   ]
  },
  {
   "cell_type": "markdown",
   "metadata": {},
   "source": [
    "### 2. Create a new dataframe using week_11/temperatures/temperature.csv file from last class. It should have the datetime column and one of the cities. Create a new boolean column called is_freezing that indicates if the temperature is at or below freezing. Use a lambda to create this column. Is there a better way to do this than with a lambda?"
   ]
  },
  {
   "cell_type": "code",
   "execution_count": 62,
   "metadata": {},
   "outputs": [
    {
     "data": {
      "text/html": [
       "<div>\n",
       "<style scoped>\n",
       "    .dataframe tbody tr th:only-of-type {\n",
       "        vertical-align: middle;\n",
       "    }\n",
       "\n",
       "    .dataframe tbody tr th {\n",
       "        vertical-align: top;\n",
       "    }\n",
       "\n",
       "    .dataframe thead th {\n",
       "        text-align: right;\n",
       "    }\n",
       "</style>\n",
       "<table border=\"1\" class=\"dataframe\">\n",
       "  <thead>\n",
       "    <tr style=\"text-align: right;\">\n",
       "      <th></th>\n",
       "      <th>datetime</th>\n",
       "      <th>Vancouver</th>\n",
       "      <th>is_Freezing</th>\n",
       "    </tr>\n",
       "  </thead>\n",
       "  <tbody>\n",
       "    <tr>\n",
       "      <th>2227</th>\n",
       "      <td>2013-01-02 07:00:00</td>\n",
       "      <td>272.99</td>\n",
       "      <td>True</td>\n",
       "    </tr>\n",
       "    <tr>\n",
       "      <th>2228</th>\n",
       "      <td>2013-01-02 08:00:00</td>\n",
       "      <td>272.75</td>\n",
       "      <td>True</td>\n",
       "    </tr>\n",
       "    <tr>\n",
       "      <th>2229</th>\n",
       "      <td>2013-01-02 09:00:00</td>\n",
       "      <td>273.07</td>\n",
       "      <td>True</td>\n",
       "    </tr>\n",
       "    <tr>\n",
       "      <th>2230</th>\n",
       "      <td>2013-01-02 10:00:00</td>\n",
       "      <td>272.92</td>\n",
       "      <td>True</td>\n",
       "    </tr>\n",
       "    <tr>\n",
       "      <th>2232</th>\n",
       "      <td>2013-01-02 12:00:00</td>\n",
       "      <td>273.15</td>\n",
       "      <td>True</td>\n",
       "    </tr>\n",
       "    <tr>\n",
       "      <th>...</th>\n",
       "      <td>...</td>\n",
       "      <td>...</td>\n",
       "      <td>...</td>\n",
       "    </tr>\n",
       "    <tr>\n",
       "      <th>38759</th>\n",
       "      <td>2017-03-04 11:00:00</td>\n",
       "      <td>272.37</td>\n",
       "      <td>True</td>\n",
       "    </tr>\n",
       "    <tr>\n",
       "      <th>38760</th>\n",
       "      <td>2017-03-04 12:00:00</td>\n",
       "      <td>272.04</td>\n",
       "      <td>True</td>\n",
       "    </tr>\n",
       "    <tr>\n",
       "      <th>38761</th>\n",
       "      <td>2017-03-04 13:00:00</td>\n",
       "      <td>271.37</td>\n",
       "      <td>True</td>\n",
       "    </tr>\n",
       "    <tr>\n",
       "      <th>38762</th>\n",
       "      <td>2017-03-04 14:00:00</td>\n",
       "      <td>271.52</td>\n",
       "      <td>True</td>\n",
       "    </tr>\n",
       "    <tr>\n",
       "      <th>38763</th>\n",
       "      <td>2017-03-04 15:00:00</td>\n",
       "      <td>273.11</td>\n",
       "      <td>True</td>\n",
       "    </tr>\n",
       "  </tbody>\n",
       "</table>\n",
       "<p>1927 rows × 3 columns</p>\n",
       "</div>"
      ],
      "text/plain": [
       "                  datetime  Vancouver  is_Freezing\n",
       "2227   2013-01-02 07:00:00     272.99         True\n",
       "2228   2013-01-02 08:00:00     272.75         True\n",
       "2229   2013-01-02 09:00:00     273.07         True\n",
       "2230   2013-01-02 10:00:00     272.92         True\n",
       "2232   2013-01-02 12:00:00     273.15         True\n",
       "...                    ...        ...          ...\n",
       "38759  2017-03-04 11:00:00     272.37         True\n",
       "38760  2017-03-04 12:00:00     272.04         True\n",
       "38761  2017-03-04 13:00:00     271.37         True\n",
       "38762  2017-03-04 14:00:00     271.52         True\n",
       "38763  2017-03-04 15:00:00     273.11         True\n",
       "\n",
       "[1927 rows x 3 columns]"
      ]
     },
     "execution_count": 62,
     "metadata": {},
     "output_type": "execute_result"
    }
   ],
   "source": [
    "import pandas as pd\n",
    "import numpy as np\n",
    "\n",
    "temps = pd.read_csv('../week_11/temperatures/temperature.csv')\n",
    "\n",
    "new_df = temps[['datetime', 'Vancouver']]\n",
    "\n",
    "new_df = new_df.assign(is_Freezing = lambda x: (x['Vancouver'] <= 273.15))\n",
    "new_df[new_df['is_Freezing'] == True]"
   ]
  },
  {
   "cell_type": "markdown",
   "metadata": {},
   "source": [
    "### 3. BONUS: if you still have time, try to do a pivot of the data in question 2 so you have the hourly data for all the cities and a flag for if it's freezing."
   ]
  },
  {
   "cell_type": "code",
   "execution_count": null,
   "metadata": {},
   "outputs": [],
   "source": []
  }
 ],
 "metadata": {
  "kernelspec": {
   "display_name": "Python 3",
   "language": "python",
   "name": "python3"
  },
  "language_info": {
   "codemirror_mode": {
    "name": "ipython",
    "version": 3
   },
   "file_extension": ".py",
   "mimetype": "text/x-python",
   "name": "python",
   "nbconvert_exporter": "python",
   "pygments_lexer": "ipython3",
   "version": "3.8.5"
  }
 },
 "nbformat": 4,
 "nbformat_minor": 4
}
