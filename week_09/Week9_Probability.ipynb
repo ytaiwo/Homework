{
 "cells": [
  {
   "cell_type": "markdown",
   "metadata": {},
   "source": [
    "# Probability Homework"
   ]
  },
  {
   "cell_type": "code",
   "execution_count": 38,
   "metadata": {},
   "outputs": [
    {
     "data": {
      "text/html": [
       "<div>\n",
       "<style scoped>\n",
       "    .dataframe tbody tr th:only-of-type {\n",
       "        vertical-align: middle;\n",
       "    }\n",
       "\n",
       "    .dataframe tbody tr th {\n",
       "        vertical-align: top;\n",
       "    }\n",
       "\n",
       "    .dataframe thead th {\n",
       "        text-align: right;\n",
       "    }\n",
       "</style>\n",
       "<table border=\"1\" class=\"dataframe\">\n",
       "  <thead>\n",
       "    <tr style=\"text-align: right;\">\n",
       "      <th></th>\n",
       "      <th>id</th>\n",
       "      <th>name</th>\n",
       "      <th>host_id</th>\n",
       "      <th>host_name</th>\n",
       "      <th>neighbourhood_group</th>\n",
       "      <th>neighbourhood</th>\n",
       "      <th>latitude</th>\n",
       "      <th>longitude</th>\n",
       "      <th>room_type</th>\n",
       "      <th>price</th>\n",
       "      <th>minimum_nights</th>\n",
       "      <th>number_of_reviews</th>\n",
       "      <th>last_review</th>\n",
       "      <th>reviews_per_month</th>\n",
       "      <th>calculated_host_listings_count</th>\n",
       "      <th>availability_365</th>\n",
       "    </tr>\n",
       "  </thead>\n",
       "  <tbody>\n",
       "    <tr>\n",
       "      <th>0</th>\n",
       "      <td>36666</td>\n",
       "      <td>Mo's Cozy Casa w/ veranda &amp; access to dock</td>\n",
       "      <td>157752</td>\n",
       "      <td>Monique</td>\n",
       "      <td>Belize</td>\n",
       "      <td>Belize Islands</td>\n",
       "      <td>17.74786</td>\n",
       "      <td>-88.02398</td>\n",
       "      <td>Entire home/apt</td>\n",
       "      <td>141</td>\n",
       "      <td>3</td>\n",
       "      <td>250</td>\n",
       "      <td>2/23/2021</td>\n",
       "      <td>2.00</td>\n",
       "      <td>5</td>\n",
       "      <td>225</td>\n",
       "    </tr>\n",
       "    <tr>\n",
       "      <th>1</th>\n",
       "      <td>36690</td>\n",
       "      <td>Mo's Cozy Cabana w/ comfy veranda &amp; access to ...</td>\n",
       "      <td>157752</td>\n",
       "      <td>Monique</td>\n",
       "      <td>Belize</td>\n",
       "      <td>Belize Islands</td>\n",
       "      <td>17.74832</td>\n",
       "      <td>-88.02474</td>\n",
       "      <td>Entire home/apt</td>\n",
       "      <td>71</td>\n",
       "      <td>3</td>\n",
       "      <td>316</td>\n",
       "      <td>2/19/2021</td>\n",
       "      <td>2.46</td>\n",
       "      <td>5</td>\n",
       "      <td>164</td>\n",
       "    </tr>\n",
       "    <tr>\n",
       "      <th>2</th>\n",
       "      <td>108932</td>\n",
       "      <td>Purple House eco solar  w/ ocean &amp; wildlife views</td>\n",
       "      <td>563377</td>\n",
       "      <td>Michael</td>\n",
       "      <td>Belize</td>\n",
       "      <td>Belize Islands</td>\n",
       "      <td>17.73221</td>\n",
       "      <td>-88.03824</td>\n",
       "      <td>Entire home/apt</td>\n",
       "      <td>191</td>\n",
       "      <td>2</td>\n",
       "      <td>30</td>\n",
       "      <td>3/14/2020</td>\n",
       "      <td>0.78</td>\n",
       "      <td>1</td>\n",
       "      <td>364</td>\n",
       "    </tr>\n",
       "    <tr>\n",
       "      <th>3</th>\n",
       "      <td>110483</td>\n",
       "      <td>Michelo's fuchsia suite</td>\n",
       "      <td>567809</td>\n",
       "      <td>Michel</td>\n",
       "      <td>Stann Creek</td>\n",
       "      <td>Stann Creek Mainland</td>\n",
       "      <td>16.52114</td>\n",
       "      <td>-88.36926</td>\n",
       "      <td>Hotel room</td>\n",
       "      <td>121</td>\n",
       "      <td>1</td>\n",
       "      <td>27</td>\n",
       "      <td>2/24/2020</td>\n",
       "      <td>0.29</td>\n",
       "      <td>3</td>\n",
       "      <td>331</td>\n",
       "    </tr>\n",
       "    <tr>\n",
       "      <th>4</th>\n",
       "      <td>120115</td>\n",
       "      <td>Seaside Villas Second Floor Unit  #4</td>\n",
       "      <td>604999</td>\n",
       "      <td>Bobbi</td>\n",
       "      <td>Belize</td>\n",
       "      <td>Belize Islands</td>\n",
       "      <td>17.74166</td>\n",
       "      <td>-88.02395</td>\n",
       "      <td>Entire home/apt</td>\n",
       "      <td>343</td>\n",
       "      <td>1</td>\n",
       "      <td>30</td>\n",
       "      <td>3/18/2020</td>\n",
       "      <td>0.64</td>\n",
       "      <td>22</td>\n",
       "      <td>203</td>\n",
       "    </tr>\n",
       "  </tbody>\n",
       "</table>\n",
       "</div>"
      ],
      "text/plain": [
       "       id                                               name  host_id  \\\n",
       "0   36666         Mo's Cozy Casa w/ veranda & access to dock   157752   \n",
       "1   36690  Mo's Cozy Cabana w/ comfy veranda & access to ...   157752   \n",
       "2  108932  Purple House eco solar  w/ ocean & wildlife views   563377   \n",
       "3  110483                            Michelo's fuchsia suite   567809   \n",
       "4  120115               Seaside Villas Second Floor Unit  #4   604999   \n",
       "\n",
       "  host_name neighbourhood_group         neighbourhood  latitude  longitude  \\\n",
       "0   Monique              Belize        Belize Islands  17.74786  -88.02398   \n",
       "1   Monique              Belize        Belize Islands  17.74832  -88.02474   \n",
       "2   Michael              Belize        Belize Islands  17.73221  -88.03824   \n",
       "3    Michel         Stann Creek  Stann Creek Mainland  16.52114  -88.36926   \n",
       "4     Bobbi              Belize        Belize Islands  17.74166  -88.02395   \n",
       "\n",
       "         room_type  price  minimum_nights  number_of_reviews last_review  \\\n",
       "0  Entire home/apt    141               3                250   2/23/2021   \n",
       "1  Entire home/apt     71               3                316   2/19/2021   \n",
       "2  Entire home/apt    191               2                 30   3/14/2020   \n",
       "3       Hotel room    121               1                 27   2/24/2020   \n",
       "4  Entire home/apt    343               1                 30   3/18/2020   \n",
       "\n",
       "   reviews_per_month  calculated_host_listings_count  availability_365  \n",
       "0               2.00                               5               225  \n",
       "1               2.46                               5               164  \n",
       "2               0.78                               1               364  \n",
       "3               0.29                               3               331  \n",
       "4               0.64                              22               203  "
      ]
     },
     "execution_count": 38,
     "metadata": {},
     "output_type": "execute_result"
    }
   ],
   "source": [
    "import numpy as np\n",
    "import pandas as pd\n",
    "import matplotlib.pyplot as plt\n",
    "from scipy.stats import uniform, norm\n",
    "\n",
    "belize = pd.read_csv('../belize_airbnb_listings.csv')\n",
    "belize.head()"
   ]
  },
  {
   "cell_type": "markdown",
   "metadata": {},
   "source": [
    "##### 1.\tCreate two histograms in a subplot (vertical or horizontal is fine) that show the distribution of reviews_per_month and number_of_reviews in Belize Airbnb data \n",
    "   ##### a.\tHow do you choose your bin size?"
   ]
  },
  {
   "cell_type": "code",
   "execution_count": 12,
   "metadata": {},
   "outputs": [
    {
     "data": {
      "text/plain": [
       "(array([2.408e+03, 2.220e+02, 6.700e+01, 4.800e+01, 2.300e+01, 1.500e+01,\n",
       "        9.000e+00, 2.000e+00, 1.000e+00, 1.000e+00]),\n",
       " array([  0. ,  31.6,  63.2,  94.8, 126.4, 158. , 189.6, 221.2, 252.8,\n",
       "        284.4, 316. ]),\n",
       " <BarContainer object of 10 artists>)"
      ]
     },
     "execution_count": 12,
     "metadata": {},
     "output_type": "execute_result"
    },
    {
     "data": {
      "image/png": "[encoded data removed]",
      "text/plain": [
       "<Figure size 432x288 with 2 Axes>"
      ]
     },
     "metadata": {
      "needs_background": "light"
     },
     "output_type": "display_data"
    }
   ],
   "source": [
    "fig, ax = plt.subplots(2)\n",
    "\n",
    "ax[0].hist(belize['reviews_per_month'])\n",
    "ax[1].hist(belize['number_of_reviews'])"
   ]
  },
  {
   "attachments": {},
   "cell_type": "markdown",
   "metadata": {},
   "source": [
    "##### 2.\tCreate a box and whisker plot for availability_365. What does this show you?"
   ]
  },
  {
   "cell_type": "code",
   "execution_count": 13,
   "metadata": {},
   "outputs": [
    {
     "data": {
      "image/png": "[encoded data removed]",
      "text/plain": [
       "<Figure size 432x288 with 1 Axes>"
      ]
     },
     "metadata": {
      "needs_background": "light"
     },
     "output_type": "display_data"
    }
   ],
   "source": [
    "fig, ax = plt.subplots()\n",
    "ax.boxplot(belize['availability_365'])\n",
    "ax.set_title(\"Box and Whisker Plot for Availability\")\n",
    "plt.show()"
   ]
  },
  {
   "cell_type": "markdown",
   "metadata": {},
   "source": [
    "##### 3. What is the probability that the price for an Airbnb is under $50?"
   ]
  },
  {
   "cell_type": "code",
   "execution_count": 16,
   "metadata": {},
   "outputs": [
    {
     "data": {
      "text/plain": [
       "0.002544960977265015"
      ]
     },
     "execution_count": 16,
     "metadata": {},
     "output_type": "execute_result"
    }
   ],
   "source": [
    "price_min = belize['price'].min()\n",
    "price_max = belize['price'].max()\n",
    "\n",
    "uniform.cdf(50, price_min, price_max)"
   ]
  },
  {
   "attachments": {},
   "cell_type": "markdown",
   "metadata": {},
   "source": [
    "##### 4.\tCalculate the sample variance and standard deviation for all the numerical columns in the same output. \n",
    "   ##### a.\tWhy sample variance and not population variance?\n",
    "   ##### b.\tWhat is your takeaway for each metric?\n",
    "   ##### c.\tWhat are the scales of measurement for each of these values? \n"
   ]
  },
  {
   "cell_type": "code",
   "execution_count": 24,
   "metadata": {},
   "outputs": [
    {
     "data": {
      "text/html": [
       "<div>\n",
       "<style scoped>\n",
       "    .dataframe tbody tr th:only-of-type {\n",
       "        vertical-align: middle;\n",
       "    }\n",
       "\n",
       "    .dataframe tbody tr th {\n",
       "        vertical-align: top;\n",
       "    }\n",
       "\n",
       "    .dataframe thead th {\n",
       "        text-align: right;\n",
       "    }\n",
       "</style>\n",
       "<table border=\"1\" class=\"dataframe\">\n",
       "  <thead>\n",
       "    <tr style=\"text-align: right;\">\n",
       "      <th></th>\n",
       "      <th>id</th>\n",
       "      <th>host_id</th>\n",
       "      <th>latitude</th>\n",
       "      <th>longitude</th>\n",
       "      <th>price</th>\n",
       "      <th>minimum_nights</th>\n",
       "      <th>number_of_reviews</th>\n",
       "      <th>reviews_per_month</th>\n",
       "      <th>calculated_host_listings_count</th>\n",
       "      <th>availability_365</th>\n",
       "    </tr>\n",
       "  </thead>\n",
       "  <tbody>\n",
       "    <tr>\n",
       "      <th>var</th>\n",
       "      <td>1.661428e+14</td>\n",
       "      <td>1.036327e+16</td>\n",
       "      <td>0.288841</td>\n",
       "      <td>0.147361</td>\n",
       "      <td>317109.568066</td>\n",
       "      <td>32.147122</td>\n",
       "      <td>919.773508</td>\n",
       "      <td>0.438448</td>\n",
       "      <td>2674.046405</td>\n",
       "      <td>14548.613157</td>\n",
       "    </tr>\n",
       "    <tr>\n",
       "      <th>std</th>\n",
       "      <td>1.288964e+07</td>\n",
       "      <td>1.018001e+08</td>\n",
       "      <td>0.537440</td>\n",
       "      <td>0.383876</td>\n",
       "      <td>563.124825</td>\n",
       "      <td>5.669843</td>\n",
       "      <td>30.327768</td>\n",
       "      <td>0.662154</td>\n",
       "      <td>51.711183</td>\n",
       "      <td>120.617632</td>\n",
       "    </tr>\n",
       "  </tbody>\n",
       "</table>\n",
       "</div>"
      ],
      "text/plain": [
       "               id       host_id  latitude  longitude          price  \\\n",
       "var  1.661428e+14  1.036327e+16  0.288841   0.147361  317109.568066   \n",
       "std  1.288964e+07  1.018001e+08  0.537440   0.383876     563.124825   \n",
       "\n",
       "     minimum_nights  number_of_reviews  reviews_per_month  \\\n",
       "var       32.147122         919.773508           0.438448   \n",
       "std        5.669843          30.327768           0.662154   \n",
       "\n",
       "     calculated_host_listings_count  availability_365  \n",
       "var                     2674.046405      14548.613157  \n",
       "std                       51.711183        120.617632  "
      ]
     },
     "execution_count": 24,
     "metadata": {},
     "output_type": "execute_result"
    }
   ],
   "source": [
    "belize.agg([np.var, np.std])"
   ]
  },
  {
   "attachments": {},
   "cell_type": "markdown",
   "metadata": {},
   "source": [
    "##### 5.\tWhat percent of Airbnb listings in Belize are available 360 days a year or more?\n",
    "##### a.\t360 days or less?\n",
    "##### b.\tWhat distribution does this data most closely fit?\n"
   ]
  },
  {
   "cell_type": "code",
   "execution_count": 40,
   "metadata": {},
   "outputs": [
    {
     "name": "stdout",
     "output_type": "stream",
     "text": [
      "0.49794714370879867\n",
      "0.5020528562912013\n"
     ]
    }
   ],
   "source": [
    "belize_mean = belize['price'].mean()\n",
    "belize_std = belize['price'].std()\n",
    "\n",
    "more_360 = 1 - norm.cdf(360, belize_mean, belize_std)\n",
    "print(more_360)\n",
    "\n",
    "less_360 = norm.cdf(360, belize_mean, belize_std)\n",
    "print(less_360)"
   ]
  },
  {
   "attachments": {},
   "cell_type": "markdown",
   "metadata": {},
   "source": [
    "##### 6.\tWhat minimum night count are 75% of Airnbnb listing in Belize greater than?"
   ]
  },
  {
   "cell_type": "code",
   "execution_count": 44,
   "metadata": {},
   "outputs": [
    {
     "data": {
      "text/plain": [
       "6.088199627067947"
      ]
     },
     "execution_count": 44,
     "metadata": {},
     "output_type": "execute_result"
    }
   ],
   "source": [
    "nights_mean = belize['minimum_nights'].mean()\n",
    "nights_std = belize['minimum_nights'].std()\n",
    "\n",
    "norm.ppf(.75, nights_mean, nights_std)"
   ]
  },
  {
   "cell_type": "code",
   "execution_count": null,
   "metadata": {},
   "outputs": [],
   "source": []
  }
 ],
 "metadata": {
  "kernelspec": {
   "display_name": "Python 3",
   "language": "python",
   "name": "python3"
  },
  "language_info": {
   "codemirror_mode": {
    "name": "ipython",
    "version": 3
   },
   "file_extension": ".py",
   "mimetype": "text/x-python",
   "name": "python",
   "nbconvert_exporter": "python",
   "pygments_lexer": "ipython3",
   "version": "3.8.5"
  }
 },
 "nbformat": 4,
 "nbformat_minor": 4
}
