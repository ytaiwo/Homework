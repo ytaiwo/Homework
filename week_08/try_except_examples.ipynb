{
 "cells": [
  {
   "cell_type": "markdown",
   "metadata": {},
   "source": [
    "### Python Bonus Material\n",
    "Useful concepts we did not cover.\n",
    "\n",
    "1. [Try Except Blocks](https://www.w3schools.com/python/python_try_except.asp)\n",
    "- Try/Except blocks run code even if an error is raised. \n"
   ]
  },
  {
   "cell_type": "code",
   "execution_count": 5,
   "metadata": {},
   "outputs": [
    {
     "name": "stdout",
     "output_type": "stream",
     "text": [
      "5.0\n",
      "2.5\n",
      "1.6666666666666667\n",
      "1.25\n"
     ]
    },
    {
     "ename": "ZeroDivisionError",
     "evalue": "division by zero",
     "output_type": "error",
     "traceback": [
      "\u001b[0;31m---------------------------------------------------------------------------\u001b[0m",
      "\u001b[0;31mZeroDivisionError\u001b[0m                         Traceback (most recent call last)",
      "\u001b[0;32m<ipython-input-5-c95f54f77821>\u001b[0m in \u001b[0;36m<module>\u001b[0;34m\u001b[0m\n\u001b[1;32m      3\u001b[0m \u001b[0;31m# gives an error\u001b[0m\u001b[0;34m\u001b[0m\u001b[0;34m\u001b[0m\u001b[0;34m\u001b[0m\u001b[0m\n\u001b[1;32m      4\u001b[0m \u001b[0;32mfor\u001b[0m \u001b[0mi\u001b[0m \u001b[0;32min\u001b[0m \u001b[0msome_list\u001b[0m\u001b[0;34m:\u001b[0m\u001b[0;34m\u001b[0m\u001b[0;34m\u001b[0m\u001b[0m\n\u001b[0;32m----> 5\u001b[0;31m     \u001b[0mprint\u001b[0m\u001b[0;34m(\u001b[0m\u001b[0;36m5\u001b[0m\u001b[0;34m/\u001b[0m\u001b[0mi\u001b[0m\u001b[0;34m)\u001b[0m\u001b[0;34m\u001b[0m\u001b[0;34m\u001b[0m\u001b[0m\n\u001b[0m\u001b[1;32m      6\u001b[0m \u001b[0;34m\u001b[0m\u001b[0m\n",
      "\u001b[0;31mZeroDivisionError\u001b[0m: division by zero"
     ]
    }
   ],
   "source": [
    "some_list = [1,2,3,4,0,5,6]\n",
    "\n",
    "# gives an error\n",
    "for i in some_list:\n",
    "    print(5/i)\n",
    "    "
   ]
  },
  {
   "cell_type": "code",
   "execution_count": 6,
   "metadata": {},
   "outputs": [
    {
     "name": "stdout",
     "output_type": "stream",
     "text": [
      "5.0\n",
      "2.5\n",
      "1.6666666666666667\n",
      "1.25\n",
      "division by zero\n",
      "1.0\n",
      "0.8333333333333334\n"
     ]
    }
   ],
   "source": [
    "# try block to the rescue!\n",
    "for i in some_list:\n",
    "    try:\n",
    "        print(5/i)\n",
    "    except Exception as e:\n",
    "        print(e)"
   ]
  },
  {
   "cell_type": "code",
   "execution_count": 17,
   "metadata": {},
   "outputs": [
    {
     "name": "stdout",
     "output_type": "stream",
     "text": [
      "5.0\n",
      "I run no matter what.\n",
      "2.5\n",
      "I run no matter what.\n",
      "1.6666666666666667\n",
      "I run no matter what.\n",
      "Can't Divide by zero!\n",
      "I run no matter what.\n",
      "Can't divite by that type!\n",
      "I run no matter what.\n",
      "0.5555555555555556\n",
      "I run no matter what.\n"
     ]
    }
   ],
   "source": [
    "#many programmers are 'lazy' and don't properly utilize the try/except block. \n",
    "# Here's an example of a complete block. \n",
    "some_list = [1,2,3,0,'foo',9]\n",
    "\n",
    "for i in some_list:\n",
    "    try: # try the thing that might fail. Only the thing that might fail goes here.\n",
    "        foo = (5/i)\n",
    "    except ZeroDivisionError: # Except specific error\n",
    "        print(\"Can't Divide by zero!\")\n",
    "    except TypeError: # Except specific error\n",
    "        print(\"Can't divite by that type!\")\n",
    "    except Exception as e: #Except all other errors\n",
    "        print(e) \n",
    "    else: # else block runs if try block succeeds!\n",
    "        print(foo)\n",
    "    finally: # Finally block runs no matter what. useful for closing connections or files. \n",
    "        print(\"I run no matter what.\")"
   ]
  },
  {
   "cell_type": "markdown",
   "metadata": {},
   "source": [
    "2. [Files and Context Managers](https://www.geeksforgeeks.org/context-manager-in-python/)"
   ]
  },
  {
   "cell_type": "code",
   "execution_count": 26,
   "metadata": {},
   "outputs": [
    {
     "name": "stdout",
     "output_type": "stream",
     "text": [
      "Hello from jupyter line 0!\n",
      "\n",
      "['Hello from jupyter line 1!\\n', 'Hello from jupyter line 2!\\n', 'Hello from jupyter line 3!\\n', 'Hello from jupyter line 4!\\n']\n"
     ]
    }
   ],
   "source": [
    "# Always use a context manager when opening files\n",
    "\n",
    "with open('newfile.txt', 'w') as file:\n",
    "    for i in range(5):\n",
    "        file.write(f'Hello from jupyter line {i}!\\n')\n",
    "    \n",
    "with open('newfile.txt','r') as file2:\n",
    "    first_line = file2.readline()\n",
    "    print(first_line)\n",
    "    \n",
    "    the_rest = file2.readlines() # this is a list of the lines\n",
    "    print(the_rest)\n",
    "    \n",
    "    "
   ]
  },
  {
   "cell_type": "markdown",
   "metadata": {},
   "source": [
    "3. [List Comprehensions](https://realpython.com/list-comprehension-python/)\n",
    "- Preferred way to modify lists\n",
    "- Can be hard to read if they are too complicated\n",
    "- fastest way to create a list"
   ]
  },
  {
   "cell_type": "code",
   "execution_count": 33,
   "metadata": {},
   "outputs": [
    {
     "name": "stdout",
     "output_type": "stream",
     "text": [
      "[2, 4, 6, 8]\n",
      "[1, 3, 5, 7, 9]\n"
     ]
    }
   ],
   "source": [
    "some_list = [1,2,3,4,5,6,7,8,9]\n",
    "\n",
    "evens = [i for i in some_list if i % 2 == 0]\n",
    "print(evens)\n",
    "\n",
    "odds = [i for i in some_list if i % 2 != 0]\n",
    "print(odds)"
   ]
  },
  {
   "cell_type": "markdown",
   "metadata": {},
   "source": [
    "4. [lambda functions]()\n",
    "- Anonymous functions"
   ]
  },
  {
   "cell_type": "code",
   "execution_count": 42,
   "metadata": {},
   "outputs": [
    {
     "name": "stdout",
     "output_type": "stream",
     "text": [
      "[1, 4, 9, 16, 25]\n"
     ]
    }
   ],
   "source": [
    "some_list = [1,2,3,4,5]\n",
    "\n",
    "foo = map(lambda x : x**2, some_list) # define an anonymous function\n",
    "\n",
    "print(list(foo))"
   ]
  },
  {
   "cell_type": "markdown",
   "metadata": {},
   "source": [
    "5. [Generators](https://realpython.com/introduction-to-python-generators/)\n",
    "- Iterate 1 item at a time. \n",
    "- Can only go forward. \n",
    "- Saves on memory. \n",
    "- Can be a tricky conecpt. "
   ]
  },
  {
   "cell_type": "code",
   "execution_count": 1,
   "metadata": {},
   "outputs": [
    {
     "name": "stdout",
     "output_type": "stream",
     "text": [
      "Hello, I am the integer 0.\n",
      "Hello, I am the integer 1.\n",
      "Hello, I am the integer 2.\n",
      "Hello, I am the integer 3.\n",
      "Hello, I am the integer 4.\n"
     ]
    }
   ],
   "source": [
    "def non_generator():\n",
    "    for i in range(5):\n",
    "        print(f'Hello, I am the integer {i}.')\n",
    "        \n",
    "non_generator() # does everything at once. "
   ]
  },
  {
   "cell_type": "code",
   "execution_count": 4,
   "metadata": {},
   "outputs": [],
   "source": [
    "def generator():\n",
    "    for i in range(5):\n",
    "        yield print(i)\n",
    "        \n",
    "foo = generator() # nothing happens"
   ]
  },
  {
   "cell_type": "code",
   "execution_count": 2,
   "metadata": {},
   "outputs": [
    {
     "name": "stdout",
     "output_type": "stream",
     "text": [
      "0\n",
      "1\n",
      "2\n",
      "3\n",
      "4\n"
     ]
    },
    {
     "ename": "StopIteration",
     "evalue": "",
     "output_type": "error",
     "traceback": [
      "\u001b[0;31m---------------------------------------------------------------------------\u001b[0m",
      "\u001b[0;31mStopIteration\u001b[0m                             Traceback (most recent call last)",
      "\u001b[0;32m<ipython-input-2-d613da7e1587>\u001b[0m in \u001b[0;36m<module>\u001b[0;34m\u001b[0m\n\u001b[1;32m      9\u001b[0m \u001b[0mnext\u001b[0m\u001b[0;34m(\u001b[0m\u001b[0mfoo\u001b[0m\u001b[0;34m)\u001b[0m\u001b[0;34m\u001b[0m\u001b[0;34m\u001b[0m\u001b[0m\n\u001b[1;32m     10\u001b[0m \u001b[0mnext\u001b[0m\u001b[0;34m(\u001b[0m\u001b[0mfoo\u001b[0m\u001b[0;34m)\u001b[0m\u001b[0;34m\u001b[0m\u001b[0;34m\u001b[0m\u001b[0m\n\u001b[0;32m---> 11\u001b[0;31m \u001b[0mnext\u001b[0m\u001b[0;34m(\u001b[0m\u001b[0mfoo\u001b[0m\u001b[0;34m)\u001b[0m \u001b[0;31m# Uh 0h! We have exhausted our generator.\u001b[0m\u001b[0;34m\u001b[0m\u001b[0;34m\u001b[0m\u001b[0m\n\u001b[0m",
      "\u001b[0;31mStopIteration\u001b[0m: "
     ]
    }
   ],
   "source": [
    "next(foo) # use next to access the first value\n",
    "next(foo)\n",
    "next(foo)\n",
    "next(foo)\n",
    "next(foo)\n",
    "next(foo) # Uh 0h! We have exhausted our generator. "
   ]
  },
  {
   "cell_type": "code",
   "execution_count": null,
   "metadata": {},
   "outputs": [],
   "source": [
    "\n"
   ]
  }
 ],
 "metadata": {
  "kernelspec": {
   "display_name": "Python 3",
   "language": "python",
   "name": "python3"
  },
  "language_info": {
   "codemirror_mode": {
    "name": "ipython",
    "version": 3
   },
   "file_extension": ".py",
   "mimetype": "text/x-python",
   "name": "python",
   "nbconvert_exporter": "python",
   "pygments_lexer": "ipython3",
   "version": "3.8.2"
  }
 },
 "nbformat": 4,
 "nbformat_minor": 4
}
